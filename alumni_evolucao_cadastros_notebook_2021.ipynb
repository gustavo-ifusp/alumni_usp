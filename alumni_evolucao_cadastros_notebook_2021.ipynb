{
  "nbformat": 4,
  "nbformat_minor": 0,
  "metadata": {
    "colab": {
      "name": "alumni_evolucao_cadastros_notebook_2021.ipynb",
      "provenance": [],
      "collapsed_sections": [
        "m8B89i_Y0EFe"
      ],
      "authorship_tag": "ABX9TyNb8DQbk/2P764KTZXvN/XW",
      "include_colab_link": true
    },
    "kernelspec": {
      "name": "python3",
      "display_name": "Python 3"
    },
    "language_info": {
      "name": "python"
    }
  },
  "cells": [
    {
      "cell_type": "markdown",
      "metadata": {
        "id": "view-in-github",
        "colab_type": "text"
      },
      "source": [
        "<a href=\"https://colab.research.google.com/github/gustavo-ifusp/alumni_usp_analytics/blob/main/alumni_evolucao_cadastros_notebook_2021.ipynb\" target=\"_parent\"><img src=\"https://colab.research.google.com/assets/colab-badge.svg\" alt=\"Open In Colab\"/></a>"
      ]
    },
    {
      "cell_type": "code",
      "metadata": {
        "id": "rsvX8nNgxZLe",
        "colab": {
          "base_uri": "https://localhost:8080/"
        },
        "outputId": "b561d384-13da-49d8-bb76-42afa4489a9a"
      },
      "source": [
        "pip install tabula-py"
      ],
      "execution_count": null,
      "outputs": [
        {
          "output_type": "stream",
          "name": "stdout",
          "text": [
            "Collecting tabula-py\n",
            "  Downloading tabula_py-2.3.0-py3-none-any.whl (12.0 MB)\n",
            "\u001b[K     |████████████████████████████████| 12.0 MB 102 kB/s \n",
            "\u001b[?25hCollecting distro\n",
            "  Downloading distro-1.6.0-py2.py3-none-any.whl (19 kB)\n",
            "Requirement already satisfied: numpy in /usr/local/lib/python3.7/dist-packages (from tabula-py) (1.19.5)\n",
            "Requirement already satisfied: pandas>=0.25.3 in /usr/local/lib/python3.7/dist-packages (from tabula-py) (1.1.5)\n",
            "Requirement already satisfied: pytz>=2017.2 in /usr/local/lib/python3.7/dist-packages (from pandas>=0.25.3->tabula-py) (2018.9)\n",
            "Requirement already satisfied: python-dateutil>=2.7.3 in /usr/local/lib/python3.7/dist-packages (from pandas>=0.25.3->tabula-py) (2.8.2)\n",
            "Requirement already satisfied: six>=1.5 in /usr/local/lib/python3.7/dist-packages (from python-dateutil>=2.7.3->pandas>=0.25.3->tabula-py) (1.15.0)\n",
            "Installing collected packages: distro, tabula-py\n",
            "Successfully installed distro-1.6.0 tabula-py-2.3.0\n"
          ]
        }
      ]
    },
    {
      "cell_type": "code",
      "metadata": {
        "id": "VV8jIraixafe"
      },
      "source": [
        "import numpy as np\n",
        "import pandas as pd\n",
        "from IPython.display import HTML\n",
        "import matplotlib.pyplot as plt\n",
        "import seaborn as sns\n",
        "import plotly.express as px \n",
        "import re\n",
        "import tabula"
      ],
      "execution_count": null,
      "outputs": []
    },
    {
      "cell_type": "markdown",
      "metadata": {
        "id": "QM1AKAbECdsv"
      },
      "source": [
        "#**Evolução de Cadastros**\n",
        "\n",
        "\n",
        "Responsável: Gustavo de Andrade\n",
        "gustavo@if.usp.br"
      ]
    },
    {
      "cell_type": "code",
      "metadata": {
        "colab": {
          "base_uri": "https://localhost:8080/",
          "height": 422
        },
        "id": "uQtM5F0DIBMq",
        "outputId": "b02c3c0e-2717-4d19-8c97-9b6a7c1f98d5"
      },
      "source": [
        "dados = pd.read_csv(\"evolucao_cadastros.csv\")\n",
        "dados"
      ],
      "execution_count": null,
      "outputs": [
        {
          "output_type": "execute_result",
          "data": {
            "text/html": [
              "<div>\n",
              "<style scoped>\n",
              "    .dataframe tbody tr th:only-of-type {\n",
              "        vertical-align: middle;\n",
              "    }\n",
              "\n",
              "    .dataframe tbody tr th {\n",
              "        vertical-align: top;\n",
              "    }\n",
              "\n",
              "    .dataframe thead th {\n",
              "        text-align: right;\n",
              "    }\n",
              "</style>\n",
              "<table border=\"1\" class=\"dataframe\">\n",
              "  <thead>\n",
              "    <tr style=\"text-align: right;\">\n",
              "      <th></th>\n",
              "      <th>=\"Data de cadastro\";=\"Total\"</th>\n",
              "    </tr>\n",
              "  </thead>\n",
              "  <tbody>\n",
              "    <tr>\n",
              "      <th>0</th>\n",
              "      <td>=\"18/10/2021\";49</td>\n",
              "    </tr>\n",
              "    <tr>\n",
              "      <th>1</th>\n",
              "      <td>=\"17/10/2021\";25</td>\n",
              "    </tr>\n",
              "    <tr>\n",
              "      <th>2</th>\n",
              "      <td>=\"16/10/2021\";18</td>\n",
              "    </tr>\n",
              "    <tr>\n",
              "      <th>3</th>\n",
              "      <td>=\"15/10/2021\";31</td>\n",
              "    </tr>\n",
              "    <tr>\n",
              "      <th>4</th>\n",
              "      <td>=\"14/10/2021\";87</td>\n",
              "    </tr>\n",
              "    <tr>\n",
              "      <th>...</th>\n",
              "      <td>...</td>\n",
              "    </tr>\n",
              "    <tr>\n",
              "      <th>1839</th>\n",
              "      <td>=\"05/10/2016\";41</td>\n",
              "    </tr>\n",
              "    <tr>\n",
              "      <th>1840</th>\n",
              "      <td>=\"04/10/2016\";10</td>\n",
              "    </tr>\n",
              "    <tr>\n",
              "      <th>1841</th>\n",
              "      <td>=\"03/10/2016\";8</td>\n",
              "    </tr>\n",
              "    <tr>\n",
              "      <th>1842</th>\n",
              "      <td>=\"02/10/2016\";1</td>\n",
              "    </tr>\n",
              "    <tr>\n",
              "      <th>1843</th>\n",
              "      <td>=\"01/10/2016\";0</td>\n",
              "    </tr>\n",
              "  </tbody>\n",
              "</table>\n",
              "<p>1844 rows × 1 columns</p>\n",
              "</div>"
            ],
            "text/plain": [
              "     =\"Data de cadastro\";=\"Total\"\n",
              "0                =\"18/10/2021\";49\n",
              "1                =\"17/10/2021\";25\n",
              "2                =\"16/10/2021\";18\n",
              "3                =\"15/10/2021\";31\n",
              "4                =\"14/10/2021\";87\n",
              "...                           ...\n",
              "1839             =\"05/10/2016\";41\n",
              "1840             =\"04/10/2016\";10\n",
              "1841              =\"03/10/2016\";8\n",
              "1842              =\"02/10/2016\";1\n",
              "1843              =\"01/10/2016\";0\n",
              "\n",
              "[1844 rows x 1 columns]"
            ]
          },
          "metadata": {},
          "execution_count": 3
        }
      ]
    },
    {
      "cell_type": "code",
      "metadata": {
        "colab": {
          "base_uri": "https://localhost:8080/"
        },
        "id": "n6d9kzwvo63V",
        "outputId": "488633b7-9ae9-475a-af09-0bf52a0668cd"
      },
      "source": [
        "dados['Datas'], dados['Total'] = dados['=\"Data de cadastro\";=\"Total\"'].str.split(';', 1).str\n",
        "dados.drop(columns =['=\"Data de cadastro\";=\"Total\"'], inplace = True) "
      ],
      "execution_count": null,
      "outputs": [
        {
          "output_type": "stream",
          "name": "stderr",
          "text": [
            "/usr/local/lib/python3.7/dist-packages/ipykernel_launcher.py:1: FutureWarning:\n",
            "\n",
            "Columnar iteration over characters will be deprecated in future releases.\n",
            "\n"
          ]
        }
      ]
    },
    {
      "cell_type": "code",
      "metadata": {
        "id": "aw2ipLjUplAx",
        "colab": {
          "base_uri": "https://localhost:8080/"
        },
        "outputId": "cafb1722-0ece-4043-cf8a-d81de5e040e8"
      },
      "source": [
        "n = 0\n",
        "replace = ''\n",
        "pattern = '=' #Substituir \n",
        "while n<=1843:\n",
        "    string = dados['Datas'][n]\n",
        "    dados['Datas'][n] = re.sub(pattern, replace, string)\n",
        "    n += 1"
      ],
      "execution_count": null,
      "outputs": [
        {
          "output_type": "stream",
          "name": "stderr",
          "text": [
            "/usr/local/lib/python3.7/dist-packages/ipykernel_launcher.py:6: SettingWithCopyWarning:\n",
            "\n",
            "\n",
            "A value is trying to be set on a copy of a slice from a DataFrame\n",
            "\n",
            "See the caveats in the documentation: https://pandas.pydata.org/pandas-docs/stable/user_guide/indexing.html#returning-a-view-versus-a-copy\n",
            "\n"
          ]
        }
      ]
    },
    {
      "cell_type": "code",
      "metadata": {
        "colab": {
          "base_uri": "https://localhost:8080/",
          "height": 422
        },
        "id": "9H2RBBla5xzc",
        "outputId": "80b12dff-cb2b-41a5-b9dd-da24def1623f"
      },
      "source": [
        "dados"
      ],
      "execution_count": null,
      "outputs": [
        {
          "output_type": "execute_result",
          "data": {
            "text/html": [
              "<div>\n",
              "<style scoped>\n",
              "    .dataframe tbody tr th:only-of-type {\n",
              "        vertical-align: middle;\n",
              "    }\n",
              "\n",
              "    .dataframe tbody tr th {\n",
              "        vertical-align: top;\n",
              "    }\n",
              "\n",
              "    .dataframe thead th {\n",
              "        text-align: right;\n",
              "    }\n",
              "</style>\n",
              "<table border=\"1\" class=\"dataframe\">\n",
              "  <thead>\n",
              "    <tr style=\"text-align: right;\">\n",
              "      <th></th>\n",
              "      <th>Datas</th>\n",
              "      <th>Total</th>\n",
              "    </tr>\n",
              "  </thead>\n",
              "  <tbody>\n",
              "    <tr>\n",
              "      <th>0</th>\n",
              "      <td>18/10/2021</td>\n",
              "      <td>49</td>\n",
              "    </tr>\n",
              "    <tr>\n",
              "      <th>1</th>\n",
              "      <td>17/10/2021</td>\n",
              "      <td>25</td>\n",
              "    </tr>\n",
              "    <tr>\n",
              "      <th>2</th>\n",
              "      <td>16/10/2021</td>\n",
              "      <td>18</td>\n",
              "    </tr>\n",
              "    <tr>\n",
              "      <th>3</th>\n",
              "      <td>15/10/2021</td>\n",
              "      <td>31</td>\n",
              "    </tr>\n",
              "    <tr>\n",
              "      <th>4</th>\n",
              "      <td>14/10/2021</td>\n",
              "      <td>87</td>\n",
              "    </tr>\n",
              "    <tr>\n",
              "      <th>...</th>\n",
              "      <td>...</td>\n",
              "      <td>...</td>\n",
              "    </tr>\n",
              "    <tr>\n",
              "      <th>1839</th>\n",
              "      <td>05/10/2016</td>\n",
              "      <td>41</td>\n",
              "    </tr>\n",
              "    <tr>\n",
              "      <th>1840</th>\n",
              "      <td>04/10/2016</td>\n",
              "      <td>10</td>\n",
              "    </tr>\n",
              "    <tr>\n",
              "      <th>1841</th>\n",
              "      <td>03/10/2016</td>\n",
              "      <td>8</td>\n",
              "    </tr>\n",
              "    <tr>\n",
              "      <th>1842</th>\n",
              "      <td>02/10/2016</td>\n",
              "      <td>1</td>\n",
              "    </tr>\n",
              "    <tr>\n",
              "      <th>1843</th>\n",
              "      <td>01/10/2016</td>\n",
              "      <td>0</td>\n",
              "    </tr>\n",
              "  </tbody>\n",
              "</table>\n",
              "<p>1844 rows × 2 columns</p>\n",
              "</div>"
            ],
            "text/plain": [
              "           Datas  Total\n",
              "0     18/10/2021     49\n",
              "1     17/10/2021     25\n",
              "2     16/10/2021     18\n",
              "3     15/10/2021     31\n",
              "4     14/10/2021     87\n",
              "...          ...    ...\n",
              "1839  05/10/2016     41\n",
              "1840  04/10/2016     10\n",
              "1841  03/10/2016      8\n",
              "1842  02/10/2016      1\n",
              "1843  01/10/2016      0\n",
              "\n",
              "[1844 rows x 2 columns]"
            ]
          },
          "metadata": {},
          "execution_count": 11
        }
      ]
    },
    {
      "cell_type": "code",
      "metadata": {
        "id": "QJU5Z2d4plHA"
      },
      "source": [
        "dados['Total'] = dados['Total'].astype('int')\n",
        "dados['Datas'] = pd.to_datetime(dados['Datas'])\n",
        "dados[\"Datas\"] = dados[\"Datas\"].dt.year "
      ],
      "execution_count": null,
      "outputs": []
    },
    {
      "cell_type": "code",
      "metadata": {
        "colab": {
          "base_uri": "https://localhost:8080/",
          "height": 268
        },
        "id": "bB6gVs79v0KQ",
        "outputId": "1310e1e9-8601-40b9-8989-1e3acc4cd350"
      },
      "source": [
        "evol = dados.groupby(['Datas'])['Total'].sum()\n",
        "evol = pd.DataFrame(evol)\n",
        "evol"
      ],
      "execution_count": null,
      "outputs": [
        {
          "output_type": "execute_result",
          "data": {
            "text/html": [
              "<div>\n",
              "<style scoped>\n",
              "    .dataframe tbody tr th:only-of-type {\n",
              "        vertical-align: middle;\n",
              "    }\n",
              "\n",
              "    .dataframe tbody tr th {\n",
              "        vertical-align: top;\n",
              "    }\n",
              "\n",
              "    .dataframe thead th {\n",
              "        text-align: right;\n",
              "    }\n",
              "</style>\n",
              "<table border=\"1\" class=\"dataframe\">\n",
              "  <thead>\n",
              "    <tr style=\"text-align: right;\">\n",
              "      <th></th>\n",
              "      <th>Total</th>\n",
              "    </tr>\n",
              "    <tr>\n",
              "      <th>Datas</th>\n",
              "      <th></th>\n",
              "    </tr>\n",
              "  </thead>\n",
              "  <tbody>\n",
              "    <tr>\n",
              "      <th>2016</th>\n",
              "      <td>3985</td>\n",
              "    </tr>\n",
              "    <tr>\n",
              "      <th>2017</th>\n",
              "      <td>15767</td>\n",
              "    </tr>\n",
              "    <tr>\n",
              "      <th>2018</th>\n",
              "      <td>20036</td>\n",
              "    </tr>\n",
              "    <tr>\n",
              "      <th>2019</th>\n",
              "      <td>14144</td>\n",
              "    </tr>\n",
              "    <tr>\n",
              "      <th>2020</th>\n",
              "      <td>22320</td>\n",
              "    </tr>\n",
              "    <tr>\n",
              "      <th>2021</th>\n",
              "      <td>15893</td>\n",
              "    </tr>\n",
              "  </tbody>\n",
              "</table>\n",
              "</div>"
            ],
            "text/plain": [
              "       Total\n",
              "Datas       \n",
              "2016    3985\n",
              "2017   15767\n",
              "2018   20036\n",
              "2019   14144\n",
              "2020   22320\n",
              "2021   15893"
            ]
          },
          "metadata": {},
          "execution_count": 25
        }
      ]
    },
    {
      "cell_type": "code",
      "metadata": {
        "colab": {
          "base_uri": "https://localhost:8080/",
          "height": 230
        },
        "id": "hBnvJls7xSVR",
        "outputId": "bed5e65c-a469-4176-bd82-1c804f3ddc09"
      },
      "source": [
        "evol = pd.DataFrame([[3985],[19752],[39788],[53932],[76252],[94611]], columns=['Total'], index=[\"2016\", \"2017\",\"2018\",\"2019\",\"2020\",\"2021\"])\n",
        "evol"
      ],
      "execution_count": null,
      "outputs": [
        {
          "output_type": "execute_result",
          "data": {
            "text/html": [
              "<div>\n",
              "<style scoped>\n",
              "    .dataframe tbody tr th:only-of-type {\n",
              "        vertical-align: middle;\n",
              "    }\n",
              "\n",
              "    .dataframe tbody tr th {\n",
              "        vertical-align: top;\n",
              "    }\n",
              "\n",
              "    .dataframe thead th {\n",
              "        text-align: right;\n",
              "    }\n",
              "</style>\n",
              "<table border=\"1\" class=\"dataframe\">\n",
              "  <thead>\n",
              "    <tr style=\"text-align: right;\">\n",
              "      <th></th>\n",
              "      <th>Total</th>\n",
              "    </tr>\n",
              "  </thead>\n",
              "  <tbody>\n",
              "    <tr>\n",
              "      <th>2016</th>\n",
              "      <td>3985</td>\n",
              "    </tr>\n",
              "    <tr>\n",
              "      <th>2017</th>\n",
              "      <td>19752</td>\n",
              "    </tr>\n",
              "    <tr>\n",
              "      <th>2018</th>\n",
              "      <td>39788</td>\n",
              "    </tr>\n",
              "    <tr>\n",
              "      <th>2019</th>\n",
              "      <td>53932</td>\n",
              "    </tr>\n",
              "    <tr>\n",
              "      <th>2020</th>\n",
              "      <td>76252</td>\n",
              "    </tr>\n",
              "    <tr>\n",
              "      <th>2021</th>\n",
              "      <td>94611</td>\n",
              "    </tr>\n",
              "  </tbody>\n",
              "</table>\n",
              "</div>"
            ],
            "text/plain": [
              "      Total\n",
              "2016   3985\n",
              "2017  19752\n",
              "2018  39788\n",
              "2019  53932\n",
              "2020  76252\n",
              "2021  94611"
            ]
          },
          "metadata": {},
          "execution_count": 3
        }
      ]
    },
    {
      "cell_type": "code",
      "metadata": {
        "colab": {
          "base_uri": "https://localhost:8080/",
          "height": 410
        },
        "id": "STHokiLGxSYX",
        "outputId": "6639ce26-9766-49fc-ddda-c265ab355c6e"
      },
      "source": [
        "plt.figure(figsize=(10, 6))\n",
        "sns.barplot(data=evol, x=evol.index, y='Total')\n",
        "plt.title('Inscritros no ALUMNI USP', fontsize=18)"
      ],
      "execution_count": null,
      "outputs": [
        {
          "output_type": "execute_result",
          "data": {
            "text/plain": [
              "Text(0.5, 1.0, 'Inscritros no ALUMNI USP')"
            ]
          },
          "metadata": {},
          "execution_count": 4
        },
        {
          "output_type": "display_data",
          "data": {
            "image/png": "[encoded data removed]",
            "text/plain": [
              "<Figure size 720x432 with 1 Axes>"
            ]
          },
          "metadata": {
            "needs_background": "light"
          }
        }
      ]
    },
    {
      "cell_type": "code",
      "metadata": {
        "colab": {
          "base_uri": "https://localhost:8080/",
          "height": 374
        },
        "id": "3O1D_lN1zjac",
        "outputId": "35b8f939-197b-43d6-efcc-98fbce91fdb2"
      },
      "source": [
        "sns.relplot(data=evol, x=evol.index, y='Total',  kind=\"line\", color=\"r\")\n",
        "plt.ylabel('Alunos Instros no ALUMNI USP', fontsize=14)\n",
        "plt.tick_params(labelsize=16)\n",
        "plt.show()"
      ],
      "execution_count": null,
      "outputs": [
        {
          "output_type": "display_data",
          "data": {
            "image/png": "[encoded data removed]",
            "text/plain": [
              "<Figure size 360x360 with 1 Axes>"
            ]
          },
          "metadata": {
            "needs_background": "light"
          }
        }
      ]
    },
    {
      "cell_type": "markdown",
      "metadata": {
        "id": "o22Qik4eCqB_"
      },
      "source": [
        "**Cadastros por ano**"
      ]
    },
    {
      "cell_type": "code",
      "metadata": {
        "colab": {
          "base_uri": "https://localhost:8080/",
          "height": 426
        },
        "id": "9UPeYFWbCsM3",
        "outputId": "86c230d2-2a3a-44da-bc2f-c45a005db528"
      },
      "source": [
        "plt.figure(figsize=(10, 6))\n",
        "sns.barplot(data=evol, x=evol.index, y='Total')\n",
        "plt.title('Cadastros por ano - ALUMNI USP', fontsize=18)"
      ],
      "execution_count": null,
      "outputs": [
        {
          "output_type": "execute_result",
          "data": {
            "text/plain": [
              "Text(0.5, 1.0, 'Cadastros por ano - ALUMNI USP')"
            ]
          },
          "metadata": {},
          "execution_count": 26
        },
        {
          "output_type": "display_data",
          "data": {
            "image/png": "[encoded data removed]",
            "text/plain": [
              "<Figure size 720x432 with 1 Axes>"
            ]
          },
          "metadata": {
            "needs_background": "light"
          }
        }
      ]
    },
    {
      "cell_type": "markdown",
      "metadata": {
        "id": "df-9WveVBYIo"
      },
      "source": [
        "#**Visualização de cadastrados**<br>\n",
        "modelo lógico:<br>\n",
        "a = Alunos diplomados<br>\n",
        "b = Usuários no Aplicativo Alumni\n",
        "\n",
        "integrantes_alumni = pd.DataFrame( [ [a - b], [b] ], ... )\n",
        "\n",
        "<br>\n",
        "Fonte: https://www.alumni.usp.br/alumniemnumeros/\n"
      ]
    },
    {
      "cell_type": "markdown",
      "metadata": {
        "id": "rkoaEOvbMU44"
      },
      "source": [
        "Os gráficos do data usp em relação a cadastrados e não cadasdtrados estão errados porque estão levando em conta os usuários unicos do alumni, e sim o total de matriculas de pos e graduação, lembrando que existem alumnis que fizeram os dois. Um grande porcentual, que da exatamente a discrepancia apresentada, outra prova é que na tabela mostra o valor correto!"
      ]
    },
    {
      "cell_type": "markdown",
      "metadata": {
        "id": "NrGdpdh2gcl8"
      },
      "source": [
        "a = 327644<br> \n",
        "b = 94611<br>\n",
        "( atualizado em 18/11/2021)"
      ]
    },
    {
      "cell_type": "code",
      "metadata": {
        "colab": {
          "base_uri": "https://localhost:8080/",
          "height": 238
        },
        "id": "3tnHGXreBRlg",
        "outputId": "c51d2318-8243-4651-fbd1-65bbf20d8719"
      },
      "source": [
        "integrantes_alumni = pd.DataFrame([[233157], [94611]], columns=['Total'], index=[\"Sem Cadastro\", \"Cadastrados\"])\n",
        "integrantes_alumni.info()\n",
        "integrantes_alumni"
      ],
      "execution_count": null,
      "outputs": [
        {
          "output_type": "stream",
          "name": "stdout",
          "text": [
            "<class 'pandas.core.frame.DataFrame'>\n",
            "Index: 2 entries, Sem Cadastro to Cadastrados\n",
            "Data columns (total 1 columns):\n",
            " #   Column  Non-Null Count  Dtype\n",
            "---  ------  --------------  -----\n",
            " 0   Total   2 non-null      int64\n",
            "dtypes: int64(1)\n",
            "memory usage: 32.0+ bytes\n"
          ]
        },
        {
          "output_type": "execute_result",
          "data": {
            "text/html": [
              "<div>\n",
              "<style scoped>\n",
              "    .dataframe tbody tr th:only-of-type {\n",
              "        vertical-align: middle;\n",
              "    }\n",
              "\n",
              "    .dataframe tbody tr th {\n",
              "        vertical-align: top;\n",
              "    }\n",
              "\n",
              "    .dataframe thead th {\n",
              "        text-align: right;\n",
              "    }\n",
              "</style>\n",
              "<table border=\"1\" class=\"dataframe\">\n",
              "  <thead>\n",
              "    <tr style=\"text-align: right;\">\n",
              "      <th></th>\n",
              "      <th>Total</th>\n",
              "    </tr>\n",
              "  </thead>\n",
              "  <tbody>\n",
              "    <tr>\n",
              "      <th>Sem Cadastro</th>\n",
              "      <td>233157</td>\n",
              "    </tr>\n",
              "    <tr>\n",
              "      <th>Cadastrados</th>\n",
              "      <td>94611</td>\n",
              "    </tr>\n",
              "  </tbody>\n",
              "</table>\n",
              "</div>"
            ],
            "text/plain": [
              "               Total\n",
              "Sem Cadastro  233157\n",
              "Cadastrados    94611"
            ]
          },
          "metadata": {},
          "execution_count": 5
        }
      ]
    },
    {
      "cell_type": "code",
      "metadata": {
        "colab": {
          "base_uri": "https://localhost:8080/",
          "height": 531
        },
        "id": "0w3eKp_EBXYI",
        "outputId": "580fcbbe-7b4d-4106-e5b8-9af7457735e6"
      },
      "source": [
        "fig = plt.figure(figsize=(12, 8))\n",
        "integrantes_alumni.Total.plot(kind='pie', autopct='%.2f%%', startangle=90,textprops={'fontsize': 16})\n",
        "plt.axis('equal')  # Para deixar o gráfico redondo"
      ],
      "execution_count": null,
      "outputs": [
        {
          "output_type": "execute_result",
          "data": {
            "text/plain": [
              "(-1.1153493050875054,\n",
              " 1.1108279142718527,\n",
              " -1.1179435005585416,\n",
              " 1.1008544524075496)"
            ]
          },
          "metadata": {},
          "execution_count": 7
        },
        {
          "output_type": "display_data",
          "data": {
            "image/png": "[encoded data removed]",
            "text/plain": [
              "<Figure size 864x576 with 1 Axes>"
            ]
          },
          "metadata": {}
        }
      ]
    },
    {
      "cell_type": "markdown",
      "metadata": {
        "id": "wagiduwUE6rY"
      },
      "source": [
        "#**Visualização dos cadastrados por categoria de ensino**<br>\n",
        "modelo lógico:<br>\n",
        "a = Usuários no Aplicativo Alumni<br>\n",
        "b = Usuários no Aplicativo Alumni - Graduação<br>\n",
        "c = Usuários no Aplicativo Alumni - Pós<br>\n",
        "d = Usuários no Aplicativo Alumni - Concluiu Ambos<br>\n",
        "\n",
        "d = (b+c)-a\n",
        "\n",
        "\n",
        "integrantes_alumni = pd.DataFrame( [ [b-d], [c-d], [d], ... )\n",
        "\n",
        "<br>\n",
        "Fonte: https://uspdigital.usp.br/datausp/publico/alumni/alumni.jsp?codmnu=7045\n"
      ]
    },
    {
      "cell_type": "markdown",
      "metadata": {
        "id": "Q9MBBHOHSQXj"
      },
      "source": [
        "**Se (b-d) + (c-d) + (d) == a :**<br>\n",
        "**teste se sanidade ==  True**"
      ]
    },
    {
      "cell_type": "code",
      "metadata": {
        "colab": {
          "base_uri": "https://localhost:8080/",
          "height": 268
        },
        "id": "_fkcB38dFB8y",
        "outputId": "33d52e9a-07eb-443a-cf26-f900697bbf92"
      },
      "source": [
        "integrantes_alumni_engaja = pd.DataFrame([[49182], [27715],[17590]], columns=['Total'], index=[\"Graduação\", \"Pós-Graduação\",\"Concluintes de ambos\"])\n",
        "integrantes_alumni_engaja.info()\n",
        "integrantes_alumni_engaja"
      ],
      "execution_count": null,
      "outputs": [
        {
          "output_type": "stream",
          "name": "stdout",
          "text": [
            "<class 'pandas.core.frame.DataFrame'>\n",
            "Index: 3 entries, Graduação to Concluintes de ambos\n",
            "Data columns (total 1 columns):\n",
            " #   Column  Non-Null Count  Dtype\n",
            "---  ------  --------------  -----\n",
            " 0   Total   3 non-null      int64\n",
            "dtypes: int64(1)\n",
            "memory usage: 48.0+ bytes\n"
          ]
        },
        {
          "output_type": "execute_result",
          "data": {
            "text/html": [
              "<div>\n",
              "<style scoped>\n",
              "    .dataframe tbody tr th:only-of-type {\n",
              "        vertical-align: middle;\n",
              "    }\n",
              "\n",
              "    .dataframe tbody tr th {\n",
              "        vertical-align: top;\n",
              "    }\n",
              "\n",
              "    .dataframe thead th {\n",
              "        text-align: right;\n",
              "    }\n",
              "</style>\n",
              "<table border=\"1\" class=\"dataframe\">\n",
              "  <thead>\n",
              "    <tr style=\"text-align: right;\">\n",
              "      <th></th>\n",
              "      <th>Total</th>\n",
              "    </tr>\n",
              "  </thead>\n",
              "  <tbody>\n",
              "    <tr>\n",
              "      <th>Graduação</th>\n",
              "      <td>49182</td>\n",
              "    </tr>\n",
              "    <tr>\n",
              "      <th>Pós-Graduação</th>\n",
              "      <td>27715</td>\n",
              "    </tr>\n",
              "    <tr>\n",
              "      <th>Concluintes de ambos</th>\n",
              "      <td>17590</td>\n",
              "    </tr>\n",
              "  </tbody>\n",
              "</table>\n",
              "</div>"
            ],
            "text/plain": [
              "                      Total\n",
              "Graduação             49182\n",
              "Pós-Graduação         27715\n",
              "Concluintes de ambos  17590"
            ]
          },
          "metadata": {},
          "execution_count": 8
        }
      ]
    },
    {
      "cell_type": "code",
      "metadata": {
        "colab": {
          "base_uri": "https://localhost:8080/",
          "height": 531
        },
        "id": "BFvTfbplE7F3",
        "outputId": "63506b92-61b9-4434-e014-135f11bb77b8"
      },
      "source": [
        "fig = plt.figure(figsize=(12, 8))\n",
        "integrantes_alumni_engaja.Total.plot(kind='pie', autopct='%.2f%%', startangle=90,textprops={'fontsize': 16})\n",
        "plt.axis('equal')  # Para deixar o gráfico redondo"
      ],
      "execution_count": null,
      "outputs": [
        {
          "output_type": "execute_result",
          "data": {
            "text/plain": [
              "(-1.1074384759655236,\n",
              " 1.1081248213419275,\n",
              " -1.1097454685412989,\n",
              " 1.1004640699305381)"
            ]
          },
          "metadata": {},
          "execution_count": 9
        },
        {
          "output_type": "display_data",
          "data": {
            "image/png": "[encoded data removed]",
            "text/plain": [
              "<Figure size 864x576 with 1 Axes>"
            ]
          },
          "metadata": {}
        }
      ]
    },
    {
      "cell_type": "markdown",
      "metadata": {
        "id": "Rhl9AqD7IFnq"
      },
      "source": [
        "#**Perfil de atuação dos cadastrados.**"
      ]
    },
    {
      "cell_type": "code",
      "metadata": {
        "colab": {
          "base_uri": "https://localhost:8080/",
          "height": 422
        },
        "id": "FdnVBd3jIHHx",
        "outputId": "c02e6f1b-9917-4893-d008-0310ea660a0c"
      },
      "source": [
        "data = pd.read_excel(\"perfil.xlsx\")\n",
        "data"
      ],
      "execution_count": null,
      "outputs": [
        {
          "output_type": "execute_result",
          "data": {
            "text/html": [
              "<div>\n",
              "<style scoped>\n",
              "    .dataframe tbody tr th:only-of-type {\n",
              "        vertical-align: middle;\n",
              "    }\n",
              "\n",
              "    .dataframe tbody tr th {\n",
              "        vertical-align: top;\n",
              "    }\n",
              "\n",
              "    .dataframe thead th {\n",
              "        text-align: right;\n",
              "    }\n",
              "</style>\n",
              "<table border=\"1\" class=\"dataframe\">\n",
              "  <thead>\n",
              "    <tr style=\"text-align: right;\">\n",
              "      <th></th>\n",
              "      <th>Ex-alunos</th>\n",
              "      <th>Sexo</th>\n",
              "      <th>Nível</th>\n",
              "      <th>Ano da titulação</th>\n",
              "      <th>Área de atuação</th>\n",
              "      <th>Distribuição da situação profissional</th>\n",
              "    </tr>\n",
              "  </thead>\n",
              "  <tbody>\n",
              "    <tr>\n",
              "      <th>0</th>\n",
              "      <td>alumni 1</td>\n",
              "      <td>M</td>\n",
              "      <td>Doutorado</td>\n",
              "      <td>2019</td>\n",
              "      <td>Biológicas</td>\n",
              "      <td>NaN</td>\n",
              "    </tr>\n",
              "    <tr>\n",
              "      <th>1</th>\n",
              "      <td>alumni 2</td>\n",
              "      <td>M</td>\n",
              "      <td>Graduação</td>\n",
              "      <td>2011</td>\n",
              "      <td>Biológicas</td>\n",
              "      <td>NaN</td>\n",
              "    </tr>\n",
              "    <tr>\n",
              "      <th>2</th>\n",
              "      <td>alumni 3</td>\n",
              "      <td>M</td>\n",
              "      <td>Graduação</td>\n",
              "      <td>2013</td>\n",
              "      <td>Humanas</td>\n",
              "      <td>NaN</td>\n",
              "    </tr>\n",
              "    <tr>\n",
              "      <th>3</th>\n",
              "      <td>alumni 4</td>\n",
              "      <td>M</td>\n",
              "      <td>Graduação</td>\n",
              "      <td>2016</td>\n",
              "      <td>Humanas</td>\n",
              "      <td>NaN</td>\n",
              "    </tr>\n",
              "    <tr>\n",
              "      <th>4</th>\n",
              "      <td>alumni 5</td>\n",
              "      <td>M</td>\n",
              "      <td>Doutorado</td>\n",
              "      <td>2019</td>\n",
              "      <td>Humanas</td>\n",
              "      <td>Sou Empregado em Instituição Privada</td>\n",
              "    </tr>\n",
              "    <tr>\n",
              "      <th>...</th>\n",
              "      <td>...</td>\n",
              "      <td>...</td>\n",
              "      <td>...</td>\n",
              "      <td>...</td>\n",
              "      <td>...</td>\n",
              "      <td>...</td>\n",
              "    </tr>\n",
              "    <tr>\n",
              "      <th>92768</th>\n",
              "      <td>alumni 92769</td>\n",
              "      <td>F</td>\n",
              "      <td>Doutorado</td>\n",
              "      <td>1996</td>\n",
              "      <td>Biológicas</td>\n",
              "      <td>NaN</td>\n",
              "    </tr>\n",
              "    <tr>\n",
              "      <th>92769</th>\n",
              "      <td>alumni 92770</td>\n",
              "      <td>F</td>\n",
              "      <td>Doutorado</td>\n",
              "      <td>2010</td>\n",
              "      <td>Humanas</td>\n",
              "      <td>NaN</td>\n",
              "    </tr>\n",
              "    <tr>\n",
              "      <th>92770</th>\n",
              "      <td>alumni 92771</td>\n",
              "      <td>F</td>\n",
              "      <td>Mestrado</td>\n",
              "      <td>1985</td>\n",
              "      <td>Exatas</td>\n",
              "      <td>NaN</td>\n",
              "    </tr>\n",
              "    <tr>\n",
              "      <th>92771</th>\n",
              "      <td>alumni 92772</td>\n",
              "      <td>F</td>\n",
              "      <td>Mestrado</td>\n",
              "      <td>2021</td>\n",
              "      <td>Humanas</td>\n",
              "      <td>NaN</td>\n",
              "    </tr>\n",
              "    <tr>\n",
              "      <th>92772</th>\n",
              "      <td>alumni 92773</td>\n",
              "      <td>M</td>\n",
              "      <td>Doutorado</td>\n",
              "      <td>2007</td>\n",
              "      <td>Humanas</td>\n",
              "      <td>NaN</td>\n",
              "    </tr>\n",
              "  </tbody>\n",
              "</table>\n",
              "<p>92773 rows × 6 columns</p>\n",
              "</div>"
            ],
            "text/plain": [
              "          Ex-alunos Sexo  ... Área de atuação  Distribuição da situação profissional\n",
              "0          alumni 1    M  ...      Biológicas                                    NaN\n",
              "1          alumni 2    M  ...      Biológicas                                    NaN\n",
              "2          alumni 3    M  ...         Humanas                                    NaN\n",
              "3          alumni 4    M  ...         Humanas                                    NaN\n",
              "4          alumni 5    M  ...         Humanas   Sou Empregado em Instituição Privada\n",
              "...             ...  ...  ...             ...                                    ...\n",
              "92768  alumni 92769    F  ...      Biológicas                                    NaN\n",
              "92769  alumni 92770    F  ...         Humanas                                    NaN\n",
              "92770  alumni 92771    F  ...          Exatas                                    NaN\n",
              "92771  alumni 92772    F  ...         Humanas                                    NaN\n",
              "92772  alumni 92773    M  ...         Humanas                                    NaN\n",
              "\n",
              "[92773 rows x 6 columns]"
            ]
          },
          "metadata": {},
          "execution_count": 82
        }
      ]
    },
    {
      "cell_type": "markdown",
      "metadata": {
        "id": "9OvqXrn5p6qA"
      },
      "source": [
        "#**Distribuição da situação profissional**"
      ]
    },
    {
      "cell_type": "code",
      "metadata": {
        "id": "o3mQ7ksbE7Iv"
      },
      "source": [
        "data1 =  pd.DataFrame()\n",
        "data1['total'] = data.groupby(by='Distribuição da situação profissional').size()"
      ],
      "execution_count": null,
      "outputs": []
    },
    {
      "cell_type": "code",
      "metadata": {
        "colab": {
          "base_uri": "https://localhost:8080/"
        },
        "id": "PAvbZ2wHq57v",
        "outputId": "a731f00f-9675-4e62-f13b-5a7a92b60984"
      },
      "source": [
        "print(data1)"
      ],
      "execution_count": null,
      "outputs": [
        {
          "output_type": "stream",
          "name": "stdout",
          "text": [
            "                                                  total\n",
            "Distribuição da situação profissional                  \n",
            " Estou Aposentado                                    65\n",
            " Estou Procurando Emprego                           322\n",
            " Nenhuma das anteriores                             513\n",
            " Procuro meu Primeiro Emprego                        96\n",
            " Sou Empreendedor                                   232\n",
            " Sou Empregado em Instituição Privada               815\n",
            " Sou Empregado em Instituição Pública ou Privada    551\n",
            " Sou Estudante                                      184\n",
            " Sou Estudante com Bolsa                            321\n",
            " Sou Profissional Liberal                           385\n",
            " Sou Pós-doutorando                                 199\n",
            " Sou Servidor Público Estadual                      503\n",
            " Sou Servidor Público Federal                       624\n",
            " Sou Servidor Público Municipal                     159\n",
            " Trabalho Fora da minha área de formação             89\n",
            " Trabalho na minha área de formação                1378\n"
          ]
        }
      ]
    },
    {
      "cell_type": "code",
      "metadata": {
        "colab": {
          "base_uri": "https://localhost:8080/"
        },
        "id": "cHL3ro2yuFqH",
        "outputId": "909b396e-fa68-4db5-b772-8c0839e588d9"
      },
      "source": [
        "print(\"Total de respostas = \", df1.total.sum())"
      ],
      "execution_count": null,
      "outputs": [
        {
          "output_type": "stream",
          "name": "stdout",
          "text": [
            "Total de respostas =  6436\n"
          ]
        }
      ]
    },
    {
      "cell_type": "markdown",
      "metadata": {
        "id": "7ZJqGAmEMQCx"
      },
      "source": [
        "Atualizado em 17/11"
      ]
    },
    {
      "cell_type": "markdown",
      "metadata": {
        "id": "BoFOgOPxMIVL"
      },
      "source": [
        "![image.png](data:image/png;base64,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)"
      ]
    },
    {
      "cell_type": "code",
      "metadata": {
        "id": "h3KoiLvlxPcG"
      },
      "source": [
        "file = \"Dashboard_Alumni_USP.pdf\"\n",
        "df2 = pd.DataFrame()\n",
        "df = tabula.read_pdf(file, pages = '1', multiple_tables = True)\n",
        "df2 = df2.append(df, ignore_index=True)"
      ],
      "execution_count": null,
      "outputs": []
    },
    {
      "cell_type": "code",
      "metadata": {
        "colab": {
          "base_uri": "https://localhost:8080/",
          "height": 471
        },
        "id": "5ka--OL3Mw1q",
        "outputId": "51d84137-837c-422c-f9ef-af56be5df17b"
      },
      "source": [
        "df2"
      ],
      "execution_count": null,
      "outputs": [
        {
          "output_type": "execute_result",
          "data": {
            "text/html": [
              "<div>\n",
              "<style scoped>\n",
              "    .dataframe tbody tr th:only-of-type {\n",
              "        vertical-align: middle;\n",
              "    }\n",
              "\n",
              "    .dataframe tbody tr th {\n",
              "        vertical-align: top;\n",
              "    }\n",
              "\n",
              "    .dataframe thead th {\n",
              "        text-align: right;\n",
              "    }\n",
              "</style>\n",
              "<table border=\"1\" class=\"dataframe\">\n",
              "  <thead>\n",
              "    <tr style=\"text-align: right;\">\n",
              "      <th></th>\n",
              "      <th>prof_status</th>\n",
              "      <th>2021</th>\n",
              "      <th>2020</th>\n",
              "      <th>2019</th>\n",
              "      <th>2018</th>\n",
              "      <th>2017</th>\n",
              "      <th>2016</th>\n",
              "      <th>Unnamed: 7</th>\n",
              "      <th>total_geral</th>\n",
              "    </tr>\n",
              "  </thead>\n",
              "  <tbody>\n",
              "    <tr>\n",
              "      <th>1</th>\n",
              "      <td>Sou Servidor Público Municipal</td>\n",
              "      <td>482</td>\n",
              "      <td>541.000</td>\n",
              "      <td>46.000</td>\n",
              "      <td>52.000</td>\n",
              "      <td>90.000</td>\n",
              "      <td>17.0</td>\n",
              "      <td>3</td>\n",
              "      <td>1251</td>\n",
              "    </tr>\n",
              "    <tr>\n",
              "      <th>2</th>\n",
              "      <td>Sou Servidor Público Federal</td>\n",
              "      <td>741</td>\n",
              "      <td>1.159</td>\n",
              "      <td>148.000</td>\n",
              "      <td>238.000</td>\n",
              "      <td>224.000</td>\n",
              "      <td>75.0</td>\n",
              "      <td>5</td>\n",
              "      <td>2590</td>\n",
              "    </tr>\n",
              "    <tr>\n",
              "      <th>3</th>\n",
              "      <td>Sou Servidor Público Estadual</td>\n",
              "      <td>824</td>\n",
              "      <td>1.041</td>\n",
              "      <td>111.000</td>\n",
              "      <td>182.000</td>\n",
              "      <td>174.000</td>\n",
              "      <td>146.0</td>\n",
              "      <td>11</td>\n",
              "      <td>2489</td>\n",
              "    </tr>\n",
              "    <tr>\n",
              "      <th>4</th>\n",
              "      <td>Sou Pós-doutorando</td>\n",
              "      <td>364</td>\n",
              "      <td>466.000</td>\n",
              "      <td>54.000</td>\n",
              "      <td>64.000</td>\n",
              "      <td>67.000</td>\n",
              "      <td>24.0</td>\n",
              "      <td>1</td>\n",
              "      <td>1040</td>\n",
              "    </tr>\n",
              "    <tr>\n",
              "      <th>5</th>\n",
              "      <td>Sou Profissional Liberal</td>\n",
              "      <td>2.556</td>\n",
              "      <td>2.150</td>\n",
              "      <td>167.000</td>\n",
              "      <td>166.000</td>\n",
              "      <td>220.000</td>\n",
              "      <td>45.0</td>\n",
              "      <td>5</td>\n",
              "      <td>5309</td>\n",
              "    </tr>\n",
              "    <tr>\n",
              "      <th>6</th>\n",
              "      <td>Sou Estudante com Bolsa</td>\n",
              "      <td>597</td>\n",
              "      <td>893.000</td>\n",
              "      <td>481.000</td>\n",
              "      <td>658.000</td>\n",
              "      <td>147.000</td>\n",
              "      <td>89.0</td>\n",
              "      <td>5</td>\n",
              "      <td>2870</td>\n",
              "    </tr>\n",
              "    <tr>\n",
              "      <th>7</th>\n",
              "      <td>Sou Estudante</td>\n",
              "      <td>829</td>\n",
              "      <td>880.000</td>\n",
              "      <td>513.000</td>\n",
              "      <td>605.000</td>\n",
              "      <td>147.000</td>\n",
              "      <td>41.0</td>\n",
              "      <td>4</td>\n",
              "      <td>3019</td>\n",
              "    </tr>\n",
              "    <tr>\n",
              "      <th>8</th>\n",
              "      <td>Sou Empregado ou Servidor Público</td>\n",
              "      <td>-</td>\n",
              "      <td>5.632</td>\n",
              "      <td>9.267</td>\n",
              "      <td>13.892</td>\n",
              "      <td>2.942</td>\n",
              "      <td>719.0</td>\n",
              "      <td>115</td>\n",
              "      <td>32567</td>\n",
              "    </tr>\n",
              "    <tr>\n",
              "      <th>9</th>\n",
              "      <td>Sou Empregado</td>\n",
              "      <td>6.153</td>\n",
              "      <td>4.523</td>\n",
              "      <td>419.000</td>\n",
              "      <td>455.000</td>\n",
              "      <td>474.000</td>\n",
              "      <td>196.0</td>\n",
              "      <td>35</td>\n",
              "      <td>12255</td>\n",
              "    </tr>\n",
              "    <tr>\n",
              "      <th>10</th>\n",
              "      <td>Sou Empreendedor</td>\n",
              "      <td>965</td>\n",
              "      <td>1.017</td>\n",
              "      <td>593.000</td>\n",
              "      <td>919.000</td>\n",
              "      <td>290.000</td>\n",
              "      <td>95.0</td>\n",
              "      <td>20</td>\n",
              "      <td>3899</td>\n",
              "    </tr>\n",
              "    <tr>\n",
              "      <th>11</th>\n",
              "      <td>Procuro meu Primeiro Emprego</td>\n",
              "      <td>617</td>\n",
              "      <td>671.000</td>\n",
              "      <td>500.000</td>\n",
              "      <td>449.000</td>\n",
              "      <td>83.000</td>\n",
              "      <td>9.0</td>\n",
              "      <td>-</td>\n",
              "      <td>2329</td>\n",
              "    </tr>\n",
              "    <tr>\n",
              "      <th>12</th>\n",
              "      <td>Nenhuma das anteriores</td>\n",
              "      <td>563</td>\n",
              "      <td>407.000</td>\n",
              "      <td>39.000</td>\n",
              "      <td>40.000</td>\n",
              "      <td>38.000</td>\n",
              "      <td>16.0</td>\n",
              "      <td>1</td>\n",
              "      <td>1104</td>\n",
              "    </tr>\n",
              "    <tr>\n",
              "      <th>13</th>\n",
              "      <td>Estou Procurando Emprego</td>\n",
              "      <td>1.219</td>\n",
              "      <td>1.334</td>\n",
              "      <td>640.000</td>\n",
              "      <td>893.000</td>\n",
              "      <td>237.000</td>\n",
              "      <td>52.0</td>\n",
              "      <td>8</td>\n",
              "      <td>4383</td>\n",
              "    </tr>\n",
              "    <tr>\n",
              "      <th>14</th>\n",
              "      <td>Estou Aposentado</td>\n",
              "      <td>102</td>\n",
              "      <td>165.000</td>\n",
              "      <td>147.000</td>\n",
              "      <td>185.000</td>\n",
              "      <td>95.000</td>\n",
              "      <td>18.0</td>\n",
              "      <td>5</td>\n",
              "      <td>717</td>\n",
              "    </tr>\n",
              "  </tbody>\n",
              "</table>\n",
              "</div>"
            ],
            "text/plain": [
              "                          prof_status   2021  ...  Unnamed: 7  total_geral\n",
              "1      Sou Servidor Público Municipal    482  ...           3         1251\n",
              "2        Sou Servidor Público Federal    741  ...           5         2590\n",
              "3       Sou Servidor Público Estadual    824  ...          11         2489\n",
              "4                  Sou Pós-doutorando    364  ...           1         1040\n",
              "5            Sou Profissional Liberal  2.556  ...           5         5309\n",
              "6             Sou Estudante com Bolsa    597  ...           5         2870\n",
              "7                       Sou Estudante    829  ...           4         3019\n",
              "8   Sou Empregado ou Servidor Público      -  ...         115        32567\n",
              "9                       Sou Empregado  6.153  ...          35        12255\n",
              "10                   Sou Empreendedor    965  ...          20         3899\n",
              "11       Procuro meu Primeiro Emprego    617  ...           -         2329\n",
              "12             Nenhuma das anteriores    563  ...           1         1104\n",
              "13           Estou Procurando Emprego  1.219  ...           8         4383\n",
              "14                   Estou Aposentado    102  ...           5          717\n",
              "\n",
              "[14 rows x 9 columns]"
            ]
          },
          "metadata": {},
          "execution_count": 35
        }
      ]
    },
    {
      "cell_type": "code",
      "metadata": {
        "id": "5ID35MbGxPh4"
      },
      "source": [
        "df2 = df2.rename(columns={'Unnamed: 0': 'prof_status', 'Unnamed: 1':'2021','Unnamed: 2':'2020','Unnamed: 3':'2019','Unnamed: 4':'2018','Unnamed: 5':'2017', 'Unnamed: 6':'2016','Y / Record Count':'total_geral'})\n",
        "df2 = df2[1:15]"
      ],
      "execution_count": null,
      "outputs": []
    },
    {
      "cell_type": "code",
      "metadata": {
        "id": "0jdjJ7bjxuEk"
      },
      "source": [
        "df2 = pd.DataFrame(df2)\n",
        "df2.loc[df2['prof_status'] == 'Sou Pro ssional Liberal', 'prof_status'] = 'Sou Profissional Liberal'"
      ],
      "execution_count": null,
      "outputs": []
    },
    {
      "cell_type": "code",
      "metadata": {
        "id": "AF6kX1VaO12O"
      },
      "source": [
        "df2['total_geral'] = df2['total_geral'].replace(\"1.231\",\"1251\")\n",
        "df2['total_geral'] = df2['total_geral'].replace(\"2.590\",\"2590\")\n",
        "df2['total_geral'] = df2['total_geral'].replace(\"2.489\",\"2489\")\n",
        "df2['total_geral'] = df2['total_geral'].replace(\"1.040\",\"1040\")\n",
        "df2['total_geral'] = df2['total_geral'].replace(\"5.309\",\"5309\")\n",
        "df2['total_geral'] = df2['total_geral'].replace(\"2.870\",\"2870\")\n",
        "df2['total_geral'] = df2['total_geral'].replace(\"3.019\",\"3019\")\n",
        "df2['total_geral'] = df2['total_geral'].replace(\"32.567\",\"32567\")\n",
        "df2['total_geral'] = df2['total_geral'].replace(\"12.255\",\"12255\")\n",
        "df2['total_geral'] = df2['total_geral'].replace(\"3.899\",\"3899\")\n",
        "df2['total_geral'] = df2['total_geral'].replace(\"2.329\",\"2329\")\n",
        "df2['total_geral'] = df2['total_geral'].replace(\"1.104\",\"1104\")\n",
        "df2['total_geral'] = df2['total_geral'].replace(\"4.383\",\"4383\")"
      ],
      "execution_count": null,
      "outputs": []
    },
    {
      "cell_type": "code",
      "metadata": {
        "colab": {
          "base_uri": "https://localhost:8080/",
          "height": 471
        },
        "id": "E8RXoG2jzJZT",
        "outputId": "10ece259-1320-44a6-dfcd-d6bb762db689"
      },
      "source": [
        "df2['total_geral'] = df2['total_geral'].astype('int')\n",
        "df2"
      ],
      "execution_count": null,
      "outputs": [
        {
          "output_type": "execute_result",
          "data": {
            "text/html": [
              "<div>\n",
              "<style scoped>\n",
              "    .dataframe tbody tr th:only-of-type {\n",
              "        vertical-align: middle;\n",
              "    }\n",
              "\n",
              "    .dataframe tbody tr th {\n",
              "        vertical-align: top;\n",
              "    }\n",
              "\n",
              "    .dataframe thead th {\n",
              "        text-align: right;\n",
              "    }\n",
              "</style>\n",
              "<table border=\"1\" class=\"dataframe\">\n",
              "  <thead>\n",
              "    <tr style=\"text-align: right;\">\n",
              "      <th></th>\n",
              "      <th>prof_status</th>\n",
              "      <th>2021</th>\n",
              "      <th>2020</th>\n",
              "      <th>2019</th>\n",
              "      <th>2018</th>\n",
              "      <th>2017</th>\n",
              "      <th>2016</th>\n",
              "      <th>Unnamed: 7</th>\n",
              "      <th>total_geral</th>\n",
              "    </tr>\n",
              "  </thead>\n",
              "  <tbody>\n",
              "    <tr>\n",
              "      <th>1</th>\n",
              "      <td>Sou Servidor Público Municipal</td>\n",
              "      <td>482</td>\n",
              "      <td>541.000</td>\n",
              "      <td>46.000</td>\n",
              "      <td>52.000</td>\n",
              "      <td>90.000</td>\n",
              "      <td>17.0</td>\n",
              "      <td>3</td>\n",
              "      <td>1251</td>\n",
              "    </tr>\n",
              "    <tr>\n",
              "      <th>2</th>\n",
              "      <td>Sou Servidor Público Federal</td>\n",
              "      <td>741</td>\n",
              "      <td>1.159</td>\n",
              "      <td>148.000</td>\n",
              "      <td>238.000</td>\n",
              "      <td>224.000</td>\n",
              "      <td>75.0</td>\n",
              "      <td>5</td>\n",
              "      <td>2590</td>\n",
              "    </tr>\n",
              "    <tr>\n",
              "      <th>3</th>\n",
              "      <td>Sou Servidor Público Estadual</td>\n",
              "      <td>824</td>\n",
              "      <td>1.041</td>\n",
              "      <td>111.000</td>\n",
              "      <td>182.000</td>\n",
              "      <td>174.000</td>\n",
              "      <td>146.0</td>\n",
              "      <td>11</td>\n",
              "      <td>2489</td>\n",
              "    </tr>\n",
              "    <tr>\n",
              "      <th>4</th>\n",
              "      <td>Sou Pós-doutorando</td>\n",
              "      <td>364</td>\n",
              "      <td>466.000</td>\n",
              "      <td>54.000</td>\n",
              "      <td>64.000</td>\n",
              "      <td>67.000</td>\n",
              "      <td>24.0</td>\n",
              "      <td>1</td>\n",
              "      <td>1040</td>\n",
              "    </tr>\n",
              "    <tr>\n",
              "      <th>5</th>\n",
              "      <td>Sou Profissional Liberal</td>\n",
              "      <td>2.556</td>\n",
              "      <td>2.150</td>\n",
              "      <td>167.000</td>\n",
              "      <td>166.000</td>\n",
              "      <td>220.000</td>\n",
              "      <td>45.0</td>\n",
              "      <td>5</td>\n",
              "      <td>5309</td>\n",
              "    </tr>\n",
              "    <tr>\n",
              "      <th>6</th>\n",
              "      <td>Sou Estudante com Bolsa</td>\n",
              "      <td>597</td>\n",
              "      <td>893.000</td>\n",
              "      <td>481.000</td>\n",
              "      <td>658.000</td>\n",
              "      <td>147.000</td>\n",
              "      <td>89.0</td>\n",
              "      <td>5</td>\n",
              "      <td>2870</td>\n",
              "    </tr>\n",
              "    <tr>\n",
              "      <th>7</th>\n",
              "      <td>Sou Estudante</td>\n",
              "      <td>829</td>\n",
              "      <td>880.000</td>\n",
              "      <td>513.000</td>\n",
              "      <td>605.000</td>\n",
              "      <td>147.000</td>\n",
              "      <td>41.0</td>\n",
              "      <td>4</td>\n",
              "      <td>3019</td>\n",
              "    </tr>\n",
              "    <tr>\n",
              "      <th>8</th>\n",
              "      <td>Sou Empregado ou Servidor Público</td>\n",
              "      <td>-</td>\n",
              "      <td>5.632</td>\n",
              "      <td>9.267</td>\n",
              "      <td>13.892</td>\n",
              "      <td>2.942</td>\n",
              "      <td>719.0</td>\n",
              "      <td>115</td>\n",
              "      <td>32567</td>\n",
              "    </tr>\n",
              "    <tr>\n",
              "      <th>9</th>\n",
              "      <td>Sou Empregado</td>\n",
              "      <td>6.153</td>\n",
              "      <td>4.523</td>\n",
              "      <td>419.000</td>\n",
              "      <td>455.000</td>\n",
              "      <td>474.000</td>\n",
              "      <td>196.0</td>\n",
              "      <td>35</td>\n",
              "      <td>12255</td>\n",
              "    </tr>\n",
              "    <tr>\n",
              "      <th>10</th>\n",
              "      <td>Sou Empreendedor</td>\n",
              "      <td>965</td>\n",
              "      <td>1.017</td>\n",
              "      <td>593.000</td>\n",
              "      <td>919.000</td>\n",
              "      <td>290.000</td>\n",
              "      <td>95.0</td>\n",
              "      <td>20</td>\n",
              "      <td>3899</td>\n",
              "    </tr>\n",
              "    <tr>\n",
              "      <th>11</th>\n",
              "      <td>Procuro meu Primeiro Emprego</td>\n",
              "      <td>617</td>\n",
              "      <td>671.000</td>\n",
              "      <td>500.000</td>\n",
              "      <td>449.000</td>\n",
              "      <td>83.000</td>\n",
              "      <td>9.0</td>\n",
              "      <td>-</td>\n",
              "      <td>2329</td>\n",
              "    </tr>\n",
              "    <tr>\n",
              "      <th>12</th>\n",
              "      <td>Nenhuma das anteriores</td>\n",
              "      <td>563</td>\n",
              "      <td>407.000</td>\n",
              "      <td>39.000</td>\n",
              "      <td>40.000</td>\n",
              "      <td>38.000</td>\n",
              "      <td>16.0</td>\n",
              "      <td>1</td>\n",
              "      <td>1104</td>\n",
              "    </tr>\n",
              "    <tr>\n",
              "      <th>13</th>\n",
              "      <td>Estou Procurando Emprego</td>\n",
              "      <td>1.219</td>\n",
              "      <td>1.334</td>\n",
              "      <td>640.000</td>\n",
              "      <td>893.000</td>\n",
              "      <td>237.000</td>\n",
              "      <td>52.0</td>\n",
              "      <td>8</td>\n",
              "      <td>4383</td>\n",
              "    </tr>\n",
              "    <tr>\n",
              "      <th>14</th>\n",
              "      <td>Estou Aposentado</td>\n",
              "      <td>102</td>\n",
              "      <td>165.000</td>\n",
              "      <td>147.000</td>\n",
              "      <td>185.000</td>\n",
              "      <td>95.000</td>\n",
              "      <td>18.0</td>\n",
              "      <td>5</td>\n",
              "      <td>717</td>\n",
              "    </tr>\n",
              "  </tbody>\n",
              "</table>\n",
              "</div>"
            ],
            "text/plain": [
              "                          prof_status   2021  ...  Unnamed: 7  total_geral\n",
              "1      Sou Servidor Público Municipal    482  ...           3         1251\n",
              "2        Sou Servidor Público Federal    741  ...           5         2590\n",
              "3       Sou Servidor Público Estadual    824  ...          11         2489\n",
              "4                  Sou Pós-doutorando    364  ...           1         1040\n",
              "5            Sou Profissional Liberal  2.556  ...           5         5309\n",
              "6             Sou Estudante com Bolsa    597  ...           5         2870\n",
              "7                       Sou Estudante    829  ...           4         3019\n",
              "8   Sou Empregado ou Servidor Público      -  ...         115        32567\n",
              "9                       Sou Empregado  6.153  ...          35        12255\n",
              "10                   Sou Empreendedor    965  ...          20         3899\n",
              "11       Procuro meu Primeiro Emprego    617  ...           -         2329\n",
              "12             Nenhuma das anteriores    563  ...           1         1104\n",
              "13           Estou Procurando Emprego  1.219  ...           8         4383\n",
              "14                   Estou Aposentado    102  ...           5          717\n",
              "\n",
              "[14 rows x 9 columns]"
            ]
          },
          "metadata": {},
          "execution_count": 37
        }
      ]
    },
    {
      "cell_type": "code",
      "metadata": {
        "colab": {
          "base_uri": "https://localhost:8080/",
          "height": 471
        },
        "id": "D2cjYQMhxyCY",
        "outputId": "b094fdc1-2a58-46fb-9f98-f8af2e43b829"
      },
      "source": [
        "df2 = df2.sort_values(by=['total_geral'], ascending=False)\n",
        "df2"
      ],
      "execution_count": null,
      "outputs": [
        {
          "output_type": "execute_result",
          "data": {
            "text/html": [
              "<div>\n",
              "<style scoped>\n",
              "    .dataframe tbody tr th:only-of-type {\n",
              "        vertical-align: middle;\n",
              "    }\n",
              "\n",
              "    .dataframe tbody tr th {\n",
              "        vertical-align: top;\n",
              "    }\n",
              "\n",
              "    .dataframe thead th {\n",
              "        text-align: right;\n",
              "    }\n",
              "</style>\n",
              "<table border=\"1\" class=\"dataframe\">\n",
              "  <thead>\n",
              "    <tr style=\"text-align: right;\">\n",
              "      <th></th>\n",
              "      <th>prof_status</th>\n",
              "      <th>2021</th>\n",
              "      <th>2020</th>\n",
              "      <th>2019</th>\n",
              "      <th>2018</th>\n",
              "      <th>2017</th>\n",
              "      <th>2016</th>\n",
              "      <th>Unnamed: 7</th>\n",
              "      <th>total_geral</th>\n",
              "    </tr>\n",
              "  </thead>\n",
              "  <tbody>\n",
              "    <tr>\n",
              "      <th>8</th>\n",
              "      <td>Sou Empregado ou Servidor Público</td>\n",
              "      <td>-</td>\n",
              "      <td>5.632</td>\n",
              "      <td>9.267</td>\n",
              "      <td>13.892</td>\n",
              "      <td>2.942</td>\n",
              "      <td>719.0</td>\n",
              "      <td>115</td>\n",
              "      <td>32567</td>\n",
              "    </tr>\n",
              "    <tr>\n",
              "      <th>9</th>\n",
              "      <td>Sou Empregado</td>\n",
              "      <td>6.153</td>\n",
              "      <td>4.523</td>\n",
              "      <td>419.000</td>\n",
              "      <td>455.000</td>\n",
              "      <td>474.000</td>\n",
              "      <td>196.0</td>\n",
              "      <td>35</td>\n",
              "      <td>12255</td>\n",
              "    </tr>\n",
              "    <tr>\n",
              "      <th>5</th>\n",
              "      <td>Sou Profissional Liberal</td>\n",
              "      <td>2.556</td>\n",
              "      <td>2.150</td>\n",
              "      <td>167.000</td>\n",
              "      <td>166.000</td>\n",
              "      <td>220.000</td>\n",
              "      <td>45.0</td>\n",
              "      <td>5</td>\n",
              "      <td>5309</td>\n",
              "    </tr>\n",
              "    <tr>\n",
              "      <th>13</th>\n",
              "      <td>Estou Procurando Emprego</td>\n",
              "      <td>1.219</td>\n",
              "      <td>1.334</td>\n",
              "      <td>640.000</td>\n",
              "      <td>893.000</td>\n",
              "      <td>237.000</td>\n",
              "      <td>52.0</td>\n",
              "      <td>8</td>\n",
              "      <td>4383</td>\n",
              "    </tr>\n",
              "    <tr>\n",
              "      <th>10</th>\n",
              "      <td>Sou Empreendedor</td>\n",
              "      <td>965</td>\n",
              "      <td>1.017</td>\n",
              "      <td>593.000</td>\n",
              "      <td>919.000</td>\n",
              "      <td>290.000</td>\n",
              "      <td>95.0</td>\n",
              "      <td>20</td>\n",
              "      <td>3899</td>\n",
              "    </tr>\n",
              "    <tr>\n",
              "      <th>7</th>\n",
              "      <td>Sou Estudante</td>\n",
              "      <td>829</td>\n",
              "      <td>880.000</td>\n",
              "      <td>513.000</td>\n",
              "      <td>605.000</td>\n",
              "      <td>147.000</td>\n",
              "      <td>41.0</td>\n",
              "      <td>4</td>\n",
              "      <td>3019</td>\n",
              "    </tr>\n",
              "    <tr>\n",
              "      <th>6</th>\n",
              "      <td>Sou Estudante com Bolsa</td>\n",
              "      <td>597</td>\n",
              "      <td>893.000</td>\n",
              "      <td>481.000</td>\n",
              "      <td>658.000</td>\n",
              "      <td>147.000</td>\n",
              "      <td>89.0</td>\n",
              "      <td>5</td>\n",
              "      <td>2870</td>\n",
              "    </tr>\n",
              "    <tr>\n",
              "      <th>2</th>\n",
              "      <td>Sou Servidor Público Federal</td>\n",
              "      <td>741</td>\n",
              "      <td>1.159</td>\n",
              "      <td>148.000</td>\n",
              "      <td>238.000</td>\n",
              "      <td>224.000</td>\n",
              "      <td>75.0</td>\n",
              "      <td>5</td>\n",
              "      <td>2590</td>\n",
              "    </tr>\n",
              "    <tr>\n",
              "      <th>3</th>\n",
              "      <td>Sou Servidor Público Estadual</td>\n",
              "      <td>824</td>\n",
              "      <td>1.041</td>\n",
              "      <td>111.000</td>\n",
              "      <td>182.000</td>\n",
              "      <td>174.000</td>\n",
              "      <td>146.0</td>\n",
              "      <td>11</td>\n",
              "      <td>2489</td>\n",
              "    </tr>\n",
              "    <tr>\n",
              "      <th>11</th>\n",
              "      <td>Procuro meu Primeiro Emprego</td>\n",
              "      <td>617</td>\n",
              "      <td>671.000</td>\n",
              "      <td>500.000</td>\n",
              "      <td>449.000</td>\n",
              "      <td>83.000</td>\n",
              "      <td>9.0</td>\n",
              "      <td>-</td>\n",
              "      <td>2329</td>\n",
              "    </tr>\n",
              "    <tr>\n",
              "      <th>1</th>\n",
              "      <td>Sou Servidor Público Municipal</td>\n",
              "      <td>482</td>\n",
              "      <td>541.000</td>\n",
              "      <td>46.000</td>\n",
              "      <td>52.000</td>\n",
              "      <td>90.000</td>\n",
              "      <td>17.0</td>\n",
              "      <td>3</td>\n",
              "      <td>1251</td>\n",
              "    </tr>\n",
              "    <tr>\n",
              "      <th>12</th>\n",
              "      <td>Nenhuma das anteriores</td>\n",
              "      <td>563</td>\n",
              "      <td>407.000</td>\n",
              "      <td>39.000</td>\n",
              "      <td>40.000</td>\n",
              "      <td>38.000</td>\n",
              "      <td>16.0</td>\n",
              "      <td>1</td>\n",
              "      <td>1104</td>\n",
              "    </tr>\n",
              "    <tr>\n",
              "      <th>4</th>\n",
              "      <td>Sou Pós-doutorando</td>\n",
              "      <td>364</td>\n",
              "      <td>466.000</td>\n",
              "      <td>54.000</td>\n",
              "      <td>64.000</td>\n",
              "      <td>67.000</td>\n",
              "      <td>24.0</td>\n",
              "      <td>1</td>\n",
              "      <td>1040</td>\n",
              "    </tr>\n",
              "    <tr>\n",
              "      <th>14</th>\n",
              "      <td>Estou Aposentado</td>\n",
              "      <td>102</td>\n",
              "      <td>165.000</td>\n",
              "      <td>147.000</td>\n",
              "      <td>185.000</td>\n",
              "      <td>95.000</td>\n",
              "      <td>18.0</td>\n",
              "      <td>5</td>\n",
              "      <td>717</td>\n",
              "    </tr>\n",
              "  </tbody>\n",
              "</table>\n",
              "</div>"
            ],
            "text/plain": [
              "                          prof_status   2021  ...  Unnamed: 7  total_geral\n",
              "8   Sou Empregado ou Servidor Público      -  ...         115        32567\n",
              "9                       Sou Empregado  6.153  ...          35        12255\n",
              "5            Sou Profissional Liberal  2.556  ...           5         5309\n",
              "13           Estou Procurando Emprego  1.219  ...           8         4383\n",
              "10                   Sou Empreendedor    965  ...          20         3899\n",
              "7                       Sou Estudante    829  ...           4         3019\n",
              "6             Sou Estudante com Bolsa    597  ...           5         2870\n",
              "2        Sou Servidor Público Federal    741  ...           5         2590\n",
              "3       Sou Servidor Público Estadual    824  ...          11         2489\n",
              "11       Procuro meu Primeiro Emprego    617  ...           -         2329\n",
              "1      Sou Servidor Público Municipal    482  ...           3         1251\n",
              "12             Nenhuma das anteriores    563  ...           1         1104\n",
              "4                  Sou Pós-doutorando    364  ...           1         1040\n",
              "14                   Estou Aposentado    102  ...           5          717\n",
              "\n",
              "[14 rows x 9 columns]"
            ]
          },
          "metadata": {},
          "execution_count": 38
        }
      ]
    },
    {
      "cell_type": "code",
      "metadata": {
        "colab": {
          "base_uri": "https://localhost:8080/",
          "height": 588
        },
        "id": "nzPb8IUtyJc5",
        "outputId": "436072ae-1489-4e5a-b9f5-52f38fbf6806"
      },
      "source": [
        "sns.set(font_scale = 1.24)\n",
        "g = sns.catplot(x=\"total_geral\", y='prof_status', data=df2, height=8, kind=\"bar\", saturation=.5, ci=float)\n",
        "g.set(title = \"Status profissional:\")\n",
        "g.set_axis_labels(\"\", \"\")"
      ],
      "execution_count": null,
      "outputs": [
        {
          "output_type": "execute_result",
          "data": {
            "text/plain": [
              "<seaborn.axisgrid.FacetGrid at 0x7f2b8b528310>"
            ]
          },
          "metadata": {},
          "execution_count": 46
        },
        {
          "output_type": "display_data",
          "data": {
            "image/png": "[encoded data removed]",
            "text/plain": [
              "<Figure size 576x576 with 1 Axes>"
            ]
          },
          "metadata": {}
        }
      ]
    },
    {
      "cell_type": "markdown",
      "metadata": {
        "id": "m8B89i_Y0EFe"
      },
      "source": [
        "#**Área de Atuação**"
      ]
    },
    {
      "cell_type": "code",
      "metadata": {
        "colab": {
          "base_uri": "https://localhost:8080/",
          "height": 422
        },
        "id": "BhhznUxc0oYj",
        "outputId": "19098c30-fe60-4f70-a416-ef40d0cdaea7"
      },
      "source": [
        "data"
      ],
      "execution_count": null,
      "outputs": [
        {
          "output_type": "execute_result",
          "data": {
            "text/html": [
              "<div>\n",
              "<style scoped>\n",
              "    .dataframe tbody tr th:only-of-type {\n",
              "        vertical-align: middle;\n",
              "    }\n",
              "\n",
              "    .dataframe tbody tr th {\n",
              "        vertical-align: top;\n",
              "    }\n",
              "\n",
              "    .dataframe thead th {\n",
              "        text-align: right;\n",
              "    }\n",
              "</style>\n",
              "<table border=\"1\" class=\"dataframe\">\n",
              "  <thead>\n",
              "    <tr style=\"text-align: right;\">\n",
              "      <th></th>\n",
              "      <th>Ex-alunos</th>\n",
              "      <th>Sexo</th>\n",
              "      <th>Nível</th>\n",
              "      <th>Ano da titulação</th>\n",
              "      <th>Área de atuação</th>\n",
              "      <th>Distribuição da situação profissional</th>\n",
              "    </tr>\n",
              "  </thead>\n",
              "  <tbody>\n",
              "    <tr>\n",
              "      <th>0</th>\n",
              "      <td>alumni 1</td>\n",
              "      <td>M</td>\n",
              "      <td>Doutorado</td>\n",
              "      <td>2019</td>\n",
              "      <td>Biológicas</td>\n",
              "      <td>NaN</td>\n",
              "    </tr>\n",
              "    <tr>\n",
              "      <th>1</th>\n",
              "      <td>alumni 2</td>\n",
              "      <td>M</td>\n",
              "      <td>Graduação</td>\n",
              "      <td>2011</td>\n",
              "      <td>Biológicas</td>\n",
              "      <td>NaN</td>\n",
              "    </tr>\n",
              "    <tr>\n",
              "      <th>2</th>\n",
              "      <td>alumni 3</td>\n",
              "      <td>M</td>\n",
              "      <td>Graduação</td>\n",
              "      <td>2013</td>\n",
              "      <td>Humanas</td>\n",
              "      <td>NaN</td>\n",
              "    </tr>\n",
              "    <tr>\n",
              "      <th>3</th>\n",
              "      <td>alumni 4</td>\n",
              "      <td>M</td>\n",
              "      <td>Graduação</td>\n",
              "      <td>2016</td>\n",
              "      <td>Humanas</td>\n",
              "      <td>NaN</td>\n",
              "    </tr>\n",
              "    <tr>\n",
              "      <th>4</th>\n",
              "      <td>alumni 5</td>\n",
              "      <td>M</td>\n",
              "      <td>Doutorado</td>\n",
              "      <td>2019</td>\n",
              "      <td>Humanas</td>\n",
              "      <td>Sou Empregado em Instituição Privada</td>\n",
              "    </tr>\n",
              "    <tr>\n",
              "      <th>...</th>\n",
              "      <td>...</td>\n",
              "      <td>...</td>\n",
              "      <td>...</td>\n",
              "      <td>...</td>\n",
              "      <td>...</td>\n",
              "      <td>...</td>\n",
              "    </tr>\n",
              "    <tr>\n",
              "      <th>92768</th>\n",
              "      <td>alumni 92769</td>\n",
              "      <td>F</td>\n",
              "      <td>Doutorado</td>\n",
              "      <td>1996</td>\n",
              "      <td>Biológicas</td>\n",
              "      <td>NaN</td>\n",
              "    </tr>\n",
              "    <tr>\n",
              "      <th>92769</th>\n",
              "      <td>alumni 92770</td>\n",
              "      <td>F</td>\n",
              "      <td>Doutorado</td>\n",
              "      <td>2010</td>\n",
              "      <td>Humanas</td>\n",
              "      <td>NaN</td>\n",
              "    </tr>\n",
              "    <tr>\n",
              "      <th>92770</th>\n",
              "      <td>alumni 92771</td>\n",
              "      <td>F</td>\n",
              "      <td>Mestrado</td>\n",
              "      <td>1985</td>\n",
              "      <td>Exatas</td>\n",
              "      <td>NaN</td>\n",
              "    </tr>\n",
              "    <tr>\n",
              "      <th>92771</th>\n",
              "      <td>alumni 92772</td>\n",
              "      <td>F</td>\n",
              "      <td>Mestrado</td>\n",
              "      <td>2021</td>\n",
              "      <td>Humanas</td>\n",
              "      <td>NaN</td>\n",
              "    </tr>\n",
              "    <tr>\n",
              "      <th>92772</th>\n",
              "      <td>alumni 92773</td>\n",
              "      <td>M</td>\n",
              "      <td>Doutorado</td>\n",
              "      <td>2007</td>\n",
              "      <td>Humanas</td>\n",
              "      <td>NaN</td>\n",
              "    </tr>\n",
              "  </tbody>\n",
              "</table>\n",
              "<p>92773 rows × 6 columns</p>\n",
              "</div>"
            ],
            "text/plain": [
              "          Ex-alunos Sexo  ... Área de atuação  Distribuição da situação profissional\n",
              "0          alumni 1    M  ...      Biológicas                                    NaN\n",
              "1          alumni 2    M  ...      Biológicas                                    NaN\n",
              "2          alumni 3    M  ...         Humanas                                    NaN\n",
              "3          alumni 4    M  ...         Humanas                                    NaN\n",
              "4          alumni 5    M  ...         Humanas   Sou Empregado em Instituição Privada\n",
              "...             ...  ...  ...             ...                                    ...\n",
              "92768  alumni 92769    F  ...      Biológicas                                    NaN\n",
              "92769  alumni 92770    F  ...         Humanas                                    NaN\n",
              "92770  alumni 92771    F  ...          Exatas                                    NaN\n",
              "92771  alumni 92772    F  ...         Humanas                                    NaN\n",
              "92772  alumni 92773    M  ...         Humanas                                    NaN\n",
              "\n",
              "[92773 rows x 6 columns]"
            ]
          },
          "metadata": {},
          "execution_count": 87
        }
      ]
    },
    {
      "cell_type": "code",
      "metadata": {
        "colab": {
          "base_uri": "https://localhost:8080/",
          "height": 175
        },
        "id": "i5l6aRLsxykN",
        "outputId": "b5f97870-29ed-4b0d-8b75-e95f2cb55ac2"
      },
      "source": [
        "data2 = pd.DataFrame()\n",
        "data2['total'] = data.groupby(by='Área de atuação').size()\n",
        "data2"
      ],
      "execution_count": null,
      "outputs": [
        {
          "output_type": "execute_result",
          "data": {
            "text/html": [
              "<div>\n",
              "<style scoped>\n",
              "    .dataframe tbody tr th:only-of-type {\n",
              "        vertical-align: middle;\n",
              "    }\n",
              "\n",
              "    .dataframe tbody tr th {\n",
              "        vertical-align: top;\n",
              "    }\n",
              "\n",
              "    .dataframe thead th {\n",
              "        text-align: right;\n",
              "    }\n",
              "</style>\n",
              "<table border=\"1\" class=\"dataframe\">\n",
              "  <thead>\n",
              "    <tr style=\"text-align: right;\">\n",
              "      <th></th>\n",
              "      <th>total</th>\n",
              "    </tr>\n",
              "    <tr>\n",
              "      <th>Área de atuação</th>\n",
              "      <th></th>\n",
              "    </tr>\n",
              "  </thead>\n",
              "  <tbody>\n",
              "    <tr>\n",
              "      <th>Biológicas</th>\n",
              "      <td>30117</td>\n",
              "    </tr>\n",
              "    <tr>\n",
              "      <th>Exatas</th>\n",
              "      <td>28987</td>\n",
              "    </tr>\n",
              "    <tr>\n",
              "      <th>Humanas</th>\n",
              "      <td>33669</td>\n",
              "    </tr>\n",
              "  </tbody>\n",
              "</table>\n",
              "</div>"
            ],
            "text/plain": [
              "                 total\n",
              "Área de atuação       \n",
              "Biológicas       30117\n",
              "Exatas           28987\n",
              "Humanas          33669"
            ]
          },
          "metadata": {},
          "execution_count": 90
        }
      ]
    },
    {
      "cell_type": "code",
      "metadata": {
        "colab": {
          "base_uri": "https://localhost:8080/",
          "height": 542
        },
        "id": "nhFhdJNAxyqU",
        "outputId": "1b890d50-2b4f-4a3f-e8a9-4c8d5a853f07"
      },
      "source": [
        "fig = plt.figure(figsize=(12, 8))\n",
        "data2.total.plot(kind='pie', autopct='%.2f%%', startangle=90,textprops={'fontsize': 16}, colors=['khaki', 'darkgoldenrod','orange'])\n",
        "plt.axis('equal')  # Para deixar o gráfico redondo"
      ],
      "execution_count": null,
      "outputs": [
        {
          "output_type": "execute_result",
          "data": {
            "text/plain": [
              "(-1.1073176311391386,\n",
              " 1.1180336241691045,\n",
              " -1.1131285748366346,\n",
              " 1.100625170230316)"
            ]
          },
          "metadata": {},
          "execution_count": 92
        },
        {
          "output_type": "display_data",
          "data": {
            "image/png": "[encoded data removed]",
            "text/plain": [
              "<Figure size 864x576 with 1 Axes>"
            ]
          },
          "metadata": {}
        }
      ]
    },
    {
      "cell_type": "code",
      "metadata": {
        "id": "W0K_T7Fixytd"
      },
      "source": [
        "link = \"https://datastudio.google.com/s/ufY8gOACHTo\" # tentar abrir dataframe atraves do link"
      ],
      "execution_count": null,
      "outputs": []
    },
    {
      "cell_type": "code",
      "metadata": {
        "id": "RaMe0UzCxywk"
      },
      "source": [
        ""
      ],
      "execution_count": null,
      "outputs": []
    },
    {
      "cell_type": "code",
      "metadata": {
        "id": "c0xK171mxyzc"
      },
      "source": [
        ""
      ],
      "execution_count": null,
      "outputs": []
    },
    {
      "cell_type": "code",
      "metadata": {
        "id": "kqjZE7hQpuUR"
      },
      "source": [
        ""
      ],
      "execution_count": null,
      "outputs": []
    },
    {
      "cell_type": "code",
      "metadata": {
        "id": "asfebtYOpuZg"
      },
      "source": [
        ""
      ],
      "execution_count": null,
      "outputs": []
    }
  ]
}