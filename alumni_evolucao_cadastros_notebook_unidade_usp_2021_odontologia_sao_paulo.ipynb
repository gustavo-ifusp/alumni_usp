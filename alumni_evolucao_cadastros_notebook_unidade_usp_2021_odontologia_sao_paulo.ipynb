{
  "nbformat": 4,
  "nbformat_minor": 0,
  "metadata": {
    "colab": {
      "name": "alumni_evolucao_cadastros_notebook_unidade_usp_2021_odontologia_sao_paulo.ipynb",
      "provenance": [],
      "collapsed_sections": [],
      "authorship_tag": "ABX9TyPZXry2ZVDYsjTSCCA2vjmJ",
      "include_colab_link": true
    },
    "kernelspec": {
      "display_name": "Python 3",
      "name": "python3"
    },
    "language_info": {
      "name": "python"
    }
  },
  "cells": [
    {
      "cell_type": "markdown",
      "metadata": {
        "id": "view-in-github",
        "colab_type": "text"
      },
      "source": [
        "<a href=\"https://colab.research.google.com/github/gustavo-ifusp/alumni_usp_analytics/blob/main/alumni_evolucao_cadastros_notebook_unidade_usp_2021_odontologia_sao_paulo.ipynb\" target=\"_parent\"><img src=\"https://colab.research.google.com/assets/colab-badge.svg\" alt=\"Open In Colab\"/></a>"
      ]
    },
    {
      "cell_type": "code",
      "metadata": {
        "id": "xFmgyke5VEWQ"
      },
      "source": [
        "import numpy as np\n",
        "import pandas as pd\n",
        "from IPython.display import HTML\n",
        "import matplotlib.pyplot as plt\n",
        "import seaborn as sns\n",
        "import plotly.express as px \n",
        "import re\n",
        "from datetime import date, time, datetime, timedelta\n",
        "from dateutil.relativedelta import relativedelta"
      ],
      "execution_count": 39,
      "outputs": []
    },
    {
      "cell_type": "markdown",
      "metadata": {
        "id": "l_rQRGuOVIjX"
      },
      "source": [
        "#**Alumni - Odontologia São Paulo.**<br>\n",
        "\n",
        "**Relatório:** https://docs.google.com/document/d/1ayk2Trhf0rB8-6QF7qSnA_pK61oN-UcooWfW_Rx30U4/edit?usp=sharing\n",
        "\n",
        "Atualização: 08/12/2021 <br>\n",
        "\n",
        "Responsável: Gustavo de Andrade<br>\n",
        "gustavo@if.usp.br\n",
        "<br>\n"
      ]
    },
    {
      "cell_type": "markdown",
      "metadata": {
        "id": "jwHeGqBdYkXG"
      },
      "source": [
        "#**O primeiro dataframe é do \"Acesso à plafatorma - Primeiro Acesso\"**"
      ]
    },
    {
      "cell_type": "code",
      "metadata": {
        "id": "UqxaQfMhVabO"
      },
      "source": [
        "dados = pd.read_csv(\"Dashboard Alumni USP_Primeiro Acesso_Tabela dinâmica.csv\")"
      ],
      "execution_count": 40,
      "outputs": []
    },
    {
      "cell_type": "code",
      "metadata": {
        "colab": {
          "base_uri": "https://localhost:8080/",
          "height": 424
        },
        "id": "FH2learCVauc",
        "outputId": "e9e3c282-91d4-4f0b-a601-333ffa5aea7c"
      },
      "source": [
        "dados"
      ],
      "execution_count": 41,
      "outputs": [
        {
          "output_type": "execute_result",
          "data": {
            "text/html": [
              "<div>\n",
              "<style scoped>\n",
              "    .dataframe tbody tr th:only-of-type {\n",
              "        vertical-align: middle;\n",
              "    }\n",
              "\n",
              "    .dataframe tbody tr th {\n",
              "        vertical-align: top;\n",
              "    }\n",
              "\n",
              "    .dataframe thead th {\n",
              "        text-align: right;\n",
              "    }\n",
              "</style>\n",
              "<table border=\"1\" class=\"dataframe\">\n",
              "  <thead>\n",
              "    <tr style=\"text-align: right;\">\n",
              "      <th></th>\n",
              "      <th>Y</th>\n",
              "      <th>M</th>\n",
              "      <th>D</th>\n",
              "      <th>login_status</th>\n",
              "      <th>genre</th>\n",
              "      <th>Record Count</th>\n",
              "    </tr>\n",
              "  </thead>\n",
              "  <tbody>\n",
              "    <tr>\n",
              "      <th>0</th>\n",
              "      <td>2019</td>\n",
              "      <td>12</td>\n",
              "      <td>12</td>\n",
              "      <td>Complete</td>\n",
              "      <td>Female</td>\n",
              "      <td>1</td>\n",
              "    </tr>\n",
              "    <tr>\n",
              "      <th>1</th>\n",
              "      <td>2018</td>\n",
              "      <td>3</td>\n",
              "      <td>2</td>\n",
              "      <td>Complete</td>\n",
              "      <td>Female</td>\n",
              "      <td>1</td>\n",
              "    </tr>\n",
              "    <tr>\n",
              "      <th>2</th>\n",
              "      <td>2018</td>\n",
              "      <td>8</td>\n",
              "      <td>29</td>\n",
              "      <td>Complete</td>\n",
              "      <td>Male</td>\n",
              "      <td>9</td>\n",
              "    </tr>\n",
              "    <tr>\n",
              "      <th>3</th>\n",
              "      <td>2017</td>\n",
              "      <td>1</td>\n",
              "      <td>7</td>\n",
              "      <td>Complete</td>\n",
              "      <td>Female</td>\n",
              "      <td>1</td>\n",
              "    </tr>\n",
              "    <tr>\n",
              "      <th>4</th>\n",
              "      <td>2016</td>\n",
              "      <td>10</td>\n",
              "      <td>27</td>\n",
              "      <td>Incomplete</td>\n",
              "      <td>Female</td>\n",
              "      <td>3</td>\n",
              "    </tr>\n",
              "    <tr>\n",
              "      <th>...</th>\n",
              "      <td>...</td>\n",
              "      <td>...</td>\n",
              "      <td>...</td>\n",
              "      <td>...</td>\n",
              "      <td>...</td>\n",
              "      <td>...</td>\n",
              "    </tr>\n",
              "    <tr>\n",
              "      <th>1203</th>\n",
              "      <td>2021</td>\n",
              "      <td>8</td>\n",
              "      <td>2</td>\n",
              "      <td>Complete</td>\n",
              "      <td>Female</td>\n",
              "      <td>1</td>\n",
              "    </tr>\n",
              "    <tr>\n",
              "      <th>1204</th>\n",
              "      <td>2021</td>\n",
              "      <td>8</td>\n",
              "      <td>3</td>\n",
              "      <td>Complete</td>\n",
              "      <td>Female</td>\n",
              "      <td>1</td>\n",
              "    </tr>\n",
              "    <tr>\n",
              "      <th>1205</th>\n",
              "      <td>2021</td>\n",
              "      <td>8</td>\n",
              "      <td>23</td>\n",
              "      <td>Complete</td>\n",
              "      <td>Male</td>\n",
              "      <td>1</td>\n",
              "    </tr>\n",
              "    <tr>\n",
              "      <th>1206</th>\n",
              "      <td>2021</td>\n",
              "      <td>11</td>\n",
              "      <td>5</td>\n",
              "      <td>Complete</td>\n",
              "      <td>Female</td>\n",
              "      <td>1</td>\n",
              "    </tr>\n",
              "    <tr>\n",
              "      <th>1207</th>\n",
              "      <td>2021</td>\n",
              "      <td>10</td>\n",
              "      <td>28</td>\n",
              "      <td>Incomplete</td>\n",
              "      <td>Male</td>\n",
              "      <td>1</td>\n",
              "    </tr>\n",
              "  </tbody>\n",
              "</table>\n",
              "<p>1208 rows × 6 columns</p>\n",
              "</div>"
            ],
            "text/plain": [
              "         Y   M   D login_status   genre  Record Count\n",
              "0     2019  12  12     Complete  Female             1\n",
              "1     2018   3   2     Complete  Female             1\n",
              "2     2018   8  29     Complete    Male             9\n",
              "3     2017   1   7     Complete  Female             1\n",
              "4     2016  10  27   Incomplete  Female             3\n",
              "...    ...  ..  ..          ...     ...           ...\n",
              "1203  2021   8   2     Complete  Female             1\n",
              "1204  2021   8   3     Complete  Female             1\n",
              "1205  2021   8  23     Complete    Male             1\n",
              "1206  2021  11   5     Complete  Female             1\n",
              "1207  2021  10  28   Incomplete    Male             1\n",
              "\n",
              "[1208 rows x 6 columns]"
            ]
          },
          "metadata": {},
          "execution_count": 41
        }
      ]
    },
    {
      "cell_type": "code",
      "metadata": {
        "id": "CgvVUCrEYeTA"
      },
      "source": [
        "dados1 = pd.DataFrame()\n",
        "dados1['anos'] = dados['Y']\n",
        "dados1['total'] = dados['Record Count']"
      ],
      "execution_count": 42,
      "outputs": []
    },
    {
      "cell_type": "code",
      "metadata": {
        "colab": {
          "base_uri": "https://localhost:8080/",
          "height": 424
        },
        "id": "jePhEaBtY1df",
        "outputId": "e58fc423-bcf0-421f-d1ee-12d31ac97227"
      },
      "source": [
        "dados1"
      ],
      "execution_count": 43,
      "outputs": [
        {
          "output_type": "execute_result",
          "data": {
            "text/html": [
              "<div>\n",
              "<style scoped>\n",
              "    .dataframe tbody tr th:only-of-type {\n",
              "        vertical-align: middle;\n",
              "    }\n",
              "\n",
              "    .dataframe tbody tr th {\n",
              "        vertical-align: top;\n",
              "    }\n",
              "\n",
              "    .dataframe thead th {\n",
              "        text-align: right;\n",
              "    }\n",
              "</style>\n",
              "<table border=\"1\" class=\"dataframe\">\n",
              "  <thead>\n",
              "    <tr style=\"text-align: right;\">\n",
              "      <th></th>\n",
              "      <th>anos</th>\n",
              "      <th>total</th>\n",
              "    </tr>\n",
              "  </thead>\n",
              "  <tbody>\n",
              "    <tr>\n",
              "      <th>0</th>\n",
              "      <td>2019</td>\n",
              "      <td>1</td>\n",
              "    </tr>\n",
              "    <tr>\n",
              "      <th>1</th>\n",
              "      <td>2018</td>\n",
              "      <td>1</td>\n",
              "    </tr>\n",
              "    <tr>\n",
              "      <th>2</th>\n",
              "      <td>2018</td>\n",
              "      <td>9</td>\n",
              "    </tr>\n",
              "    <tr>\n",
              "      <th>3</th>\n",
              "      <td>2017</td>\n",
              "      <td>1</td>\n",
              "    </tr>\n",
              "    <tr>\n",
              "      <th>4</th>\n",
              "      <td>2016</td>\n",
              "      <td>3</td>\n",
              "    </tr>\n",
              "    <tr>\n",
              "      <th>...</th>\n",
              "      <td>...</td>\n",
              "      <td>...</td>\n",
              "    </tr>\n",
              "    <tr>\n",
              "      <th>1203</th>\n",
              "      <td>2021</td>\n",
              "      <td>1</td>\n",
              "    </tr>\n",
              "    <tr>\n",
              "      <th>1204</th>\n",
              "      <td>2021</td>\n",
              "      <td>1</td>\n",
              "    </tr>\n",
              "    <tr>\n",
              "      <th>1205</th>\n",
              "      <td>2021</td>\n",
              "      <td>1</td>\n",
              "    </tr>\n",
              "    <tr>\n",
              "      <th>1206</th>\n",
              "      <td>2021</td>\n",
              "      <td>1</td>\n",
              "    </tr>\n",
              "    <tr>\n",
              "      <th>1207</th>\n",
              "      <td>2021</td>\n",
              "      <td>1</td>\n",
              "    </tr>\n",
              "  </tbody>\n",
              "</table>\n",
              "<p>1208 rows × 2 columns</p>\n",
              "</div>"
            ],
            "text/plain": [
              "      anos  total\n",
              "0     2019      1\n",
              "1     2018      1\n",
              "2     2018      9\n",
              "3     2017      1\n",
              "4     2016      3\n",
              "...    ...    ...\n",
              "1203  2021      1\n",
              "1204  2021      1\n",
              "1205  2021      1\n",
              "1206  2021      1\n",
              "1207  2021      1\n",
              "\n",
              "[1208 rows x 2 columns]"
            ]
          },
          "metadata": {},
          "execution_count": 43
        }
      ]
    },
    {
      "cell_type": "code",
      "metadata": {
        "colab": {
          "base_uri": "https://localhost:8080/",
          "height": 269
        },
        "id": "bB6gVs79v0KQ",
        "outputId": "6d54ecba-d7c1-44a9-a9b9-0e3cfc8d9538"
      },
      "source": [
        "evol = pd.DataFrame()\n",
        "evol['total'] = dados.groupby(['Y'], as_index = True )['Record Count'].sum()\n",
        "evol = pd.DataFrame(evol)\n",
        "evol"
      ],
      "execution_count": 44,
      "outputs": [
        {
          "output_type": "execute_result",
          "data": {
            "text/html": [
              "<div>\n",
              "<style scoped>\n",
              "    .dataframe tbody tr th:only-of-type {\n",
              "        vertical-align: middle;\n",
              "    }\n",
              "\n",
              "    .dataframe tbody tr th {\n",
              "        vertical-align: top;\n",
              "    }\n",
              "\n",
              "    .dataframe thead th {\n",
              "        text-align: right;\n",
              "    }\n",
              "</style>\n",
              "<table border=\"1\" class=\"dataframe\">\n",
              "  <thead>\n",
              "    <tr style=\"text-align: right;\">\n",
              "      <th></th>\n",
              "      <th>total</th>\n",
              "    </tr>\n",
              "    <tr>\n",
              "      <th>Y</th>\n",
              "      <th></th>\n",
              "    </tr>\n",
              "  </thead>\n",
              "  <tbody>\n",
              "    <tr>\n",
              "      <th>2016</th>\n",
              "      <td>150</td>\n",
              "    </tr>\n",
              "    <tr>\n",
              "      <th>2017</th>\n",
              "      <td>350</td>\n",
              "    </tr>\n",
              "    <tr>\n",
              "      <th>2018</th>\n",
              "      <td>326</td>\n",
              "    </tr>\n",
              "    <tr>\n",
              "      <th>2019</th>\n",
              "      <td>283</td>\n",
              "    </tr>\n",
              "    <tr>\n",
              "      <th>2020</th>\n",
              "      <td>403</td>\n",
              "    </tr>\n",
              "    <tr>\n",
              "      <th>2021</th>\n",
              "      <td>274</td>\n",
              "    </tr>\n",
              "  </tbody>\n",
              "</table>\n",
              "</div>"
            ],
            "text/plain": [
              "      total\n",
              "Y          \n",
              "2016    150\n",
              "2017    350\n",
              "2018    326\n",
              "2019    283\n",
              "2020    403\n",
              "2021    274"
            ]
          },
          "metadata": {},
          "execution_count": 44
        }
      ]
    },
    {
      "cell_type": "code",
      "metadata": {
        "colab": {
          "base_uri": "https://localhost:8080/",
          "height": 238
        },
        "id": "Us60sP0veqpC",
        "outputId": "e7e31699-f481-44c0-9480-0517f360f561"
      },
      "source": [
        "evol = pd.DataFrame([[150],[500],[826],[1109],[1512],[1786]], columns=['Total'], index=[\"2016\", \"2017\",\"2018\",\"2019\",\"2020\",\"2021\"])\n",
        "evol"
      ],
      "execution_count": 113,
      "outputs": [
        {
          "output_type": "execute_result",
          "data": {
            "text/html": [
              "<div>\n",
              "<style scoped>\n",
              "    .dataframe tbody tr th:only-of-type {\n",
              "        vertical-align: middle;\n",
              "    }\n",
              "\n",
              "    .dataframe tbody tr th {\n",
              "        vertical-align: top;\n",
              "    }\n",
              "\n",
              "    .dataframe thead th {\n",
              "        text-align: right;\n",
              "    }\n",
              "</style>\n",
              "<table border=\"1\" class=\"dataframe\">\n",
              "  <thead>\n",
              "    <tr style=\"text-align: right;\">\n",
              "      <th></th>\n",
              "      <th>Total</th>\n",
              "    </tr>\n",
              "  </thead>\n",
              "  <tbody>\n",
              "    <tr>\n",
              "      <th>2016</th>\n",
              "      <td>150</td>\n",
              "    </tr>\n",
              "    <tr>\n",
              "      <th>2017</th>\n",
              "      <td>500</td>\n",
              "    </tr>\n",
              "    <tr>\n",
              "      <th>2018</th>\n",
              "      <td>826</td>\n",
              "    </tr>\n",
              "    <tr>\n",
              "      <th>2019</th>\n",
              "      <td>1109</td>\n",
              "    </tr>\n",
              "    <tr>\n",
              "      <th>2020</th>\n",
              "      <td>1512</td>\n",
              "    </tr>\n",
              "    <tr>\n",
              "      <th>2021</th>\n",
              "      <td>1786</td>\n",
              "    </tr>\n",
              "  </tbody>\n",
              "</table>\n",
              "</div>"
            ],
            "text/plain": [
              "      Total\n",
              "2016    150\n",
              "2017    500\n",
              "2018    826\n",
              "2019   1109\n",
              "2020   1512\n",
              "2021   1786"
            ]
          },
          "metadata": {},
          "execution_count": 113
        }
      ]
    },
    {
      "cell_type": "code",
      "metadata": {
        "colab": {
          "base_uri": "https://localhost:8080/",
          "height": 418
        },
        "id": "QjgukzNTfMxB",
        "outputId": "f7d241d2-77c1-4fac-e493-6ebd7cad7b8b"
      },
      "source": [
        "plt.figure(figsize=(10, 6))\n",
        "sns.barplot(data=evol, x=evol.index, y='Total')\n",
        "plt.title('Inscritros no ALUMNI - Odontologia - São Paulo', fontsize=18)"
      ],
      "execution_count": 116,
      "outputs": [
        {
          "output_type": "execute_result",
          "data": {
            "text/plain": [
              "Text(0.5, 1.0, 'Inscritros no ALUMNI - Odontologia - São Paulo')"
            ]
          },
          "metadata": {},
          "execution_count": 116
        },
        {
          "output_type": "display_data",
          "data": {
            "image/png": "[encoded data removed]",
            "text/plain": [
              "<Figure size 720x432 with 1 Axes>"
            ]
          },
          "metadata": {}
        }
      ]
    },
    {
      "cell_type": "code",
      "metadata": {
        "colab": {
          "base_uri": "https://localhost:8080/",
          "height": 437
        },
        "id": "K8e5X7LoXJ9Q",
        "outputId": "5341c2dc-2654-4dec-b3ee-ac8eb9ff192f"
      },
      "source": [
        "plt.figure(figsize=(10, 6))\n",
        "sns.barplot(data=dados1, x='anos', y='total', estimator=sum)\n",
        "plt.title('Inscritros no ALUMNI - Odontologia - São Paulo', fontsize=18)"
      ],
      "execution_count": 117,
      "outputs": [
        {
          "output_type": "execute_result",
          "data": {
            "text/plain": [
              "Text(0.5, 1.0, 'Inscritros no ALUMNI - Odontologia - São Paulo')"
            ]
          },
          "metadata": {},
          "execution_count": 117
        },
        {
          "output_type": "display_data",
          "data": {
            "image/png": "[encoded data removed]",
            "text/plain": [
              "<Figure size 720x432 with 1 Axes>"
            ]
          },
          "metadata": {}
        }
      ]
    },
    {
      "cell_type": "code",
      "metadata": {
        "colab": {
          "base_uri": "https://localhost:8080/"
        },
        "id": "d_vyKyNUJk_q",
        "outputId": "de8eccd4-7ddd-4bf7-d94f-5362af69a70b"
      },
      "source": [
        "dados.info()"
      ],
      "execution_count": 48,
      "outputs": [
        {
          "output_type": "stream",
          "name": "stdout",
          "text": [
            "<class 'pandas.core.frame.DataFrame'>\n",
            "RangeIndex: 1208 entries, 0 to 1207\n",
            "Data columns (total 6 columns):\n",
            " #   Column        Non-Null Count  Dtype \n",
            "---  ------        --------------  ----- \n",
            " 0   Y             1208 non-null   int64 \n",
            " 1   M             1208 non-null   int64 \n",
            " 2   D             1208 non-null   int64 \n",
            " 3   login_status  1208 non-null   object\n",
            " 4   genre         1208 non-null   object\n",
            " 5   Record Count  1208 non-null   int64 \n",
            "dtypes: int64(4), object(2)\n",
            "memory usage: 56.8+ KB\n"
          ]
        }
      ]
    },
    {
      "cell_type": "code",
      "metadata": {
        "id": "w-ZTGXUyV_P9"
      },
      "source": [
        "n = 0\n",
        "data_e_hora_em_texto = str(dados['Y'][n]) + '-' + str(dados['M'][n]) +  '-' + str(dados['D'][n])"
      ],
      "execution_count": 49,
      "outputs": []
    },
    {
      "cell_type": "code",
      "metadata": {
        "colab": {
          "base_uri": "https://localhost:8080/",
          "height": 35
        },
        "id": "efQ0vpCfWON7",
        "outputId": "de425217-a0c3-4fb1-ee30-c32e7f362568"
      },
      "source": [
        "data_e_hora_em_texto"
      ],
      "execution_count": 50,
      "outputs": [
        {
          "output_type": "execute_result",
          "data": {
            "application/vnd.google.colaboratory.intrinsic+json": {
              "type": "string"
            },
            "text/plain": [
              "'2019-12-12'"
            ]
          },
          "metadata": {},
          "execution_count": 50
        }
      ]
    },
    {
      "cell_type": "code",
      "metadata": {
        "id": "oDWIxI_EKKCq"
      },
      "source": [
        "n = 0    \n",
        "lista = []\n",
        "while n < len(dados):\n",
        "    lista_insert = str(dados['Y'][n]) + '-' + str(dados['M'][n]) +  '-' + str(dados['D'][n])\n",
        "    lista.insert(n, lista_insert)\n",
        "    n += 1"
      ],
      "execution_count": 51,
      "outputs": []
    },
    {
      "cell_type": "code",
      "metadata": {
        "id": "Zfv-LBn3RG32"
      },
      "source": [
        "dados['data'] = lista"
      ],
      "execution_count": 52,
      "outputs": []
    },
    {
      "cell_type": "code",
      "metadata": {
        "colab": {
          "base_uri": "https://localhost:8080/",
          "height": 424
        },
        "id": "yuf39LWXMrVW",
        "outputId": "97689a6f-7576-4519-b459-ccc44f34c711"
      },
      "source": [
        "dados['data'] = dados['data'].astype('datetime64[ns]')\n",
        "dados"
      ],
      "execution_count": 53,
      "outputs": [
        {
          "output_type": "execute_result",
          "data": {
            "text/html": [
              "<div>\n",
              "<style scoped>\n",
              "    .dataframe tbody tr th:only-of-type {\n",
              "        vertical-align: middle;\n",
              "    }\n",
              "\n",
              "    .dataframe tbody tr th {\n",
              "        vertical-align: top;\n",
              "    }\n",
              "\n",
              "    .dataframe thead th {\n",
              "        text-align: right;\n",
              "    }\n",
              "</style>\n",
              "<table border=\"1\" class=\"dataframe\">\n",
              "  <thead>\n",
              "    <tr style=\"text-align: right;\">\n",
              "      <th></th>\n",
              "      <th>Y</th>\n",
              "      <th>M</th>\n",
              "      <th>D</th>\n",
              "      <th>login_status</th>\n",
              "      <th>genre</th>\n",
              "      <th>Record Count</th>\n",
              "      <th>data</th>\n",
              "    </tr>\n",
              "  </thead>\n",
              "  <tbody>\n",
              "    <tr>\n",
              "      <th>0</th>\n",
              "      <td>2019</td>\n",
              "      <td>12</td>\n",
              "      <td>12</td>\n",
              "      <td>Complete</td>\n",
              "      <td>Female</td>\n",
              "      <td>1</td>\n",
              "      <td>2019-12-12</td>\n",
              "    </tr>\n",
              "    <tr>\n",
              "      <th>1</th>\n",
              "      <td>2018</td>\n",
              "      <td>3</td>\n",
              "      <td>2</td>\n",
              "      <td>Complete</td>\n",
              "      <td>Female</td>\n",
              "      <td>1</td>\n",
              "      <td>2018-03-02</td>\n",
              "    </tr>\n",
              "    <tr>\n",
              "      <th>2</th>\n",
              "      <td>2018</td>\n",
              "      <td>8</td>\n",
              "      <td>29</td>\n",
              "      <td>Complete</td>\n",
              "      <td>Male</td>\n",
              "      <td>9</td>\n",
              "      <td>2018-08-29</td>\n",
              "    </tr>\n",
              "    <tr>\n",
              "      <th>3</th>\n",
              "      <td>2017</td>\n",
              "      <td>1</td>\n",
              "      <td>7</td>\n",
              "      <td>Complete</td>\n",
              "      <td>Female</td>\n",
              "      <td>1</td>\n",
              "      <td>2017-01-07</td>\n",
              "    </tr>\n",
              "    <tr>\n",
              "      <th>4</th>\n",
              "      <td>2016</td>\n",
              "      <td>10</td>\n",
              "      <td>27</td>\n",
              "      <td>Incomplete</td>\n",
              "      <td>Female</td>\n",
              "      <td>3</td>\n",
              "      <td>2016-10-27</td>\n",
              "    </tr>\n",
              "    <tr>\n",
              "      <th>...</th>\n",
              "      <td>...</td>\n",
              "      <td>...</td>\n",
              "      <td>...</td>\n",
              "      <td>...</td>\n",
              "      <td>...</td>\n",
              "      <td>...</td>\n",
              "      <td>...</td>\n",
              "    </tr>\n",
              "    <tr>\n",
              "      <th>1203</th>\n",
              "      <td>2021</td>\n",
              "      <td>8</td>\n",
              "      <td>2</td>\n",
              "      <td>Complete</td>\n",
              "      <td>Female</td>\n",
              "      <td>1</td>\n",
              "      <td>2021-08-02</td>\n",
              "    </tr>\n",
              "    <tr>\n",
              "      <th>1204</th>\n",
              "      <td>2021</td>\n",
              "      <td>8</td>\n",
              "      <td>3</td>\n",
              "      <td>Complete</td>\n",
              "      <td>Female</td>\n",
              "      <td>1</td>\n",
              "      <td>2021-08-03</td>\n",
              "    </tr>\n",
              "    <tr>\n",
              "      <th>1205</th>\n",
              "      <td>2021</td>\n",
              "      <td>8</td>\n",
              "      <td>23</td>\n",
              "      <td>Complete</td>\n",
              "      <td>Male</td>\n",
              "      <td>1</td>\n",
              "      <td>2021-08-23</td>\n",
              "    </tr>\n",
              "    <tr>\n",
              "      <th>1206</th>\n",
              "      <td>2021</td>\n",
              "      <td>11</td>\n",
              "      <td>5</td>\n",
              "      <td>Complete</td>\n",
              "      <td>Female</td>\n",
              "      <td>1</td>\n",
              "      <td>2021-11-05</td>\n",
              "    </tr>\n",
              "    <tr>\n",
              "      <th>1207</th>\n",
              "      <td>2021</td>\n",
              "      <td>10</td>\n",
              "      <td>28</td>\n",
              "      <td>Incomplete</td>\n",
              "      <td>Male</td>\n",
              "      <td>1</td>\n",
              "      <td>2021-10-28</td>\n",
              "    </tr>\n",
              "  </tbody>\n",
              "</table>\n",
              "<p>1208 rows × 7 columns</p>\n",
              "</div>"
            ],
            "text/plain": [
              "         Y   M   D login_status   genre  Record Count       data\n",
              "0     2019  12  12     Complete  Female             1 2019-12-12\n",
              "1     2018   3   2     Complete  Female             1 2018-03-02\n",
              "2     2018   8  29     Complete    Male             9 2018-08-29\n",
              "3     2017   1   7     Complete  Female             1 2017-01-07\n",
              "4     2016  10  27   Incomplete  Female             3 2016-10-27\n",
              "...    ...  ..  ..          ...     ...           ...        ...\n",
              "1203  2021   8   2     Complete  Female             1 2021-08-02\n",
              "1204  2021   8   3     Complete  Female             1 2021-08-03\n",
              "1205  2021   8  23     Complete    Male             1 2021-08-23\n",
              "1206  2021  11   5     Complete  Female             1 2021-11-05\n",
              "1207  2021  10  28   Incomplete    Male             1 2021-10-28\n",
              "\n",
              "[1208 rows x 7 columns]"
            ]
          },
          "metadata": {},
          "execution_count": 53
        }
      ]
    },
    {
      "cell_type": "code",
      "metadata": {
        "colab": {
          "base_uri": "https://localhost:8080/",
          "height": 32
        },
        "id": "XnZwmrNEZT9I",
        "outputId": "24b25d9d-538a-47e2-8e0b-cd16db123be9"
      },
      "source": [
        "data_dados = pd.DataFrame()\n",
        "data_dados"
      ],
      "execution_count": 54,
      "outputs": [
        {
          "output_type": "execute_result",
          "data": {
            "text/html": [
              "<div>\n",
              "<style scoped>\n",
              "    .dataframe tbody tr th:only-of-type {\n",
              "        vertical-align: middle;\n",
              "    }\n",
              "\n",
              "    .dataframe tbody tr th {\n",
              "        vertical-align: top;\n",
              "    }\n",
              "\n",
              "    .dataframe thead th {\n",
              "        text-align: right;\n",
              "    }\n",
              "</style>\n",
              "<table border=\"1\" class=\"dataframe\">\n",
              "  <thead>\n",
              "    <tr style=\"text-align: right;\">\n",
              "      <th></th>\n",
              "    </tr>\n",
              "  </thead>\n",
              "  <tbody>\n",
              "  </tbody>\n",
              "</table>\n",
              "</div>"
            ],
            "text/plain": [
              "Empty DataFrame\n",
              "Columns: []\n",
              "Index: []"
            ]
          },
          "metadata": {},
          "execution_count": 54
        }
      ]
    },
    {
      "cell_type": "code",
      "metadata": {
        "colab": {
          "base_uri": "https://localhost:8080/",
          "height": 455
        },
        "id": "oXaUYDZ4YpBC",
        "outputId": "7660acf2-b44e-441c-bed0-991e12ade99e"
      },
      "source": [
        "data_dados['total'] = dados.groupby(['data'])['Record Count'].sum()\n",
        "data_dados"
      ],
      "execution_count": 55,
      "outputs": [
        {
          "output_type": "execute_result",
          "data": {
            "text/html": [
              "<div>\n",
              "<style scoped>\n",
              "    .dataframe tbody tr th:only-of-type {\n",
              "        vertical-align: middle;\n",
              "    }\n",
              "\n",
              "    .dataframe tbody tr th {\n",
              "        vertical-align: top;\n",
              "    }\n",
              "\n",
              "    .dataframe thead th {\n",
              "        text-align: right;\n",
              "    }\n",
              "</style>\n",
              "<table border=\"1\" class=\"dataframe\">\n",
              "  <thead>\n",
              "    <tr style=\"text-align: right;\">\n",
              "      <th></th>\n",
              "      <th>total</th>\n",
              "    </tr>\n",
              "    <tr>\n",
              "      <th>data</th>\n",
              "      <th></th>\n",
              "    </tr>\n",
              "  </thead>\n",
              "  <tbody>\n",
              "    <tr>\n",
              "      <th>2016-09-16</th>\n",
              "      <td>1</td>\n",
              "    </tr>\n",
              "    <tr>\n",
              "      <th>2016-09-20</th>\n",
              "      <td>1</td>\n",
              "    </tr>\n",
              "    <tr>\n",
              "      <th>2016-10-05</th>\n",
              "      <td>1</td>\n",
              "    </tr>\n",
              "    <tr>\n",
              "      <th>2016-10-11</th>\n",
              "      <td>2</td>\n",
              "    </tr>\n",
              "    <tr>\n",
              "      <th>2016-10-12</th>\n",
              "      <td>4</td>\n",
              "    </tr>\n",
              "    <tr>\n",
              "      <th>...</th>\n",
              "      <td>...</td>\n",
              "    </tr>\n",
              "    <tr>\n",
              "      <th>2021-11-23</th>\n",
              "      <td>4</td>\n",
              "    </tr>\n",
              "    <tr>\n",
              "      <th>2021-11-28</th>\n",
              "      <td>1</td>\n",
              "    </tr>\n",
              "    <tr>\n",
              "      <th>2021-11-30</th>\n",
              "      <td>1</td>\n",
              "    </tr>\n",
              "    <tr>\n",
              "      <th>2021-12-01</th>\n",
              "      <td>1</td>\n",
              "    </tr>\n",
              "    <tr>\n",
              "      <th>2021-12-07</th>\n",
              "      <td>1</td>\n",
              "    </tr>\n",
              "  </tbody>\n",
              "</table>\n",
              "<p>889 rows × 1 columns</p>\n",
              "</div>"
            ],
            "text/plain": [
              "            total\n",
              "data             \n",
              "2016-09-16      1\n",
              "2016-09-20      1\n",
              "2016-10-05      1\n",
              "2016-10-11      2\n",
              "2016-10-12      4\n",
              "...           ...\n",
              "2021-11-23      4\n",
              "2021-11-28      1\n",
              "2021-11-30      1\n",
              "2021-12-01      1\n",
              "2021-12-07      1\n",
              "\n",
              "[889 rows x 1 columns]"
            ]
          },
          "metadata": {},
          "execution_count": 55
        }
      ]
    },
    {
      "cell_type": "code",
      "metadata": {
        "colab": {
          "base_uri": "https://localhost:8080/",
          "height": 542
        },
        "id": "DGxNuq5eaJbT",
        "outputId": "e8617800-bab0-42ec-ce11-c8d62e0aa306"
      },
      "source": [
        "fig = px.area(dados, facet_col=\"genre\",  x='data', y='Record Count')\n",
        "fig.update_layout(bargap=0.1)\n",
        "fig.show()"
      ],
      "execution_count": 56,
      "outputs": [
        {
          "output_type": "display_data",
          "data": {
            "text/html": [
              "<html>\n",
              "<head><meta charset=\"utf-8\" /></head>\n",
              "<body>\n",
              "    <div>\n",
              "            <script src=\"https://cdnjs.cloudflare.com/ajax/libs/mathjax/2.7.5/MathJax.js?config=TeX-AMS-MML_SVG\"></script><script type=\"text/javascript\">if (window.MathJax) {MathJax.Hub.Config({SVG: {font: \"STIX-Web\"}});}</script>\n",
              "                <script type=\"text/javascript\">window.PlotlyConfig = {MathJaxConfig: 'local'};</script>\n",
              "        <script src=\"https://cdn.plot.ly/plotly-latest.min.js\"></script>    \n",
              "            <div id=\"06edc9e5-7048-4408-981b-bfcdb51f21c2\" class=\"plotly-graph-div\" style=\"height:525px; width:100%;\"></div>\n",
              "            <script type=\"text/javascript\">\n",
              "                \n",
              "                    window.PLOTLYENV=window.PLOTLYENV || {};\n",
              "                    \n",
              "                if (document.getElementById(\"06edc9e5-7048-4408-981b-bfcdb51f21c2\")) {\n",
              "                    Plotly.newPlot(\n",
              "                        '06edc9e5-7048-4408-981b-bfcdb51f21c2',\n",
              "                        [{\"hoverlabel\": {\"namelength\": 0}, \"hovertemplate\": \"genre=Female<br>data=%{x}<br>Record Count=%{y}\", \"legendgroup\": \"\", \"line\": {\"color\": \"#636efa\"}, \"mode\": \"lines\", \"name\": \"\", \"orientation\": \"v\", \"showlegend\": false, \"stackgroup\": \"1\", \"type\": \"scatter\", \"x\": [\"2019-12-12T00:00:00\", \"2018-03-02T00:00:00\", \"2017-01-07T00:00:00\", \"2016-10-27T00:00:00\", \"2016-10-11T00:00:00\", \"2016-10-28T00:00:00\", \"2020-09-20T00:00:00\", \"2017-05-08T00:00:00\", \"2017-01-09T00:00:00\", \"2016-10-27T00:00:00\", \"2017-11-18T00:00:00\", \"2017-05-04T00:00:00\", \"2018-08-20T00:00:00\", \"2019-08-21T00:00:00\", \"2017-09-13T00:00:00\", \"2020-10-07T00:00:00\", \"2019-07-25T00:00:00\", \"2021-08-01T00:00:00\", \"2021-04-01T00:00:00\", \"2016-10-31T00:00:00\", \"2017-08-23T00:00:00\", \"2020-02-17T00:00:00\", \"2020-08-13T00:00:00\", \"2019-10-21T00:00:00\", \"2021-03-22T00:00:00\", \"2020-03-11T00:00:00\", \"2019-03-15T00:00:00\", \"2018-01-31T00:00:00\", \"2017-06-12T00:00:00\", \"2020-07-16T00:00:00\", \"2018-08-30T00:00:00\", \"2020-09-08T00:00:00\", \"2017-05-18T00:00:00\", \"2020-06-16T00:00:00\", \"2016-11-25T00:00:00\", \"2017-09-01T00:00:00\", \"2019-05-07T00:00:00\", \"2017-08-24T00:00:00\", \"2018-08-03T00:00:00\", \"2017-12-07T00:00:00\", \"2017-08-20T00:00:00\", \"2019-08-19T00:00:00\", \"2018-07-11T00:00:00\", \"2016-10-25T00:00:00\", \"2020-07-10T00:00:00\", \"2018-07-13T00:00:00\", \"2019-02-28T00:00:00\", \"2018-02-06T00:00:00\", \"2021-11-30T00:00:00\", \"2019-06-26T00:00:00\", \"2017-08-27T00:00:00\", \"2016-10-28T00:00:00\", \"2019-07-29T00:00:00\", \"2020-10-01T00:00:00\", \"2017-07-25T00:00:00\", \"2019-07-18T00:00:00\", \"2020-02-20T00:00:00\", \"2017-07-27T00:00:00\", \"2018-09-03T00:00:00\", \"2020-11-11T00:00:00\", \"2018-06-12T00:00:00\", \"2020-01-24T00:00:00\", \"2019-02-25T00:00:00\", \"2020-02-23T00:00:00\", \"2018-10-10T00:00:00\", \"2020-07-20T00:00:00\", \"2017-06-14T00:00:00\", \"2016-11-25T00:00:00\", \"2017-01-10T00:00:00\", \"2019-08-21T00:00:00\", \"2019-02-04T00:00:00\", \"2018-06-22T00:00:00\", \"2017-08-07T00:00:00\", \"2018-10-04T00:00:00\", \"2018-05-09T00:00:00\", \"2016-12-08T00:00:00\", \"2020-09-04T00:00:00\", \"2020-12-15T00:00:00\", \"2018-03-15T00:00:00\", \"2017-01-05T00:00:00\", \"2020-09-29T00:00:00\", \"2021-12-07T00:00:00\", \"2020-03-21T00:00:00\", \"2018-12-13T00:00:00\", \"2017-06-06T00:00:00\", \"2017-08-09T00:00:00\", \"2018-05-22T00:00:00\", \"2016-11-01T00:00:00\", \"2017-06-20T00:00:00\", \"2021-01-05T00:00:00\", \"2018-08-29T00:00:00\", \"2020-07-09T00:00:00\", \"2018-09-13T00:00:00\", \"2019-02-11T00:00:00\", \"2016-11-07T00:00:00\", \"2016-11-18T00:00:00\", \"2018-07-02T00:00:00\", \"2020-09-07T00:00:00\", \"2021-03-01T00:00:00\", \"2018-09-01T00:00:00\", \"2019-11-08T00:00:00\", \"2016-10-20T00:00:00\", \"2021-10-30T00:00:00\", \"2018-12-25T00:00:00\", \"2018-02-20T00:00:00\", \"2017-07-17T00:00:00\", \"2018-06-17T00:00:00\", \"2021-01-16T00:00:00\", \"2017-11-24T00:00:00\", \"2021-08-06T00:00:00\", \"2020-02-09T00:00:00\", \"2020-03-03T00:00:00\", \"2020-06-06T00:00:00\", \"2018-07-03T00:00:00\", \"2019-02-20T00:00:00\", \"2019-10-17T00:00:00\", \"2020-11-27T00:00:00\", \"2017-08-10T00:00:00\", \"2017-08-15T00:00:00\", \"2021-10-04T00:00:00\", \"2019-07-23T00:00:00\", \"2017-01-24T00:00:00\", \"2020-07-21T00:00:00\", \"2018-06-15T00:00:00\", \"2018-03-20T00:00:00\", \"2019-11-18T00:00:00\", \"2019-10-31T00:00:00\", \"2018-01-09T00:00:00\", \"2020-10-08T00:00:00\", \"2019-02-10T00:00:00\", \"2018-12-11T00:00:00\", \"2017-08-18T00:00:00\", \"2018-09-24T00:00:00\", \"2018-11-07T00:00:00\", \"2016-11-29T00:00:00\", \"2017-06-11T00:00:00\", \"2020-02-26T00:00:00\", \"2017-02-23T00:00:00\", \"2020-06-08T00:00:00\", \"2018-01-16T00:00:00\", \"2020-01-19T00:00:00\", \"2018-10-03T00:00:00\", \"2018-02-15T00:00:00\", \"2017-07-25T00:00:00\", \"2021-09-27T00:00:00\", \"2016-10-25T00:00:00\", \"2018-04-16T00:00:00\", \"2020-11-03T00:00:00\", \"2018-06-11T00:00:00\", \"2018-10-02T00:00:00\", \"2021-04-06T00:00:00\", \"2016-11-14T00:00:00\", \"2018-07-04T00:00:00\", \"2020-10-19T00:00:00\", \"2020-05-01T00:00:00\", \"2020-09-15T00:00:00\", \"2021-08-09T00:00:00\", \"2021-07-04T00:00:00\", \"2021-08-20T00:00:00\", \"2018-12-01T00:00:00\", \"2018-08-20T00:00:00\", \"2020-06-25T00:00:00\", \"2020-09-09T00:00:00\", \"2017-03-08T00:00:00\", \"2017-01-18T00:00:00\", \"2021-11-20T00:00:00\", \"2017-06-19T00:00:00\", \"2020-01-25T00:00:00\", \"2016-10-30T00:00:00\", \"2018-06-11T00:00:00\", \"2019-07-31T00:00:00\", \"2017-03-27T00:00:00\", \"2021-06-09T00:00:00\", \"2017-01-17T00:00:00\", \"2017-06-29T00:00:00\", \"2018-06-18T00:00:00\", \"2020-07-07T00:00:00\", \"2019-08-01T00:00:00\", \"2016-11-06T00:00:00\", \"2018-08-02T00:00:00\", \"2016-10-26T00:00:00\", \"2019-02-26T00:00:00\", \"2017-04-05T00:00:00\", \"2020-09-13T00:00:00\", \"2019-03-11T00:00:00\", \"2017-07-01T00:00:00\", \"2018-03-22T00:00:00\", \"2016-12-08T00:00:00\", \"2020-07-22T00:00:00\", \"2019-08-26T00:00:00\", \"2020-01-21T00:00:00\", \"2017-11-21T00:00:00\", \"2019-07-02T00:00:00\", \"2019-08-24T00:00:00\", \"2021-01-29T00:00:00\", \"2021-07-15T00:00:00\", \"2016-12-03T00:00:00\", \"2019-10-07T00:00:00\", \"2020-07-17T00:00:00\", \"2018-06-12T00:00:00\", \"2017-07-30T00:00:00\", \"2018-08-31T00:00:00\", \"2018-06-13T00:00:00\", \"2021-09-13T00:00:00\", \"2017-06-18T00:00:00\", \"2017-03-10T00:00:00\", \"2020-07-15T00:00:00\", \"2017-07-24T00:00:00\", \"2021-04-09T00:00:00\", \"2018-10-16T00:00:00\", \"2019-02-07T00:00:00\", \"2017-11-13T00:00:00\", \"2017-08-08T00:00:00\", \"2018-11-01T00:00:00\", \"2021-03-11T00:00:00\", \"2020-06-29T00:00:00\", \"2021-07-21T00:00:00\", \"2020-07-24T00:00:00\", \"2017-04-04T00:00:00\", \"2019-07-24T00:00:00\", \"2018-08-07T00:00:00\", \"2017-07-26T00:00:00\", \"2017-08-20T00:00:00\", \"2017-08-19T00:00:00\", \"2016-11-24T00:00:00\", \"2017-06-19T00:00:00\", \"2019-07-01T00:00:00\", \"2019-06-14T00:00:00\", \"2019-02-01T00:00:00\", \"2018-11-19T00:00:00\", \"2017-06-27T00:00:00\", \"2016-11-03T00:00:00\", \"2016-09-16T00:00:00\", \"2020-08-11T00:00:00\", \"2017-07-11T00:00:00\", \"2019-10-04T00:00:00\", \"2021-07-06T00:00:00\", \"2018-02-05T00:00:00\", \"2019-10-11T00:00:00\", \"2019-08-02T00:00:00\", \"2017-06-08T00:00:00\", \"2017-09-04T00:00:00\", \"2017-01-02T00:00:00\", \"2021-07-28T00:00:00\", \"2017-05-29T00:00:00\", \"2019-06-25T00:00:00\", \"2020-07-01T00:00:00\", \"2017-07-31T00:00:00\", \"2019-01-14T00:00:00\", \"2017-03-02T00:00:00\", \"2020-06-03T00:00:00\", \"2021-10-21T00:00:00\", \"2017-02-14T00:00:00\", \"2018-03-29T00:00:00\", \"2019-05-27T00:00:00\", \"2019-08-22T00:00:00\", \"2021-03-02T00:00:00\", \"2019-01-31T00:00:00\", \"2020-12-14T00:00:00\", \"2017-11-22T00:00:00\", \"2018-06-25T00:00:00\", \"2021-05-03T00:00:00\", \"2017-10-08T00:00:00\", \"2016-10-19T00:00:00\", \"2020-07-12T00:00:00\", \"2021-06-07T00:00:00\", \"2019-01-21T00:00:00\", \"2020-09-11T00:00:00\", \"2018-07-25T00:00:00\", \"2020-08-02T00:00:00\", \"2019-01-11T00:00:00\", \"2016-11-01T00:00:00\", \"2019-03-18T00:00:00\", \"2020-10-16T00:00:00\", \"2016-10-24T00:00:00\", \"2018-03-14T00:00:00\", \"2019-05-15T00:00:00\", \"2020-02-12T00:00:00\", \"2017-07-28T00:00:00\", \"2021-04-15T00:00:00\", \"2021-07-05T00:00:00\", \"2017-08-29T00:00:00\", \"2018-04-13T00:00:00\", \"2016-11-19T00:00:00\", \"2017-07-04T00:00:00\", \"2019-05-13T00:00:00\", \"2021-09-10T00:00:00\", \"2017-07-12T00:00:00\", \"2018-12-27T00:00:00\", \"2020-10-06T00:00:00\", \"2020-10-14T00:00:00\", \"2018-10-02T00:00:00\", \"2017-07-08T00:00:00\", \"2016-12-12T00:00:00\", \"2018-07-31T00:00:00\", \"2018-06-26T00:00:00\", \"2020-04-08T00:00:00\", \"2021-10-14T00:00:00\", \"2020-08-24T00:00:00\", \"2020-11-24T00:00:00\", \"2017-03-03T00:00:00\", \"2019-12-11T00:00:00\", \"2016-10-29T00:00:00\", \"2021-02-24T00:00:00\", \"2016-12-05T00:00:00\", \"2017-02-03T00:00:00\", \"2017-12-11T00:00:00\", \"2019-12-09T00:00:00\", \"2019-08-15T00:00:00\", \"2017-08-19T00:00:00\", \"2017-08-21T00:00:00\", \"2018-10-18T00:00:00\", \"2020-03-22T00:00:00\", \"2018-04-25T00:00:00\", \"2017-08-22T00:00:00\", \"2017-01-07T00:00:00\", \"2019-04-04T00:00:00\", \"2021-11-09T00:00:00\", \"2017-01-11T00:00:00\", \"2017-04-26T00:00:00\", \"2018-11-28T00:00:00\", \"2021-09-14T00:00:00\", \"2020-09-19T00:00:00\", \"2021-09-16T00:00:00\", \"2020-01-31T00:00:00\", \"2017-02-11T00:00:00\", \"2018-03-05T00:00:00\", \"2017-07-14T00:00:00\", \"2020-07-08T00:00:00\", \"2020-04-10T00:00:00\", \"2021-10-26T00:00:00\", \"2017-09-04T00:00:00\", \"2017-08-25T00:00:00\", \"2018-10-11T00:00:00\", \"2016-12-14T00:00:00\", \"2021-06-18T00:00:00\", \"2020-07-30T00:00:00\", \"2019-03-13T00:00:00\", \"2016-12-06T00:00:00\", \"2017-05-13T00:00:00\", \"2017-05-02T00:00:00\", \"2017-10-05T00:00:00\", \"2018-04-07T00:00:00\", \"2018-04-05T00:00:00\", \"2018-06-14T00:00:00\", \"2019-11-07T00:00:00\", \"2020-12-22T00:00:00\", \"2020-12-07T00:00:00\", \"2018-01-03T00:00:00\", \"2021-10-28T00:00:00\", \"2018-02-21T00:00:00\", \"2019-04-01T00:00:00\", \"2019-09-23T00:00:00\", \"2020-05-24T00:00:00\", \"2018-12-12T00:00:00\", \"2017-09-05T00:00:00\", \"2017-09-18T00:00:00\", \"2021-04-09T00:00:00\", \"2017-11-29T00:00:00\", \"2016-11-08T00:00:00\", \"2019-01-13T00:00:00\", \"2021-09-01T00:00:00\", \"2020-04-14T00:00:00\", \"2017-10-16T00:00:00\", \"2019-02-05T00:00:00\", \"2019-01-28T00:00:00\", \"2017-08-31T00:00:00\", \"2018-03-27T00:00:00\", \"2020-02-10T00:00:00\", \"2020-12-04T00:00:00\", \"2016-10-23T00:00:00\", \"2018-09-17T00:00:00\", \"2018-09-04T00:00:00\", \"2018-06-04T00:00:00\", \"2018-02-23T00:00:00\", \"2021-11-06T00:00:00\", \"2017-06-18T00:00:00\", \"2018-08-13T00:00:00\", \"2021-11-15T00:00:00\", \"2018-12-24T00:00:00\", \"2020-12-28T00:00:00\", \"2017-02-08T00:00:00\", \"2016-11-04T00:00:00\", \"2016-11-08T00:00:00\", \"2020-08-17T00:00:00\", \"2020-05-07T00:00:00\", \"2018-11-06T00:00:00\", \"2019-12-17T00:00:00\", \"2020-08-31T00:00:00\", \"2021-01-07T00:00:00\", \"2017-09-22T00:00:00\", \"2018-08-29T00:00:00\", \"2019-07-20T00:00:00\", \"2020-05-27T00:00:00\", \"2019-08-23T00:00:00\", \"2019-04-23T00:00:00\", \"2017-10-09T00:00:00\", \"2019-12-04T00:00:00\", \"2021-08-15T00:00:00\", \"2016-11-26T00:00:00\", \"2016-10-31T00:00:00\", \"2020-08-08T00:00:00\", \"2017-10-17T00:00:00\", \"2018-10-19T00:00:00\", \"2019-10-03T00:00:00\", \"2017-09-06T00:00:00\", \"2017-09-17T00:00:00\", \"2018-09-21T00:00:00\", \"2017-06-13T00:00:00\", \"2021-05-22T00:00:00\", \"2016-12-16T00:00:00\", \"2017-10-07T00:00:00\", \"2018-09-27T00:00:00\", \"2020-08-07T00:00:00\", \"2021-06-19T00:00:00\", \"2016-11-10T00:00:00\", \"2020-07-25T00:00:00\", \"2016-10-12T00:00:00\", \"2018-09-11T00:00:00\", \"2020-04-26T00:00:00\", \"2016-10-21T00:00:00\", \"2016-11-04T00:00:00\", \"2017-12-10T00:00:00\", \"2018-10-26T00:00:00\", \"2017-06-15T00:00:00\", \"2018-10-20T00:00:00\", \"2018-08-30T00:00:00\", \"2016-11-17T00:00:00\", \"2017-08-17T00:00:00\", \"2021-03-30T00:00:00\", \"2021-02-09T00:00:00\", \"2019-07-10T00:00:00\", \"2021-01-20T00:00:00\", \"2021-06-10T00:00:00\", \"2017-09-07T00:00:00\", \"2017-01-08T00:00:00\", \"2018-09-12T00:00:00\", \"2016-10-13T00:00:00\", \"2017-07-20T00:00:00\", \"2021-05-13T00:00:00\", \"2017-12-13T00:00:00\", \"2016-11-29T00:00:00\", \"2019-10-16T00:00:00\", \"2019-03-08T00:00:00\", \"2019-05-02T00:00:00\", \"2018-09-07T00:00:00\", \"2018-02-13T00:00:00\", \"2016-11-09T00:00:00\", \"2018-07-16T00:00:00\", \"2019-03-18T00:00:00\", \"2019-06-24T00:00:00\", \"2019-09-25T00:00:00\", \"2019-02-24T00:00:00\", \"2020-09-14T00:00:00\", \"2017-07-29T00:00:00\", \"2020-01-20T00:00:00\", \"2018-10-24T00:00:00\", \"2020-09-30T00:00:00\", \"2020-07-30T00:00:00\", \"2018-07-07T00:00:00\", \"2017-01-06T00:00:00\", \"2019-07-30T00:00:00\", \"2017-11-16T00:00:00\", \"2021-03-19T00:00:00\", \"2018-09-18T00:00:00\", \"2021-07-17T00:00:00\", \"2017-06-27T00:00:00\", \"2020-08-11T00:00:00\", \"2017-09-12T00:00:00\", \"2019-05-27T00:00:00\", \"2018-09-19T00:00:00\", \"2017-04-05T00:00:00\", \"2020-12-08T00:00:00\", \"2020-07-14T00:00:00\", \"2020-10-15T00:00:00\", \"2017-01-04T00:00:00\", \"2019-10-08T00:00:00\", \"2019-06-07T00:00:00\", \"2019-04-24T00:00:00\", \"2021-11-23T00:00:00\", \"2017-11-09T00:00:00\", \"2021-01-21T00:00:00\", \"2018-07-09T00:00:00\", \"2017-04-19T00:00:00\", \"2020-05-03T00:00:00\", \"2020-02-28T00:00:00\", \"2018-07-14T00:00:00\", \"2017-05-05T00:00:00\", \"2018-09-09T00:00:00\", \"2021-04-14T00:00:00\", \"2020-05-10T00:00:00\", \"2019-03-12T00:00:00\", \"2021-07-20T00:00:00\", \"2018-03-13T00:00:00\", \"2020-07-15T00:00:00\", \"2017-03-13T00:00:00\", \"2019-03-27T00:00:00\", \"2020-07-23T00:00:00\", \"2016-10-15T00:00:00\", \"2017-02-27T00:00:00\", \"2018-10-24T00:00:00\", \"2019-08-22T00:00:00\", \"2019-10-24T00:00:00\", \"2020-08-16T00:00:00\", \"2020-12-19T00:00:00\", \"2021-02-01T00:00:00\", \"2020-08-26T00:00:00\", \"2021-10-07T00:00:00\", \"2020-10-20T00:00:00\", \"2021-05-05T00:00:00\", \"2020-04-27T00:00:00\", \"2017-03-23T00:00:00\", \"2020-05-29T00:00:00\", \"2018-01-15T00:00:00\", \"2020-07-06T00:00:00\", \"2020-11-05T00:00:00\", \"2017-05-23T00:00:00\", \"2021-06-16T00:00:00\", \"2017-04-27T00:00:00\", \"2020-09-01T00:00:00\", \"2021-02-05T00:00:00\", \"2020-01-17T00:00:00\", \"2021-04-28T00:00:00\", \"2018-09-14T00:00:00\", \"2020-10-02T00:00:00\", \"2019-09-22T00:00:00\", \"2018-06-16T00:00:00\", \"2019-06-10T00:00:00\", \"2020-05-30T00:00:00\", \"2019-07-19T00:00:00\", \"2019-04-30T00:00:00\", \"2019-07-04T00:00:00\", \"2019-06-05T00:00:00\", \"2020-02-27T00:00:00\", \"2019-06-03T00:00:00\", \"2019-12-02T00:00:00\", \"2020-08-05T00:00:00\", \"2021-01-27T00:00:00\", \"2019-06-19T00:00:00\", \"2019-05-20T00:00:00\", \"2019-01-22T00:00:00\", \"2019-03-20T00:00:00\", \"2020-08-18T00:00:00\", \"2019-02-18T00:00:00\", \"2019-07-22T00:00:00\", \"2020-06-14T00:00:00\", \"2019-08-03T00:00:00\", \"2021-11-23T00:00:00\", \"2021-03-09T00:00:00\", \"2019-03-02T00:00:00\", \"2019-02-03T00:00:00\", \"2020-10-24T00:00:00\", \"2021-09-26T00:00:00\", \"2019-02-08T00:00:00\", \"2019-03-01T00:00:00\", \"2021-08-04T00:00:00\", \"2019-03-17T00:00:00\", \"2019-03-07T00:00:00\", \"2019-08-16T00:00:00\", \"2019-02-21T00:00:00\", \"2020-01-15T00:00:00\", \"2019-04-09T00:00:00\", \"2020-02-03T00:00:00\", \"2020-04-06T00:00:00\", \"2019-01-31T00:00:00\", \"2019-04-26T00:00:00\", \"2019-09-21T00:00:00\", \"2021-01-14T00:00:00\", \"2019-01-26T00:00:00\", \"2019-01-21T00:00:00\", \"2021-10-01T00:00:00\", \"2019-01-05T00:00:00\", \"2019-01-15T00:00:00\", \"2019-02-15T00:00:00\", \"2019-01-23T00:00:00\", \"2020-02-13T00:00:00\", \"2019-02-16T00:00:00\", \"2019-02-19T00:00:00\", \"2019-02-22T00:00:00\", \"2019-02-06T00:00:00\", \"2019-02-13T00:00:00\", \"2019-06-22T00:00:00\", \"2019-01-04T00:00:00\", \"2020-04-16T00:00:00\", \"2020-07-17T00:00:00\", \"2020-06-28T00:00:00\", \"2018-06-19T00:00:00\", \"2018-05-29T00:00:00\", \"2019-03-25T00:00:00\", \"2018-02-24T00:00:00\", \"2018-04-04T00:00:00\", \"2021-08-09T00:00:00\", \"2021-04-29T00:00:00\", \"2018-02-17T00:00:00\", \"2020-03-24T00:00:00\", \"2020-10-13T00:00:00\", \"2020-08-25T00:00:00\", \"2018-02-07T00:00:00\", \"2019-01-07T00:00:00\", \"2021-02-15T00:00:00\", \"2020-02-04T00:00:00\", \"2019-12-10T00:00:00\", \"2018-02-16T00:00:00\", \"2018-02-08T00:00:00\", \"2018-03-16T00:00:00\", \"2018-02-27T00:00:00\", \"2018-06-24T00:00:00\", \"2020-04-15T00:00:00\", \"2020-02-07T00:00:00\", \"2019-07-18T00:00:00\", \"2018-02-26T00:00:00\", \"2021-06-17T00:00:00\", \"2020-12-13T00:00:00\", \"2020-10-30T00:00:00\", \"2020-07-10T00:00:00\", \"2020-03-01T00:00:00\", \"2020-03-05T00:00:00\", \"2020-01-27T00:00:00\", \"2020-11-06T00:00:00\", \"2020-01-14T00:00:00\", \"2020-08-04T00:00:00\", \"2021-11-08T00:00:00\", \"2020-01-28T00:00:00\", \"2020-01-16T00:00:00\", \"2020-08-28T00:00:00\", \"2020-03-30T00:00:00\", \"2020-02-25T00:00:00\", \"2020-07-03T00:00:00\", \"2020-01-23T00:00:00\", \"2021-07-26T00:00:00\", \"2020-03-24T00:00:00\", \"2020-04-17T00:00:00\", \"2020-02-11T00:00:00\", \"2020-05-22T00:00:00\", \"2021-01-18T00:00:00\", \"2020-03-06T00:00:00\", \"2021-03-04T00:00:00\", \"2020-01-22T00:00:00\", \"2020-02-04T00:00:00\", \"2020-01-10T00:00:00\", \"2020-08-30T00:00:00\", \"2020-01-18T00:00:00\", \"2020-03-09T00:00:00\", \"2020-03-29T00:00:00\", \"2020-11-12T00:00:00\", \"2020-04-29T00:00:00\", \"2021-02-08T00:00:00\", \"2020-06-23T00:00:00\", \"2021-04-20T00:00:00\", \"2020-11-17T00:00:00\", \"2020-11-23T00:00:00\", \"2021-02-22T00:00:00\", \"2021-02-19T00:00:00\", \"2021-02-25T00:00:00\", \"2021-02-28T00:00:00\", \"2021-03-05T00:00:00\", \"2021-02-23T00:00:00\", \"2021-03-10T00:00:00\", \"2021-02-16T00:00:00\", \"2021-02-26T00:00:00\", \"2021-03-16T00:00:00\", \"2021-02-17T00:00:00\", \"2021-03-14T00:00:00\", \"2021-03-27T00:00:00\", \"2021-09-27T00:00:00\", \"2021-05-12T00:00:00\", \"2021-02-18T00:00:00\", \"2021-03-06T00:00:00\", \"2021-02-21T00:00:00\", \"2021-05-31T00:00:00\", \"2021-07-06T00:00:00\", \"2021-02-20T00:00:00\", \"2021-05-18T00:00:00\", \"2021-03-13T00:00:00\", \"2021-06-13T00:00:00\", \"2021-03-25T00:00:00\", \"2021-02-23T00:00:00\", \"2021-05-17T00:00:00\", \"2021-03-24T00:00:00\", \"2021-07-27T00:00:00\", \"2021-03-15T00:00:00\", \"2021-06-01T00:00:00\", \"2021-04-24T00:00:00\", \"2021-03-17T00:00:00\", \"2021-04-06T00:00:00\", \"2021-09-20T00:00:00\", \"2021-06-29T00:00:00\", \"2021-03-12T00:00:00\", \"2021-08-11T00:00:00\", \"2021-09-09T00:00:00\", \"2021-05-21T00:00:00\", \"2021-06-15T00:00:00\", \"2021-10-13T00:00:00\", \"2021-07-02T00:00:00\", \"2021-08-02T00:00:00\", \"2021-08-03T00:00:00\", \"2021-11-05T00:00:00\"], \"xaxis\": \"x\", \"y\": [1, 1, 1, 3, 1, 3, 2, 2, 2, 9, 2, 1, 4, 1, 2, 5, 1, 2, 1, 2, 1, 2, 1, 1, 2, 7, 3, 3, 2, 6, 11, 6, 1, 1, 5, 5, 1, 3, 1, 2, 1, 1, 1, 3, 4, 1, 1, 1, 1, 1, 2, 4, 3, 1, 1, 5, 1, 1, 2, 1, 3, 2, 2, 1, 1, 5, 2, 4, 1, 4, 1, 2, 3, 2, 2, 1, 8, 2, 1, 1, 1, 1, 1, 1, 3, 1, 1, 5, 3, 1, 8, 1, 1, 1, 5, 1, 3, 5, 4, 1, 1, 3, 1, 1, 2, 3, 1, 1, 1, 2, 1, 1, 1, 6, 13, 1, 1, 1, 1, 1, 1, 1, 4, 3, 1, 1, 1, 1, 1, 1, 1, 3, 3, 2, 1, 2, 2, 4, 1, 1, 1, 4, 1, 2, 1, 3, 2, 3, 2, 3, 1, 1, 1, 1, 1, 1, 1, 1, 1, 1, 1, 1, 8, 1, 1, 1, 4, 1, 1, 4, 1, 1, 1, 1, 1, 1, 2, 1, 1, 1, 2, 3, 1, 1, 4, 1, 1, 1, 1, 1, 1, 2, 3, 1, 2, 1, 1, 1, 1, 2, 2, 4, 3, 1, 4, 1, 4, 2, 1, 2, 3, 1, 4, 2, 1, 1, 1, 2, 1, 1, 1, 1, 1, 3, 1, 2, 1, 1, 1, 1, 1, 2, 1, 3, 2, 2, 1, 1, 1, 1, 1, 1, 1, 2, 2, 1, 2, 1, 1, 1, 1, 2, 1, 1, 1, 2, 4, 1, 1, 1, 1, 2, 1, 1, 1, 4, 3, 1, 1, 1, 1, 2, 1, 2, 2, 1, 1, 3, 2, 1, 1, 1, 2, 1, 2, 1, 2, 1, 1, 1, 1, 1, 1, 1, 1, 1, 2, 1, 3, 2, 1, 1, 1, 6, 1, 1, 1, 1, 1, 1, 2, 1, 1, 1, 2, 1, 2, 1, 1, 1, 1, 1, 1, 1, 1, 1, 1, 1, 1, 1, 2, 2, 1, 1, 1, 2, 1, 3, 2, 2, 1, 1, 2, 1, 3, 1, 2, 1, 1, 1, 2, 1, 1, 1, 2, 2, 1, 1, 1, 1, 1, 1, 1, 1, 1, 3, 2, 1, 4, 1, 1, 1, 2, 1, 1, 1, 1, 1, 1, 2, 1, 1, 1, 1, 1, 1, 1, 2, 2, 1, 1, 1, 4, 2, 1, 2, 1, 1, 1, 1, 1, 2, 1, 1, 1, 2, 1, 1, 1, 1, 1, 1, 1, 2, 1, 1, 1, 1, 1, 1, 1, 1, 1, 1, 1, 1, 1, 1, 1, 1, 2, 2, 1, 1, 2, 1, 1, 1, 2, 1, 1, 1, 1, 1, 1, 1, 1, 1, 1, 1, 1, 1, 1, 1, 1, 1, 1, 1, 1, 1, 1, 1, 1, 1, 1, 1, 1, 1, 1, 1, 2, 1, 2, 1, 1, 1, 1, 1, 1, 1, 1, 1, 1, 1, 1, 2, 1, 1, 1, 1, 1, 1, 2, 1, 1, 1, 1, 1, 1, 1, 1, 1, 1, 1, 1, 2, 2, 1, 6, 1, 1, 1, 1, 1, 1, 1, 1, 2, 1, 1, 1, 1, 2, 1, 2, 1, 2, 1, 1, 1, 1, 1, 1, 1, 1, 2, 2, 1, 1, 1, 2, 1, 2, 1, 1, 1, 1, 2, 3, 1, 1, 1, 1, 1, 2, 4, 1, 1, 1, 1, 1, 1, 1, 1, 1, 1, 1, 2, 1, 1, 1, 1, 1, 1, 1, 1, 1, 1, 2, 1, 1, 1, 1, 1, 1, 1, 1, 1, 1, 2, 1, 1, 1, 2, 1, 1, 1, 1, 1, 3, 1, 1, 1, 1, 1, 4, 1, 1, 2, 1, 1, 1, 1, 1, 1, 1, 1, 2, 1, 4, 1, 1, 1, 1, 1, 1, 1, 1, 2, 1, 1, 1, 1, 1, 1, 2, 2, 2, 1, 1, 1, 1, 1, 1, 1, 1, 1, 1, 1, 1, 1, 7, 4, 2, 2, 1, 18, 1, 1, 1, 1, 1, 2, 1, 1, 1, 2, 1, 2, 1, 1, 1, 1, 1, 1, 1, 1, 1, 1, 1, 1, 1, 1, 2, 1, 1, 1, 1, 1, 1, 1, 1, 1, 1, 1, 1, 1], \"yaxis\": \"y\"}, {\"hoverlabel\": {\"namelength\": 0}, \"hovertemplate\": \"genre=Male<br>data=%{x}<br>Record Count=%{y}\", \"legendgroup\": \"\", \"line\": {\"color\": \"#636efa\"}, \"mode\": \"lines\", \"name\": \"\", \"orientation\": \"v\", \"showlegend\": false, \"stackgroup\": \"1\", \"type\": \"scatter\", \"x\": [\"2018-08-29T00:00:00\", \"2017-03-04T00:00:00\", \"2018-08-13T00:00:00\", \"2020-08-12T00:00:00\", \"2020-11-21T00:00:00\", \"2017-06-08T00:00:00\", \"2021-03-30T00:00:00\", \"2017-08-14T00:00:00\", \"2017-05-09T00:00:00\", \"2020-07-15T00:00:00\", \"2018-11-06T00:00:00\", \"2017-02-09T00:00:00\", \"2021-11-23T00:00:00\", \"2018-06-12T00:00:00\", \"2017-05-10T00:00:00\", \"2018-06-19T00:00:00\", \"2017-08-19T00:00:00\", \"2020-02-04T00:00:00\", \"2018-01-21T00:00:00\", \"2017-08-22T00:00:00\", \"2021-10-21T00:00:00\", \"2018-09-03T00:00:00\", \"2018-06-12T00:00:00\", \"2021-01-29T00:00:00\", \"2018-08-20T00:00:00\", \"2018-09-28T00:00:00\", \"2019-07-18T00:00:00\", \"2019-07-22T00:00:00\", \"2018-09-21T00:00:00\", \"2020-04-18T00:00:00\", \"2021-06-04T00:00:00\", \"2020-05-06T00:00:00\", \"2016-10-27T00:00:00\", \"2017-06-10T00:00:00\", \"2018-08-30T00:00:00\", \"2020-09-14T00:00:00\", \"2019-02-20T00:00:00\", \"2019-07-13T00:00:00\", \"2017-05-08T00:00:00\", \"2017-03-23T00:00:00\", \"2017-06-29T00:00:00\", \"2016-11-05T00:00:00\", \"2017-01-04T00:00:00\", \"2018-10-12T00:00:00\", \"2017-11-24T00:00:00\", \"2017-07-26T00:00:00\", \"2017-09-06T00:00:00\", \"2016-10-20T00:00:00\", \"2017-06-24T00:00:00\", \"2020-08-26T00:00:00\", \"2019-08-18T00:00:00\", \"2019-05-06T00:00:00\", \"2017-06-26T00:00:00\", \"2019-10-07T00:00:00\", \"2020-03-10T00:00:00\", \"2018-03-24T00:00:00\", \"2020-07-26T00:00:00\", \"2020-11-24T00:00:00\", \"2021-08-03T00:00:00\", \"2017-04-09T00:00:00\", \"2018-12-14T00:00:00\", \"2018-03-31T00:00:00\", \"2016-10-12T00:00:00\", \"2016-11-29T00:00:00\", \"2016-11-13T00:00:00\", \"2020-08-25T00:00:00\", \"2019-09-11T00:00:00\", \"2017-07-12T00:00:00\", \"2017-09-04T00:00:00\", \"2016-10-21T00:00:00\", \"2017-08-17T00:00:00\", \"2018-09-05T00:00:00\", \"2016-10-19T00:00:00\", \"2016-11-07T00:00:00\", \"2016-11-25T00:00:00\", \"2016-10-28T00:00:00\", \"2020-09-18T00:00:00\", \"2018-01-22T00:00:00\", \"2017-02-13T00:00:00\", \"2020-02-28T00:00:00\", \"2021-09-10T00:00:00\", \"2018-08-27T00:00:00\", \"2017-08-10T00:00:00\", \"2019-11-07T00:00:00\", \"2018-09-11T00:00:00\", \"2018-08-05T00:00:00\", \"2016-10-25T00:00:00\", \"2016-12-08T00:00:00\", \"2019-08-26T00:00:00\", \"2017-01-18T00:00:00\", \"2020-09-15T00:00:00\", \"2018-07-06T00:00:00\", \"2016-10-28T00:00:00\", \"2020-01-27T00:00:00\", \"2016-11-10T00:00:00\", \"2019-09-12T00:00:00\", \"2020-02-05T00:00:00\", \"2018-07-24T00:00:00\", \"2018-06-25T00:00:00\", \"2018-10-30T00:00:00\", \"2017-10-04T00:00:00\", \"2017-08-15T00:00:00\", \"2017-06-25T00:00:00\", \"2017-07-24T00:00:00\", \"2019-10-23T00:00:00\", \"2016-11-25T00:00:00\", \"2018-11-10T00:00:00\", \"2019-01-04T00:00:00\", \"2017-06-21T00:00:00\", \"2020-07-14T00:00:00\", \"2017-07-25T00:00:00\", \"2016-10-05T00:00:00\", \"2017-09-13T00:00:00\", \"2016-11-24T00:00:00\", \"2016-11-09T00:00:00\", \"2020-02-24T00:00:00\", \"2018-03-26T00:00:00\", \"2017-09-03T00:00:00\", \"2018-09-18T00:00:00\", \"2020-07-09T00:00:00\", \"2021-08-04T00:00:00\", \"2019-02-11T00:00:00\", \"2017-07-20T00:00:00\", \"2019-10-17T00:00:00\", \"2017-08-12T00:00:00\", \"2017-08-29T00:00:00\", \"2017-07-09T00:00:00\", \"2018-12-12T00:00:00\", \"2020-04-13T00:00:00\", \"2017-08-20T00:00:00\", \"2019-03-15T00:00:00\", \"2017-08-23T00:00:00\", \"2017-05-12T00:00:00\", \"2020-10-08T00:00:00\", \"2017-02-24T00:00:00\", \"2021-08-01T00:00:00\", \"2020-04-22T00:00:00\", \"2018-10-11T00:00:00\", \"2020-02-03T00:00:00\", \"2020-05-23T00:00:00\", \"2017-08-21T00:00:00\", \"2017-09-05T00:00:00\", \"2017-01-11T00:00:00\", \"2019-02-27T00:00:00\", \"2019-01-28T00:00:00\", \"2020-07-20T00:00:00\", \"2018-06-05T00:00:00\", \"2018-07-28T00:00:00\", \"2018-05-25T00:00:00\", \"2021-01-12T00:00:00\", \"2020-07-21T00:00:00\", \"2017-02-18T00:00:00\", \"2017-07-17T00:00:00\", \"2018-01-06T00:00:00\", \"2019-04-09T00:00:00\", \"2021-11-01T00:00:00\", \"2017-07-18T00:00:00\", \"2017-08-08T00:00:00\", \"2021-06-19T00:00:00\", \"2016-10-12T00:00:00\", \"2020-11-15T00:00:00\", \"2017-01-26T00:00:00\", \"2019-03-12T00:00:00\", \"2018-01-09T00:00:00\", \"2017-08-30T00:00:00\", \"2018-06-04T00:00:00\", \"2018-09-19T00:00:00\", \"2017-07-11T00:00:00\", \"2017-06-16T00:00:00\", \"2019-03-11T00:00:00\", \"2018-02-22T00:00:00\", \"2018-12-15T00:00:00\", \"2017-08-28T00:00:00\", \"2017-02-01T00:00:00\", \"2018-10-08T00:00:00\", \"2018-11-30T00:00:00\", \"2018-10-03T00:00:00\", \"2017-06-19T00:00:00\", \"2021-02-11T00:00:00\", \"2017-06-21T00:00:00\", \"2018-09-20T00:00:00\", \"2017-06-12T00:00:00\", \"2019-10-16T00:00:00\", \"2017-06-28T00:00:00\", \"2016-11-01T00:00:00\", \"2019-02-24T00:00:00\", \"2018-09-12T00:00:00\", \"2018-04-24T00:00:00\", \"2017-01-13T00:00:00\", \"2019-10-19T00:00:00\", \"2019-02-04T00:00:00\", \"2021-08-12T00:00:00\", \"2017-08-02T00:00:00\", \"2017-07-28T00:00:00\", \"2017-06-30T00:00:00\", \"2018-09-24T00:00:00\", \"2018-08-25T00:00:00\", \"2019-10-03T00:00:00\", \"2021-10-15T00:00:00\", \"2019-07-29T00:00:00\", \"2019-10-23T00:00:00\", \"2017-12-12T00:00:00\", \"2020-08-10T00:00:00\", \"2018-09-04T00:00:00\", \"2017-08-24T00:00:00\", \"2018-11-28T00:00:00\", \"2017-12-13T00:00:00\", \"2019-08-22T00:00:00\", \"2016-12-06T00:00:00\", \"2017-01-07T00:00:00\", \"2020-01-29T00:00:00\", \"2018-06-06T00:00:00\", \"2020-10-07T00:00:00\", \"2020-06-30T00:00:00\", \"2018-02-11T00:00:00\", \"2017-09-06T00:00:00\", \"2018-09-23T00:00:00\", \"2019-12-04T00:00:00\", \"2020-09-03T00:00:00\", \"2019-08-25T00:00:00\", \"2017-01-29T00:00:00\", \"2020-09-17T00:00:00\", \"2016-10-20T00:00:00\", \"2019-07-26T00:00:00\", \"2020-11-25T00:00:00\", \"2017-10-16T00:00:00\", \"2016-11-07T00:00:00\", \"2017-06-20T00:00:00\", \"2021-06-07T00:00:00\", \"2020-06-09T00:00:00\", \"2018-05-24T00:00:00\", \"2017-03-09T00:00:00\", \"2017-08-27T00:00:00\", \"2017-08-07T00:00:00\", \"2018-08-21T00:00:00\", \"2017-09-25T00:00:00\", \"2019-12-18T00:00:00\", \"2017-10-17T00:00:00\", \"2018-06-11T00:00:00\", \"2020-04-04T00:00:00\", \"2016-12-30T00:00:00\", \"2019-01-14T00:00:00\", \"2020-03-26T00:00:00\", \"2017-02-26T00:00:00\", \"2020-05-01T00:00:00\", \"2018-06-11T00:00:00\", \"2016-10-31T00:00:00\", \"2018-02-06T00:00:00\", \"2019-04-24T00:00:00\", \"2019-05-30T00:00:00\", \"2019-09-25T00:00:00\", \"2017-05-22T00:00:00\", \"2016-11-30T00:00:00\", \"2020-07-16T00:00:00\", \"2018-12-29T00:00:00\", \"2018-07-02T00:00:00\", \"2017-02-23T00:00:00\", \"2019-07-29T00:00:00\", \"2021-02-19T00:00:00\", \"2020-02-26T00:00:00\", \"2017-09-15T00:00:00\", \"2018-02-25T00:00:00\", \"2016-10-11T00:00:00\", \"2020-06-23T00:00:00\", \"2019-09-24T00:00:00\", \"2017-07-23T00:00:00\", \"2020-09-10T00:00:00\", \"2018-07-04T00:00:00\", \"2017-02-21T00:00:00\", \"2018-06-28T00:00:00\", \"2019-08-12T00:00:00\", \"2020-02-06T00:00:00\", \"2017-07-13T00:00:00\", \"2017-12-11T00:00:00\", \"2021-08-10T00:00:00\", \"2018-01-24T00:00:00\", \"2020-09-19T00:00:00\", \"2021-10-04T00:00:00\", \"2020-09-01T00:00:00\", \"2021-07-20T00:00:00\", \"2020-02-20T00:00:00\", \"2018-10-13T00:00:00\", \"2017-06-28T00:00:00\", \"2019-02-23T00:00:00\", \"2017-06-20T00:00:00\", \"2019-04-25T00:00:00\", \"2020-01-24T00:00:00\", \"2020-04-02T00:00:00\", \"2020-01-28T00:00:00\", \"2017-05-16T00:00:00\", \"2019-01-30T00:00:00\", \"2018-09-01T00:00:00\", \"2018-04-12T00:00:00\", \"2019-08-14T00:00:00\", \"2017-04-03T00:00:00\", \"2017-04-19T00:00:00\", \"2017-09-22T00:00:00\", \"2017-02-17T00:00:00\", \"2020-06-18T00:00:00\", \"2017-08-20T00:00:00\", \"2018-06-24T00:00:00\", \"2020-03-09T00:00:00\", \"2021-09-23T00:00:00\", \"2020-10-16T00:00:00\", \"2018-10-10T00:00:00\", \"2020-07-03T00:00:00\", \"2017-06-15T00:00:00\", \"2019-03-20T00:00:00\", \"2018-06-13T00:00:00\", \"2019-08-21T00:00:00\", \"2020-09-04T00:00:00\", \"2017-11-27T00:00:00\", \"2021-11-28T00:00:00\", \"2019-07-18T00:00:00\", \"2017-12-16T00:00:00\", \"2021-04-06T00:00:00\", \"2018-08-15T00:00:00\", \"2020-01-31T00:00:00\", \"2017-08-09T00:00:00\", \"2016-10-25T00:00:00\", \"2017-02-07T00:00:00\", \"2020-09-08T00:00:00\", \"2020-09-09T00:00:00\", \"2018-06-20T00:00:00\", \"2017-11-29T00:00:00\", \"2018-06-18T00:00:00\", \"2018-04-08T00:00:00\", \"2018-03-10T00:00:00\", \"2021-09-27T00:00:00\", \"2020-04-06T00:00:00\", \"2017-08-31T00:00:00\", \"2017-02-22T00:00:00\", \"2017-01-04T00:00:00\", \"2020-09-13T00:00:00\", \"2018-11-23T00:00:00\", \"2017-02-28T00:00:00\", \"2018-12-26T00:00:00\", \"2017-10-07T00:00:00\", \"2017-12-01T00:00:00\", \"2017-06-22T00:00:00\", \"2020-10-28T00:00:00\", \"2020-05-22T00:00:00\", \"2021-02-15T00:00:00\", \"2020-08-02T00:00:00\", \"2020-04-11T00:00:00\", \"2019-06-05T00:00:00\", \"2019-10-04T00:00:00\", \"2018-03-21T00:00:00\", \"2020-07-13T00:00:00\", \"2018-09-27T00:00:00\", \"2019-04-05T00:00:00\", \"2017-07-10T00:00:00\", \"2018-11-22T00:00:00\", \"2020-06-22T00:00:00\", \"2020-02-21T00:00:00\", \"2018-09-02T00:00:00\", \"2017-12-14T00:00:00\", \"2016-09-20T00:00:00\", \"2017-07-04T00:00:00\", \"2020-09-12T00:00:00\", \"2017-09-19T00:00:00\", \"2017-06-18T00:00:00\", \"2018-08-07T00:00:00\", \"2016-11-04T00:00:00\", \"2018-09-08T00:00:00\", \"2018-06-16T00:00:00\", \"2021-04-01T00:00:00\", \"2018-01-29T00:00:00\", \"2017-09-12T00:00:00\", \"2017-03-13T00:00:00\", \"2017-06-19T00:00:00\", \"2019-12-22T00:00:00\", \"2019-07-20T00:00:00\", \"2018-02-05T00:00:00\", \"2017-11-13T00:00:00\", \"2020-07-15T00:00:00\", \"2020-07-11T00:00:00\", \"2019-11-12T00:00:00\", \"2020-12-29T00:00:00\", \"2017-11-25T00:00:00\", \"2017-03-27T00:00:00\", \"2016-12-24T00:00:00\", \"2016-11-18T00:00:00\", \"2020-04-02T00:00:00\", \"2019-08-16T00:00:00\", \"2020-11-18T00:00:00\", \"2021-04-25T00:00:00\", \"2021-06-01T00:00:00\", \"2019-03-14T00:00:00\", \"2017-08-16T00:00:00\", \"2020-04-20T00:00:00\", \"2018-08-28T00:00:00\", \"2021-07-05T00:00:00\", \"2020-02-02T00:00:00\", \"2021-08-13T00:00:00\", \"2018-05-17T00:00:00\", \"2016-11-22T00:00:00\", \"2016-12-04T00:00:00\", \"2018-12-19T00:00:00\", \"2020-09-28T00:00:00\", \"2019-04-16T00:00:00\", \"2017-12-18T00:00:00\", \"2020-03-13T00:00:00\", \"2017-08-03T00:00:00\", \"2019-11-30T00:00:00\", \"2017-08-11T00:00:00\", \"2020-10-21T00:00:00\", \"2017-09-11T00:00:00\", \"2020-09-07T00:00:00\", \"2018-01-10T00:00:00\", \"2021-07-26T00:00:00\", \"2019-02-13T00:00:00\", \"2018-03-25T00:00:00\", \"2020-09-02T00:00:00\", \"2017-08-28T00:00:00\", \"2017-03-29T00:00:00\", \"2020-08-03T00:00:00\", \"2021-02-02T00:00:00\", \"2019-03-22T00:00:00\", \"2021-07-18T00:00:00\", \"2017-11-28T00:00:00\", \"2021-05-22T00:00:00\", \"2018-04-28T00:00:00\", \"2021-04-28T00:00:00\", \"2019-03-30T00:00:00\", \"2020-08-09T00:00:00\", \"2019-12-11T00:00:00\", \"2019-10-02T00:00:00\", \"2020-05-10T00:00:00\", \"2019-05-07T00:00:00\", \"2019-02-25T00:00:00\", \"2021-03-15T00:00:00\", \"2020-08-06T00:00:00\", \"2019-05-27T00:00:00\", \"2019-03-08T00:00:00\", \"2019-02-05T00:00:00\", \"2019-03-21T00:00:00\", \"2019-02-26T00:00:00\", \"2019-02-07T00:00:00\", \"2019-03-12T00:00:00\", \"2019-03-07T00:00:00\", \"2020-05-26T00:00:00\", \"2020-03-12T00:00:00\", \"2019-02-08T00:00:00\", \"2019-02-21T00:00:00\", \"2019-09-23T00:00:00\", \"2019-01-11T00:00:00\", \"2019-02-10T00:00:00\", \"2020-05-30T00:00:00\", \"2019-02-18T00:00:00\", \"2020-11-30T00:00:00\", \"2018-12-07T00:00:00\", \"2018-08-24T00:00:00\", \"2018-09-26T00:00:00\", \"2021-10-27T00:00:00\", \"2020-10-23T00:00:00\", \"2021-10-14T00:00:00\", \"2018-02-26T00:00:00\", \"2019-03-27T00:00:00\", \"2021-08-24T00:00:00\", \"2018-02-21T00:00:00\", \"2018-03-09T00:00:00\", \"2019-12-16T00:00:00\", \"2019-12-02T00:00:00\", \"2020-07-28T00:00:00\", \"2019-12-17T00:00:00\", \"2020-05-08T00:00:00\", \"2020-02-12T00:00:00\", \"2020-03-04T00:00:00\", \"2021-01-09T00:00:00\", \"2020-05-04T00:00:00\", \"2020-11-22T00:00:00\", \"2021-03-10T00:00:00\", \"2020-01-15T00:00:00\", \"2020-03-23T00:00:00\", \"2021-09-08T00:00:00\", \"2020-02-11T00:00:00\", \"2020-02-15T00:00:00\", \"2021-02-26T00:00:00\", \"2020-01-18T00:00:00\", \"2020-01-10T00:00:00\", \"2020-12-18T00:00:00\", \"2020-11-09T00:00:00\", \"2020-02-17T00:00:00\", \"2021-02-08T00:00:00\", \"2020-08-04T00:00:00\", \"2020-07-18T00:00:00\", \"2021-04-15T00:00:00\", \"2020-08-11T00:00:00\", \"2021-05-21T00:00:00\", \"2021-02-01T00:00:00\", \"2021-02-16T00:00:00\", \"2021-02-24T00:00:00\", \"2021-03-08T00:00:00\", \"2021-02-23T00:00:00\", \"2021-02-28T00:00:00\", \"2021-02-17T00:00:00\", \"2021-12-01T00:00:00\", \"2021-02-20T00:00:00\", \"2021-03-03T00:00:00\", \"2021-03-09T00:00:00\", \"2021-02-27T00:00:00\", \"2021-07-21T00:00:00\", \"2021-05-16T00:00:00\", \"2021-05-12T00:00:00\", \"2021-02-22T00:00:00\", \"2021-04-21T00:00:00\", \"2021-04-19T00:00:00\", \"2021-03-19T00:00:00\", \"2021-08-23T00:00:00\", \"2021-10-28T00:00:00\"], \"xaxis\": \"x2\", \"y\": [9, 1, 1, 2, 1, 4, 1, 1, 1, 7, 1, 1, 1, 2, 1, 1, 1, 1, 1, 2, 1, 3, 2, 1, 1, 1, 4, 2, 1, 1, 1, 1, 6, 1, 9, 2, 4, 1, 4, 1, 1, 1, 1, 1, 1, 1, 1, 3, 2, 1, 1, 1, 4, 1, 1, 1, 1, 2, 3, 1, 2, 1, 2, 1, 1, 3, 2, 2, 3, 1, 2, 1, 1, 2, 4, 1, 1, 2, 1, 1, 1, 1, 2, 1, 1, 1, 5, 1, 1, 1, 2, 1, 4, 2, 2, 1, 1, 1, 1, 3, 1, 2, 1, 1, 1, 2, 1, 1, 1, 4, 1, 1, 1, 1, 1, 1, 1, 1, 2, 1, 2, 3, 2, 1, 1, 1, 2, 2, 2, 3, 3, 2, 1, 1, 1, 1, 1, 2, 4, 1, 2, 2, 1, 1, 1, 6, 1, 1, 1, 2, 1, 1, 2, 1, 2, 1, 1, 6, 1, 1, 1, 1, 1, 1, 1, 1, 2, 1, 1, 1, 1, 1, 1, 1, 1, 1, 2, 6, 1, 1, 1, 1, 1, 1, 1, 2, 1, 1, 1, 2, 1, 1, 1, 1, 2, 1, 1, 1, 2, 2, 1, 1, 1, 2, 2, 1, 1, 1, 1, 2, 1, 1, 2, 1, 1, 4, 1, 1, 1, 1, 1, 1, 1, 2, 2, 1, 1, 2, 1, 2, 1, 1, 1, 1, 1, 2, 1, 1, 2, 1, 1, 1, 1, 1, 1, 2, 1, 1, 1, 1, 1, 2, 2, 4, 1, 2, 1, 1, 1, 1, 3, 1, 1, 1, 2, 1, 2, 1, 1, 1, 1, 4, 1, 1, 1, 1, 1, 1, 1, 1, 1, 1, 2, 1, 1, 1, 1, 1, 2, 1, 1, 1, 1, 1, 1, 1, 1, 1, 1, 1, 1, 1, 1, 1, 3, 1, 1, 1, 5, 2, 2, 1, 1, 1, 1, 1, 1, 1, 1, 2, 1, 3, 1, 1, 1, 1, 1, 1, 1, 1, 2, 1, 1, 1, 1, 1, 1, 1, 1, 1, 1, 1, 1, 1, 1, 1, 2, 1, 2, 1, 2, 1, 1, 1, 1, 1, 1, 1, 1, 1, 2, 2, 1, 1, 1, 1, 1, 1, 1, 1, 1, 1, 1, 1, 1, 1, 2, 1, 1, 1, 1, 1, 1, 2, 1, 1, 1, 1, 1, 1, 1, 1, 1, 1, 1, 1, 1, 1, 1, 1, 1, 1, 1, 1, 1, 1, 1, 1, 1, 1, 1, 2, 1, 1, 1, 1, 1, 1, 1, 1, 1, 1, 1, 1, 1, 1, 1, 1, 1, 1, 1, 1, 1, 1, 1, 1, 1, 1, 1, 1, 1, 1, 1, 2, 1, 1, 1, 1, 1, 1, 1, 1, 1, 1, 1, 1, 1, 1, 1, 1, 1, 1, 1, 1, 1, 1, 1, 2, 1, 1, 1, 1, 1, 1, 1, 1, 1, 1, 1, 1, 1, 1, 1, 1, 1, 1, 1, 2, 1, 1, 1, 1, 1, 1, 2, 1, 1, 1, 1, 1, 1, 1, 1, 1, 1, 1, 1, 1, 1, 1, 1], \"yaxis\": \"y2\"}],\n",
              "                        {\"annotations\": [{\"font\": {}, \"showarrow\": false, \"text\": \"genre=Female\", \"x\": 0.245, \"xanchor\": \"center\", \"xref\": \"paper\", \"y\": 1.0, \"yanchor\": \"bottom\", \"yref\": \"paper\"}, {\"font\": {}, \"showarrow\": false, \"text\": \"genre=Male\", \"x\": 0.755, \"xanchor\": \"center\", \"xref\": \"paper\", \"y\": 1.0, \"yanchor\": \"bottom\", \"yref\": \"paper\"}], \"bargap\": 0.1, \"legend\": {\"tracegroupgap\": 0}, \"margin\": {\"t\": 60}, \"template\": {\"data\": {\"bar\": [{\"error_x\": {\"color\": \"#2a3f5f\"}, \"error_y\": {\"color\": \"#2a3f5f\"}, \"marker\": {\"line\": {\"color\": \"#E5ECF6\", \"width\": 0.5}}, \"type\": \"bar\"}], \"barpolar\": [{\"marker\": {\"line\": {\"color\": \"#E5ECF6\", \"width\": 0.5}}, \"type\": \"barpolar\"}], \"carpet\": [{\"aaxis\": {\"endlinecolor\": \"#2a3f5f\", \"gridcolor\": \"white\", \"linecolor\": \"white\", \"minorgridcolor\": \"white\", \"startlinecolor\": \"#2a3f5f\"}, \"baxis\": {\"endlinecolor\": \"#2a3f5f\", \"gridcolor\": \"white\", \"linecolor\": \"white\", \"minorgridcolor\": \"white\", \"startlinecolor\": \"#2a3f5f\"}, \"type\": \"carpet\"}], \"choropleth\": [{\"colorbar\": {\"outlinewidth\": 0, \"ticks\": \"\"}, \"type\": \"choropleth\"}], \"contour\": [{\"colorbar\": {\"outlinewidth\": 0, \"ticks\": \"\"}, \"colorscale\": [[0.0, \"#0d0887\"], [0.1111111111111111, \"#46039f\"], [0.2222222222222222, \"#7201a8\"], [0.3333333333333333, \"#9c179e\"], [0.4444444444444444, \"#bd3786\"], [0.5555555555555556, \"#d8576b\"], [0.6666666666666666, \"#ed7953\"], [0.7777777777777778, \"#fb9f3a\"], [0.8888888888888888, \"#fdca26\"], [1.0, \"#f0f921\"]], \"type\": \"contour\"}], \"contourcarpet\": [{\"colorbar\": {\"outlinewidth\": 0, \"ticks\": \"\"}, \"type\": \"contourcarpet\"}], \"heatmap\": [{\"colorbar\": {\"outlinewidth\": 0, \"ticks\": \"\"}, \"colorscale\": [[0.0, \"#0d0887\"], [0.1111111111111111, \"#46039f\"], [0.2222222222222222, \"#7201a8\"], [0.3333333333333333, \"#9c179e\"], [0.4444444444444444, \"#bd3786\"], [0.5555555555555556, \"#d8576b\"], [0.6666666666666666, \"#ed7953\"], [0.7777777777777778, \"#fb9f3a\"], [0.8888888888888888, \"#fdca26\"], [1.0, \"#f0f921\"]], \"type\": \"heatmap\"}], \"heatmapgl\": [{\"colorbar\": {\"outlinewidth\": 0, \"ticks\": \"\"}, \"colorscale\": [[0.0, \"#0d0887\"], [0.1111111111111111, \"#46039f\"], [0.2222222222222222, \"#7201a8\"], [0.3333333333333333, \"#9c179e\"], [0.4444444444444444, \"#bd3786\"], [0.5555555555555556, \"#d8576b\"], [0.6666666666666666, \"#ed7953\"], [0.7777777777777778, \"#fb9f3a\"], [0.8888888888888888, \"#fdca26\"], [1.0, \"#f0f921\"]], \"type\": \"heatmapgl\"}], \"histogram\": [{\"marker\": {\"colorbar\": {\"outlinewidth\": 0, \"ticks\": \"\"}}, \"type\": \"histogram\"}], \"histogram2d\": [{\"colorbar\": {\"outlinewidth\": 0, \"ticks\": \"\"}, \"colorscale\": [[0.0, \"#0d0887\"], [0.1111111111111111, \"#46039f\"], [0.2222222222222222, \"#7201a8\"], [0.3333333333333333, \"#9c179e\"], [0.4444444444444444, \"#bd3786\"], [0.5555555555555556, \"#d8576b\"], [0.6666666666666666, \"#ed7953\"], [0.7777777777777778, \"#fb9f3a\"], [0.8888888888888888, \"#fdca26\"], [1.0, \"#f0f921\"]], \"type\": \"histogram2d\"}], \"histogram2dcontour\": [{\"colorbar\": {\"outlinewidth\": 0, \"ticks\": \"\"}, \"colorscale\": [[0.0, \"#0d0887\"], [0.1111111111111111, \"#46039f\"], [0.2222222222222222, \"#7201a8\"], [0.3333333333333333, \"#9c179e\"], [0.4444444444444444, \"#bd3786\"], [0.5555555555555556, \"#d8576b\"], [0.6666666666666666, \"#ed7953\"], [0.7777777777777778, \"#fb9f3a\"], [0.8888888888888888, \"#fdca26\"], [1.0, \"#f0f921\"]], \"type\": \"histogram2dcontour\"}], \"mesh3d\": [{\"colorbar\": {\"outlinewidth\": 0, \"ticks\": \"\"}, \"type\": \"mesh3d\"}], \"parcoords\": [{\"line\": {\"colorbar\": {\"outlinewidth\": 0, \"ticks\": \"\"}}, \"type\": \"parcoords\"}], \"pie\": [{\"automargin\": true, \"type\": \"pie\"}], \"scatter\": [{\"marker\": {\"colorbar\": {\"outlinewidth\": 0, \"ticks\": \"\"}}, \"type\": \"scatter\"}], \"scatter3d\": [{\"line\": {\"colorbar\": {\"outlinewidth\": 0, \"ticks\": \"\"}}, \"marker\": {\"colorbar\": {\"outlinewidth\": 0, \"ticks\": \"\"}}, \"type\": \"scatter3d\"}], \"scattercarpet\": [{\"marker\": {\"colorbar\": {\"outlinewidth\": 0, \"ticks\": \"\"}}, \"type\": \"scattercarpet\"}], \"scattergeo\": [{\"marker\": {\"colorbar\": {\"outlinewidth\": 0, \"ticks\": \"\"}}, \"type\": \"scattergeo\"}], \"scattergl\": [{\"marker\": {\"colorbar\": {\"outlinewidth\": 0, \"ticks\": \"\"}}, \"type\": \"scattergl\"}], \"scattermapbox\": [{\"marker\": {\"colorbar\": {\"outlinewidth\": 0, \"ticks\": \"\"}}, \"type\": \"scattermapbox\"}], \"scatterpolar\": [{\"marker\": {\"colorbar\": {\"outlinewidth\": 0, \"ticks\": \"\"}}, \"type\": \"scatterpolar\"}], \"scatterpolargl\": [{\"marker\": {\"colorbar\": {\"outlinewidth\": 0, \"ticks\": \"\"}}, \"type\": \"scatterpolargl\"}], \"scatterternary\": [{\"marker\": {\"colorbar\": {\"outlinewidth\": 0, \"ticks\": \"\"}}, \"type\": \"scatterternary\"}], \"surface\": [{\"colorbar\": {\"outlinewidth\": 0, \"ticks\": \"\"}, \"colorscale\": [[0.0, \"#0d0887\"], [0.1111111111111111, \"#46039f\"], [0.2222222222222222, \"#7201a8\"], [0.3333333333333333, \"#9c179e\"], [0.4444444444444444, \"#bd3786\"], [0.5555555555555556, \"#d8576b\"], [0.6666666666666666, \"#ed7953\"], [0.7777777777777778, \"#fb9f3a\"], [0.8888888888888888, \"#fdca26\"], [1.0, \"#f0f921\"]], \"type\": \"surface\"}], \"table\": [{\"cells\": {\"fill\": {\"color\": \"#EBF0F8\"}, \"line\": {\"color\": \"white\"}}, \"header\": {\"fill\": {\"color\": \"#C8D4E3\"}, \"line\": {\"color\": \"white\"}}, \"type\": \"table\"}]}, \"layout\": {\"annotationdefaults\": {\"arrowcolor\": \"#2a3f5f\", \"arrowhead\": 0, \"arrowwidth\": 1}, \"coloraxis\": {\"colorbar\": {\"outlinewidth\": 0, \"ticks\": \"\"}}, \"colorscale\": {\"diverging\": [[0, \"#8e0152\"], [0.1, \"#c51b7d\"], [0.2, \"#de77ae\"], [0.3, \"#f1b6da\"], [0.4, \"#fde0ef\"], [0.5, \"#f7f7f7\"], [0.6, \"#e6f5d0\"], [0.7, \"#b8e186\"], [0.8, \"#7fbc41\"], [0.9, \"#4d9221\"], [1, \"#276419\"]], \"sequential\": [[0.0, \"#0d0887\"], [0.1111111111111111, \"#46039f\"], [0.2222222222222222, \"#7201a8\"], [0.3333333333333333, \"#9c179e\"], [0.4444444444444444, \"#bd3786\"], [0.5555555555555556, \"#d8576b\"], [0.6666666666666666, \"#ed7953\"], [0.7777777777777778, \"#fb9f3a\"], [0.8888888888888888, \"#fdca26\"], [1.0, \"#f0f921\"]], \"sequentialminus\": [[0.0, \"#0d0887\"], [0.1111111111111111, \"#46039f\"], [0.2222222222222222, \"#7201a8\"], [0.3333333333333333, \"#9c179e\"], [0.4444444444444444, \"#bd3786\"], [0.5555555555555556, \"#d8576b\"], [0.6666666666666666, \"#ed7953\"], [0.7777777777777778, \"#fb9f3a\"], [0.8888888888888888, \"#fdca26\"], [1.0, \"#f0f921\"]]}, \"colorway\": [\"#636efa\", \"#EF553B\", \"#00cc96\", \"#ab63fa\", \"#FFA15A\", \"#19d3f3\", \"#FF6692\", \"#B6E880\", \"#FF97FF\", \"#FECB52\"], \"font\": {\"color\": \"#2a3f5f\"}, \"geo\": {\"bgcolor\": \"white\", \"lakecolor\": \"white\", \"landcolor\": \"#E5ECF6\", \"showlakes\": true, \"showland\": true, \"subunitcolor\": \"white\"}, \"hoverlabel\": {\"align\": \"left\"}, \"hovermode\": \"closest\", \"mapbox\": {\"style\": \"light\"}, \"paper_bgcolor\": \"white\", \"plot_bgcolor\": \"#E5ECF6\", \"polar\": {\"angularaxis\": {\"gridcolor\": \"white\", \"linecolor\": \"white\", \"ticks\": \"\"}, \"bgcolor\": \"#E5ECF6\", \"radialaxis\": {\"gridcolor\": \"white\", \"linecolor\": \"white\", \"ticks\": \"\"}}, \"scene\": {\"xaxis\": {\"backgroundcolor\": \"#E5ECF6\", \"gridcolor\": \"white\", \"gridwidth\": 2, \"linecolor\": \"white\", \"showbackground\": true, \"ticks\": \"\", \"zerolinecolor\": \"white\"}, \"yaxis\": {\"backgroundcolor\": \"#E5ECF6\", \"gridcolor\": \"white\", \"gridwidth\": 2, \"linecolor\": \"white\", \"showbackground\": true, \"ticks\": \"\", \"zerolinecolor\": \"white\"}, \"zaxis\": {\"backgroundcolor\": \"#E5ECF6\", \"gridcolor\": \"white\", \"gridwidth\": 2, \"linecolor\": \"white\", \"showbackground\": true, \"ticks\": \"\", \"zerolinecolor\": \"white\"}}, \"shapedefaults\": {\"line\": {\"color\": \"#2a3f5f\"}}, \"ternary\": {\"aaxis\": {\"gridcolor\": \"white\", \"linecolor\": \"white\", \"ticks\": \"\"}, \"baxis\": {\"gridcolor\": \"white\", \"linecolor\": \"white\", \"ticks\": \"\"}, \"bgcolor\": \"#E5ECF6\", \"caxis\": {\"gridcolor\": \"white\", \"linecolor\": \"white\", \"ticks\": \"\"}}, \"title\": {\"x\": 0.05}, \"xaxis\": {\"automargin\": true, \"gridcolor\": \"white\", \"linecolor\": \"white\", \"ticks\": \"\", \"title\": {\"standoff\": 15}, \"zerolinecolor\": \"white\", \"zerolinewidth\": 2}, \"yaxis\": {\"automargin\": true, \"gridcolor\": \"white\", \"linecolor\": \"white\", \"ticks\": \"\", \"title\": {\"standoff\": 15}, \"zerolinecolor\": \"white\", \"zerolinewidth\": 2}}}, \"xaxis\": {\"anchor\": \"y\", \"domain\": [0.0, 0.49], \"title\": {\"text\": \"data\"}}, \"xaxis2\": {\"anchor\": \"y2\", \"domain\": [0.51, 1.0], \"matches\": \"x\", \"title\": {\"text\": \"data\"}}, \"yaxis\": {\"anchor\": \"x\", \"domain\": [0.0, 1.0], \"title\": {\"text\": \"Record Count\"}}, \"yaxis2\": {\"anchor\": \"x2\", \"domain\": [0.0, 1.0], \"matches\": \"y\", \"showticklabels\": false}},\n",
              "                        {\"responsive\": true}\n",
              "                    ).then(function(){\n",
              "                            \n",
              "var gd = document.getElementById('06edc9e5-7048-4408-981b-bfcdb51f21c2');\n",
              "var x = new MutationObserver(function (mutations, observer) {{\n",
              "        var display = window.getComputedStyle(gd).display;\n",
              "        if (!display || display === 'none') {{\n",
              "            console.log([gd, 'removed!']);\n",
              "            Plotly.purge(gd);\n",
              "            observer.disconnect();\n",
              "        }}\n",
              "}});\n",
              "\n",
              "// Listen for the removal of the full notebook cells\n",
              "var notebookContainer = gd.closest('#notebook-container');\n",
              "if (notebookContainer) {{\n",
              "    x.observe(notebookContainer, {childList: true});\n",
              "}}\n",
              "\n",
              "// Listen for the clearing of the current output cell\n",
              "var outputEl = gd.closest('.output');\n",
              "if (outputEl) {{\n",
              "    x.observe(outputEl, {childList: true});\n",
              "}}\n",
              "\n",
              "                        })\n",
              "                };\n",
              "                \n",
              "            </script>\n",
              "        </div>\n",
              "</body>\n",
              "</html>"
            ]
          },
          "metadata": {}
        }
      ]
    },
    {
      "cell_type": "code",
      "metadata": {
        "colab": {
          "base_uri": "https://localhost:8080/",
          "height": 542
        },
        "id": "92D0N-RoXzGZ",
        "outputId": "23221441-93f2-4a34-e54f-6485764084b6"
      },
      "source": [
        "fig = px.area(dados, x='data', y='Record Count')\n",
        "fig.show()"
      ],
      "execution_count": 57,
      "outputs": [
        {
          "output_type": "display_data",
          "data": {
            "text/html": [
              "<html>\n",
              "<head><meta charset=\"utf-8\" /></head>\n",
              "<body>\n",
              "    <div>\n",
              "            <script src=\"https://cdnjs.cloudflare.com/ajax/libs/mathjax/2.7.5/MathJax.js?config=TeX-AMS-MML_SVG\"></script><script type=\"text/javascript\">if (window.MathJax) {MathJax.Hub.Config({SVG: {font: \"STIX-Web\"}});}</script>\n",
              "                <script type=\"text/javascript\">window.PlotlyConfig = {MathJaxConfig: 'local'};</script>\n",
              "        <script src=\"https://cdn.plot.ly/plotly-latest.min.js\"></script>    \n",
              "            <div id=\"17953cf9-370a-45a3-a768-9a53c761a030\" class=\"plotly-graph-div\" style=\"height:525px; width:100%;\"></div>\n",
              "            <script type=\"text/javascript\">\n",
              "                \n",
              "                    window.PLOTLYENV=window.PLOTLYENV || {};\n",
              "                    \n",
              "                if (document.getElementById(\"17953cf9-370a-45a3-a768-9a53c761a030\")) {\n",
              "                    Plotly.newPlot(\n",
              "                        '17953cf9-370a-45a3-a768-9a53c761a030',\n",
              "                        [{\"hoverlabel\": {\"namelength\": 0}, \"hovertemplate\": \"data=%{x}<br>Record Count=%{y}\", \"legendgroup\": \"\", \"line\": {\"color\": \"#636efa\"}, \"mode\": \"lines\", \"name\": \"\", \"orientation\": \"v\", \"showlegend\": false, \"stackgroup\": \"1\", \"type\": \"scatter\", \"x\": [\"2019-12-12T00:00:00\", \"2018-03-02T00:00:00\", \"2018-08-29T00:00:00\", \"2017-01-07T00:00:00\", \"2016-10-27T00:00:00\", \"2016-10-11T00:00:00\", \"2017-03-04T00:00:00\", \"2016-10-28T00:00:00\", \"2020-09-20T00:00:00\", \"2017-05-08T00:00:00\", \"2017-01-09T00:00:00\", \"2016-10-27T00:00:00\", \"2018-08-13T00:00:00\", \"2017-11-18T00:00:00\", \"2017-05-04T00:00:00\", \"2018-08-20T00:00:00\", \"2019-08-21T00:00:00\", \"2020-08-12T00:00:00\", \"2020-11-21T00:00:00\", \"2017-06-08T00:00:00\", \"2021-03-30T00:00:00\", \"2017-09-13T00:00:00\", \"2017-08-14T00:00:00\", \"2020-10-07T00:00:00\", \"2019-07-25T00:00:00\", \"2017-05-09T00:00:00\", \"2021-08-01T00:00:00\", \"2021-04-01T00:00:00\", \"2016-10-31T00:00:00\", \"2020-07-15T00:00:00\", \"2017-08-23T00:00:00\", \"2020-02-17T00:00:00\", \"2020-08-13T00:00:00\", \"2018-11-06T00:00:00\", \"2017-02-09T00:00:00\", \"2019-10-21T00:00:00\", \"2021-03-22T00:00:00\", \"2021-11-23T00:00:00\", \"2020-03-11T00:00:00\", \"2019-03-15T00:00:00\", \"2018-01-31T00:00:00\", \"2018-06-12T00:00:00\", \"2017-06-12T00:00:00\", \"2020-07-16T00:00:00\", \"2018-08-30T00:00:00\", \"2017-05-10T00:00:00\", \"2018-06-19T00:00:00\", \"2020-09-08T00:00:00\", \"2017-05-18T00:00:00\", \"2017-08-19T00:00:00\", \"2020-06-16T00:00:00\", \"2020-02-04T00:00:00\", \"2018-01-21T00:00:00\", \"2016-11-25T00:00:00\", \"2017-09-01T00:00:00\", \"2017-08-22T00:00:00\", \"2021-10-21T00:00:00\", \"2018-09-03T00:00:00\", \"2018-06-12T00:00:00\", \"2021-01-29T00:00:00\", \"2018-08-20T00:00:00\", \"2018-09-28T00:00:00\", \"2019-07-18T00:00:00\", \"2019-07-22T00:00:00\", \"2019-05-07T00:00:00\", \"2017-08-24T00:00:00\", \"2018-08-03T00:00:00\", \"2018-09-21T00:00:00\", \"2017-12-07T00:00:00\", \"2017-08-20T00:00:00\", \"2020-04-18T00:00:00\", \"2021-06-04T00:00:00\", \"2019-08-19T00:00:00\", \"2018-07-11T00:00:00\", \"2020-05-06T00:00:00\", \"2016-10-25T00:00:00\", \"2020-07-10T00:00:00\", \"2018-07-13T00:00:00\", \"2019-02-28T00:00:00\", \"2016-10-27T00:00:00\", \"2017-06-10T00:00:00\", \"2018-02-06T00:00:00\", \"2018-08-30T00:00:00\", \"2020-09-14T00:00:00\", \"2021-11-30T00:00:00\", \"2019-06-26T00:00:00\", \"2017-08-27T00:00:00\", \"2019-02-20T00:00:00\", \"2019-07-13T00:00:00\", \"2016-10-28T00:00:00\", \"2019-07-29T00:00:00\", \"2020-10-01T00:00:00\", \"2017-05-08T00:00:00\", \"2017-03-23T00:00:00\", \"2017-07-25T00:00:00\", \"2019-07-18T00:00:00\", \"2020-02-20T00:00:00\", \"2017-07-27T00:00:00\", \"2017-06-29T00:00:00\", \"2018-09-03T00:00:00\", \"2020-11-11T00:00:00\", \"2018-06-12T00:00:00\", \"2016-11-05T00:00:00\", \"2017-01-04T00:00:00\", \"2020-01-24T00:00:00\", \"2019-02-25T00:00:00\", \"2020-02-23T00:00:00\", \"2018-10-12T00:00:00\", \"2018-10-10T00:00:00\", \"2017-11-24T00:00:00\", \"2020-07-20T00:00:00\", \"2017-07-26T00:00:00\", \"2017-09-06T00:00:00\", \"2016-10-20T00:00:00\", \"2017-06-14T00:00:00\", \"2017-06-24T00:00:00\", \"2020-08-26T00:00:00\", \"2016-11-25T00:00:00\", \"2019-08-18T00:00:00\", \"2017-01-10T00:00:00\", \"2019-08-21T00:00:00\", \"2019-05-06T00:00:00\", \"2019-02-04T00:00:00\", \"2017-06-26T00:00:00\", \"2019-10-07T00:00:00\", \"2020-03-10T00:00:00\", \"2018-03-24T00:00:00\", \"2018-06-22T00:00:00\", \"2017-08-07T00:00:00\", \"2018-10-04T00:00:00\", \"2018-05-09T00:00:00\", \"2016-12-08T00:00:00\", \"2020-09-04T00:00:00\", \"2020-07-26T00:00:00\", \"2020-12-15T00:00:00\", \"2020-11-24T00:00:00\", \"2018-03-15T00:00:00\", \"2017-01-05T00:00:00\", \"2020-09-29T00:00:00\", \"2021-12-07T00:00:00\", \"2021-08-03T00:00:00\", \"2020-03-21T00:00:00\", \"2018-12-13T00:00:00\", \"2017-04-09T00:00:00\", \"2017-06-06T00:00:00\", \"2017-08-09T00:00:00\", \"2018-05-22T00:00:00\", \"2018-12-14T00:00:00\", \"2018-03-31T00:00:00\", \"2016-10-12T00:00:00\", \"2016-11-01T00:00:00\", \"2016-11-29T00:00:00\", \"2016-11-13T00:00:00\", \"2017-06-20T00:00:00\", \"2021-01-05T00:00:00\", \"2020-08-25T00:00:00\", \"2018-08-29T00:00:00\", \"2019-09-11T00:00:00\", \"2017-07-12T00:00:00\", \"2017-09-04T00:00:00\", \"2020-07-09T00:00:00\", \"2016-10-21T00:00:00\", \"2018-09-13T00:00:00\", \"2017-08-17T00:00:00\", \"2018-09-05T00:00:00\", \"2019-02-11T00:00:00\", \"2016-11-07T00:00:00\", \"2016-10-19T00:00:00\", \"2016-11-18T00:00:00\", \"2018-07-02T00:00:00\", \"2020-09-07T00:00:00\", \"2016-11-07T00:00:00\", \"2016-11-25T00:00:00\", \"2016-10-28T00:00:00\", \"2021-03-01T00:00:00\", \"2018-09-01T00:00:00\", \"2020-09-18T00:00:00\", \"2018-01-22T00:00:00\", \"2019-11-08T00:00:00\", \"2017-02-13T00:00:00\", \"2020-02-28T00:00:00\", \"2016-10-20T00:00:00\", \"2021-09-10T00:00:00\", \"2021-10-30T00:00:00\", \"2018-08-27T00:00:00\", \"2018-12-25T00:00:00\", \"2017-08-10T00:00:00\", \"2019-11-07T00:00:00\", \"2018-09-11T00:00:00\", \"2018-08-05T00:00:00\", \"2018-02-20T00:00:00\", \"2016-10-25T00:00:00\", \"2017-07-17T00:00:00\", \"2018-06-17T00:00:00\", \"2021-01-16T00:00:00\", \"2016-12-08T00:00:00\", \"2017-11-24T00:00:00\", \"2019-08-26T00:00:00\", \"2017-01-18T00:00:00\", \"2021-08-06T00:00:00\", \"2020-09-15T00:00:00\", \"2018-07-06T00:00:00\", \"2020-02-09T00:00:00\", \"2020-03-03T00:00:00\", \"2016-10-28T00:00:00\", \"2020-06-06T00:00:00\", \"2018-07-03T00:00:00\", \"2019-02-20T00:00:00\", \"2020-01-27T00:00:00\", \"2019-10-17T00:00:00\", \"2020-11-27T00:00:00\", \"2016-11-10T00:00:00\", \"2019-09-12T00:00:00\", \"2020-02-05T00:00:00\", \"2017-08-10T00:00:00\", \"2017-08-15T00:00:00\", \"2021-10-04T00:00:00\", \"2019-07-23T00:00:00\", \"2017-01-24T00:00:00\", \"2020-07-21T00:00:00\", \"2018-06-15T00:00:00\", \"2018-07-24T00:00:00\", \"2018-06-25T00:00:00\", \"2018-10-30T00:00:00\", \"2017-10-04T00:00:00\", \"2018-03-20T00:00:00\", \"2017-08-15T00:00:00\", \"2017-06-25T00:00:00\", \"2019-11-18T00:00:00\", \"2019-10-31T00:00:00\", \"2018-01-09T00:00:00\", \"2020-10-08T00:00:00\", \"2017-07-24T00:00:00\", \"2019-02-10T00:00:00\", \"2019-10-23T00:00:00\", \"2016-11-25T00:00:00\", \"2018-12-11T00:00:00\", \"2018-11-10T00:00:00\", \"2019-01-04T00:00:00\", \"2017-06-21T00:00:00\", \"2017-08-18T00:00:00\", \"2018-09-24T00:00:00\", \"2020-07-14T00:00:00\", \"2017-07-25T00:00:00\", \"2018-11-07T00:00:00\", \"2016-10-05T00:00:00\", \"2016-11-29T00:00:00\", \"2017-06-11T00:00:00\", \"2020-02-26T00:00:00\", \"2017-02-23T00:00:00\", \"2017-09-13T00:00:00\", \"2020-06-08T00:00:00\", \"2016-11-24T00:00:00\", \"2016-11-09T00:00:00\", \"2018-01-16T00:00:00\", \"2020-01-19T00:00:00\", \"2018-10-03T00:00:00\", \"2020-02-24T00:00:00\", \"2018-02-15T00:00:00\", \"2017-07-25T00:00:00\", \"2021-09-27T00:00:00\", \"2018-03-26T00:00:00\", \"2017-09-03T00:00:00\", \"2018-09-18T00:00:00\", \"2016-10-25T00:00:00\", \"2020-07-09T00:00:00\", \"2021-08-04T00:00:00\", \"2018-04-16T00:00:00\", \"2020-11-03T00:00:00\", \"2018-06-11T00:00:00\", \"2018-10-02T00:00:00\", \"2019-02-11T00:00:00\", \"2021-04-06T00:00:00\", \"2016-11-14T00:00:00\", \"2017-07-20T00:00:00\", \"2019-10-17T00:00:00\", \"2018-07-04T00:00:00\", \"2020-10-19T00:00:00\", \"2017-08-12T00:00:00\", \"2017-08-29T00:00:00\", \"2017-07-09T00:00:00\", \"2018-12-12T00:00:00\", \"2020-05-01T00:00:00\", \"2020-09-15T00:00:00\", \"2021-08-09T00:00:00\", \"2020-04-13T00:00:00\", \"2017-08-20T00:00:00\", \"2021-07-04T00:00:00\", \"2019-03-15T00:00:00\", \"2021-08-20T00:00:00\", \"2018-12-01T00:00:00\", \"2018-08-20T00:00:00\", \"2020-06-25T00:00:00\", \"2020-09-09T00:00:00\", \"2017-03-08T00:00:00\", \"2017-01-18T00:00:00\", \"2021-11-20T00:00:00\", \"2017-06-19T00:00:00\", \"2017-08-23T00:00:00\", \"2017-05-12T00:00:00\", \"2020-01-25T00:00:00\", \"2016-10-30T00:00:00\", \"2018-06-11T00:00:00\", \"2019-07-31T00:00:00\", \"2017-03-27T00:00:00\", \"2021-06-09T00:00:00\", \"2017-01-17T00:00:00\", \"2020-10-08T00:00:00\", \"2017-02-24T00:00:00\", \"2021-08-01T00:00:00\", \"2020-04-22T00:00:00\", \"2018-10-11T00:00:00\", \"2020-02-03T00:00:00\", \"2017-06-29T00:00:00\", \"2018-06-18T00:00:00\", \"2020-05-23T00:00:00\", \"2017-08-21T00:00:00\", \"2020-07-07T00:00:00\", \"2017-09-05T00:00:00\", \"2019-08-01T00:00:00\", \"2017-01-11T00:00:00\", \"2016-11-06T00:00:00\", \"2018-08-02T00:00:00\", \"2016-10-26T00:00:00\", \"2019-02-26T00:00:00\", \"2017-04-05T00:00:00\", \"2020-09-13T00:00:00\", \"2019-02-27T00:00:00\", \"2019-03-11T00:00:00\", \"2017-07-01T00:00:00\", \"2019-01-28T00:00:00\", \"2018-03-22T00:00:00\", \"2016-12-08T00:00:00\", \"2020-07-22T00:00:00\", \"2020-07-20T00:00:00\", \"2019-08-26T00:00:00\", \"2018-06-05T00:00:00\", \"2018-07-28T00:00:00\", \"2020-01-21T00:00:00\", \"2017-11-21T00:00:00\", \"2019-07-02T00:00:00\", \"2019-08-24T00:00:00\", \"2021-01-29T00:00:00\", \"2021-07-15T00:00:00\", \"2016-12-03T00:00:00\", \"2018-05-25T00:00:00\", \"2019-10-07T00:00:00\", \"2021-01-12T00:00:00\", \"2020-07-17T00:00:00\", \"2020-07-21T00:00:00\", \"2017-02-18T00:00:00\", \"2017-07-17T00:00:00\", \"2018-06-12T00:00:00\", \"2018-01-06T00:00:00\", \"2017-07-30T00:00:00\", \"2019-04-09T00:00:00\", \"2021-11-01T00:00:00\", \"2017-07-18T00:00:00\", \"2018-08-31T00:00:00\", \"2017-08-08T00:00:00\", \"2018-06-13T00:00:00\", \"2021-09-13T00:00:00\", \"2017-06-18T00:00:00\", \"2021-06-19T00:00:00\", \"2017-03-10T00:00:00\", \"2020-07-15T00:00:00\", \"2017-07-24T00:00:00\", \"2021-04-09T00:00:00\", \"2016-10-12T00:00:00\", \"2020-11-15T00:00:00\", \"2018-10-16T00:00:00\", \"2019-02-07T00:00:00\", \"2017-11-13T00:00:00\", \"2017-01-26T00:00:00\", \"2019-03-12T00:00:00\", \"2018-01-09T00:00:00\", \"2017-08-30T00:00:00\", \"2018-06-04T00:00:00\", \"2018-09-19T00:00:00\", \"2017-07-11T00:00:00\", \"2017-06-16T00:00:00\", \"2019-03-11T00:00:00\", \"2017-08-08T00:00:00\", \"2018-11-01T00:00:00\", \"2018-02-22T00:00:00\", \"2018-12-15T00:00:00\", \"2017-08-28T00:00:00\", \"2021-03-11T00:00:00\", \"2017-02-01T00:00:00\", \"2018-10-08T00:00:00\", \"2018-11-30T00:00:00\", \"2020-06-29T00:00:00\", \"2021-07-21T00:00:00\", \"2018-10-03T00:00:00\", \"2017-06-19T00:00:00\", \"2021-02-11T00:00:00\", \"2020-07-24T00:00:00\", \"2017-04-04T00:00:00\", \"2017-06-21T00:00:00\", \"2019-07-24T00:00:00\", \"2018-08-07T00:00:00\", \"2017-07-26T00:00:00\", \"2018-09-20T00:00:00\", \"2017-08-20T00:00:00\", \"2017-08-19T00:00:00\", \"2017-06-12T00:00:00\", \"2019-10-16T00:00:00\", \"2017-06-28T00:00:00\", \"2016-11-24T00:00:00\", \"2017-06-19T00:00:00\", \"2016-11-01T00:00:00\", \"2019-07-01T00:00:00\", \"2019-02-24T00:00:00\", \"2019-06-14T00:00:00\", \"2018-09-12T00:00:00\", \"2018-04-24T00:00:00\", \"2019-02-01T00:00:00\", \"2018-11-19T00:00:00\", \"2017-06-27T00:00:00\", \"2016-11-03T00:00:00\", \"2016-09-16T00:00:00\", \"2017-01-13T00:00:00\", \"2019-10-19T00:00:00\", \"2019-02-04T00:00:00\", \"2020-08-11T00:00:00\", \"2017-07-11T00:00:00\", \"2019-10-04T00:00:00\", \"2021-07-06T00:00:00\", \"2018-02-05T00:00:00\", \"2019-10-11T00:00:00\", \"2021-08-12T00:00:00\", \"2019-08-02T00:00:00\", \"2017-06-08T00:00:00\", \"2017-09-04T00:00:00\", \"2017-08-02T00:00:00\", \"2017-01-02T00:00:00\", \"2021-07-28T00:00:00\", \"2017-07-28T00:00:00\", \"2017-06-30T00:00:00\", \"2017-05-29T00:00:00\", \"2018-09-24T00:00:00\", \"2018-08-25T00:00:00\", \"2019-06-25T00:00:00\", \"2020-07-01T00:00:00\", \"2019-10-03T00:00:00\", \"2021-10-15T00:00:00\", \"2017-07-31T00:00:00\", \"2019-07-29T00:00:00\", \"2019-01-14T00:00:00\", \"2019-10-23T00:00:00\", \"2017-03-02T00:00:00\", \"2017-12-12T00:00:00\", \"2020-06-03T00:00:00\", \"2021-10-21T00:00:00\", \"2020-08-10T00:00:00\", \"2018-09-04T00:00:00\", \"2017-02-14T00:00:00\", \"2017-08-24T00:00:00\", \"2018-11-28T00:00:00\", \"2017-12-13T00:00:00\", \"2018-03-29T00:00:00\", \"2019-05-27T00:00:00\", \"2019-08-22T00:00:00\", \"2019-08-22T00:00:00\", \"2021-03-02T00:00:00\", \"2019-01-31T00:00:00\", \"2020-12-14T00:00:00\", \"2016-12-06T00:00:00\", \"2017-11-22T00:00:00\", \"2017-01-07T00:00:00\", \"2018-06-25T00:00:00\", \"2021-05-03T00:00:00\", \"2020-01-29T00:00:00\", \"2018-06-06T00:00:00\", \"2017-10-08T00:00:00\", \"2016-10-19T00:00:00\", \"2020-10-07T00:00:00\", \"2020-07-12T00:00:00\", \"2021-06-07T00:00:00\", \"2020-06-30T00:00:00\", \"2019-01-21T00:00:00\", \"2018-02-11T00:00:00\", \"2017-09-06T00:00:00\", \"2020-09-11T00:00:00\", \"2018-09-23T00:00:00\", \"2018-07-25T00:00:00\", \"2020-08-02T00:00:00\", \"2019-12-04T00:00:00\", \"2019-01-11T00:00:00\", \"2016-11-01T00:00:00\", \"2020-09-03T00:00:00\", \"2019-03-18T00:00:00\", \"2019-08-25T00:00:00\", \"2020-10-16T00:00:00\", \"2017-01-29T00:00:00\", \"2020-09-17T00:00:00\", \"2016-10-24T00:00:00\", \"2016-10-20T00:00:00\", \"2019-07-26T00:00:00\", \"2018-03-14T00:00:00\", \"2019-05-15T00:00:00\", \"2020-02-12T00:00:00\", \"2017-07-28T00:00:00\", \"2021-04-15T00:00:00\", \"2021-07-05T00:00:00\", \"2017-08-29T00:00:00\", \"2018-04-13T00:00:00\", \"2016-11-19T00:00:00\", \"2017-07-04T00:00:00\", \"2019-05-13T00:00:00\", \"2020-11-25T00:00:00\", \"2017-10-16T00:00:00\", \"2016-11-07T00:00:00\", \"2017-06-20T00:00:00\", \"2021-09-10T00:00:00\", \"2021-06-07T00:00:00\", \"2020-06-09T00:00:00\", \"2017-07-12T00:00:00\", \"2018-05-24T00:00:00\", \"2017-03-09T00:00:00\", \"2017-08-27T00:00:00\", \"2018-12-27T00:00:00\", \"2017-08-07T00:00:00\", \"2020-10-06T00:00:00\", \"2020-10-14T00:00:00\", \"2018-08-21T00:00:00\", \"2017-09-25T00:00:00\", \"2018-10-02T00:00:00\", \"2019-12-18T00:00:00\", \"2017-10-17T00:00:00\", \"2017-07-08T00:00:00\", \"2016-12-12T00:00:00\", \"2018-07-31T00:00:00\", \"2018-06-11T00:00:00\", \"2020-04-04T00:00:00\", \"2016-12-30T00:00:00\", \"2018-06-26T00:00:00\", \"2020-04-08T00:00:00\", \"2021-10-14T00:00:00\", \"2020-08-24T00:00:00\", \"2020-11-24T00:00:00\", \"2017-03-03T00:00:00\", \"2019-12-11T00:00:00\", \"2019-01-14T00:00:00\", \"2020-03-26T00:00:00\", \"2017-02-26T00:00:00\", \"2020-05-01T00:00:00\", \"2016-10-29T00:00:00\", \"2021-02-24T00:00:00\", \"2016-12-05T00:00:00\", \"2017-02-03T00:00:00\", \"2017-12-11T00:00:00\", \"2018-06-11T00:00:00\", \"2016-10-31T00:00:00\", \"2019-12-09T00:00:00\", \"2018-02-06T00:00:00\", \"2019-08-15T00:00:00\", \"2019-04-24T00:00:00\", \"2019-05-30T00:00:00\", \"2019-09-25T00:00:00\", \"2017-05-22T00:00:00\", \"2017-08-19T00:00:00\", \"2017-08-21T00:00:00\", \"2016-11-30T00:00:00\", \"2018-10-18T00:00:00\", \"2020-03-22T00:00:00\", \"2018-04-25T00:00:00\", \"2020-07-16T00:00:00\", \"2018-12-29T00:00:00\", \"2017-08-22T00:00:00\", \"2018-07-02T00:00:00\", \"2017-02-23T00:00:00\", \"2019-07-29T00:00:00\", \"2017-01-07T00:00:00\", \"2021-02-19T00:00:00\", \"2020-02-26T00:00:00\", \"2017-09-15T00:00:00\", \"2019-04-04T00:00:00\", \"2018-02-25T00:00:00\", \"2021-11-09T00:00:00\", \"2016-10-11T00:00:00\", \"2017-01-11T00:00:00\", \"2017-04-26T00:00:00\", \"2018-11-28T00:00:00\", \"2020-06-23T00:00:00\", \"2021-09-14T00:00:00\", \"2020-09-19T00:00:00\", \"2019-09-24T00:00:00\", \"2017-07-23T00:00:00\", \"2021-09-16T00:00:00\", \"2020-01-31T00:00:00\", \"2020-09-10T00:00:00\", \"2017-02-11T00:00:00\", \"2018-07-04T00:00:00\", \"2017-02-21T00:00:00\", \"2018-06-28T00:00:00\", \"2018-03-05T00:00:00\", \"2017-07-14T00:00:00\", \"2019-08-12T00:00:00\", \"2020-02-06T00:00:00\", \"2020-07-08T00:00:00\", \"2020-04-10T00:00:00\", \"2017-07-13T00:00:00\", \"2017-12-11T00:00:00\", \"2021-10-26T00:00:00\", \"2017-09-04T00:00:00\", \"2021-08-10T00:00:00\", \"2018-01-24T00:00:00\", \"2017-08-25T00:00:00\", \"2018-10-11T00:00:00\", \"2016-12-14T00:00:00\", \"2021-06-18T00:00:00\", \"2020-07-30T00:00:00\", \"2019-03-13T00:00:00\", \"2020-09-19T00:00:00\", \"2016-12-06T00:00:00\", \"2021-10-04T00:00:00\", \"2020-09-01T00:00:00\", \"2017-05-13T00:00:00\", \"2021-07-20T00:00:00\", \"2017-05-02T00:00:00\", \"2017-10-05T00:00:00\", \"2020-02-20T00:00:00\", \"2018-10-13T00:00:00\", \"2018-04-07T00:00:00\", \"2018-04-05T00:00:00\", \"2017-06-28T00:00:00\", \"2018-06-14T00:00:00\", \"2019-11-07T00:00:00\", \"2019-02-23T00:00:00\", \"2020-12-22T00:00:00\", \"2020-12-07T00:00:00\", \"2017-06-20T00:00:00\", \"2019-04-25T00:00:00\", \"2020-01-24T00:00:00\", \"2018-01-03T00:00:00\", \"2021-10-28T00:00:00\", \"2018-02-21T00:00:00\", \"2019-04-01T00:00:00\", \"2020-04-02T00:00:00\", \"2020-01-28T00:00:00\", \"2019-09-23T00:00:00\", \"2020-05-24T00:00:00\", \"2018-12-12T00:00:00\", \"2017-09-05T00:00:00\", \"2017-09-18T00:00:00\", \"2021-04-09T00:00:00\", \"2017-11-29T00:00:00\", \"2016-11-08T00:00:00\", \"2019-01-13T00:00:00\", \"2017-05-16T00:00:00\", \"2019-01-30T00:00:00\", \"2018-09-01T00:00:00\", \"2018-04-12T00:00:00\", \"2021-09-01T00:00:00\", \"2019-08-14T00:00:00\", \"2017-04-03T00:00:00\", \"2020-04-14T00:00:00\", \"2017-04-19T00:00:00\", \"2017-10-16T00:00:00\", \"2017-09-22T00:00:00\", \"2019-02-05T00:00:00\", \"2017-02-17T00:00:00\", \"2019-01-28T00:00:00\", \"2017-08-31T00:00:00\", \"2018-03-27T00:00:00\", \"2020-02-10T00:00:00\", \"2020-12-04T00:00:00\", \"2016-10-23T00:00:00\", \"2020-06-18T00:00:00\", \"2018-09-17T00:00:00\", \"2018-09-04T00:00:00\", \"2017-08-20T00:00:00\", \"2018-06-24T00:00:00\", \"2020-03-09T00:00:00\", \"2018-06-04T00:00:00\", \"2018-02-23T00:00:00\", \"2021-11-06T00:00:00\", \"2017-06-18T00:00:00\", \"2018-08-13T00:00:00\", \"2021-11-15T00:00:00\", \"2018-12-24T00:00:00\", \"2020-12-28T00:00:00\", \"2021-09-23T00:00:00\", \"2017-02-08T00:00:00\", \"2016-11-04T00:00:00\", \"2020-10-16T00:00:00\", \"2016-11-08T00:00:00\", \"2020-08-17T00:00:00\", \"2020-05-07T00:00:00\", \"2018-11-06T00:00:00\", \"2019-12-17T00:00:00\", \"2020-08-31T00:00:00\", \"2021-01-07T00:00:00\", \"2018-10-10T00:00:00\", \"2017-09-22T00:00:00\", \"2018-08-29T00:00:00\", \"2019-07-20T00:00:00\", \"2020-05-27T00:00:00\", \"2020-07-03T00:00:00\", \"2019-08-23T00:00:00\", \"2017-06-15T00:00:00\", \"2019-04-23T00:00:00\", \"2019-03-20T00:00:00\", \"2017-10-09T00:00:00\", \"2018-06-13T00:00:00\", \"2019-08-21T00:00:00\", \"2020-09-04T00:00:00\", \"2019-12-04T00:00:00\", \"2017-11-27T00:00:00\", \"2021-11-28T00:00:00\", \"2019-07-18T00:00:00\", \"2021-08-15T00:00:00\", \"2016-11-26T00:00:00\", \"2016-10-31T00:00:00\", \"2020-08-08T00:00:00\", \"2017-10-17T00:00:00\", \"2017-12-16T00:00:00\", \"2018-10-19T00:00:00\", \"2021-04-06T00:00:00\", \"2019-10-03T00:00:00\", \"2017-09-06T00:00:00\", \"2017-09-17T00:00:00\", \"2018-08-15T00:00:00\", \"2020-01-31T00:00:00\", \"2017-08-09T00:00:00\", \"2018-09-21T00:00:00\", \"2016-10-25T00:00:00\", \"2017-02-07T00:00:00\", \"2017-06-13T00:00:00\", \"2021-05-22T00:00:00\", \"2020-09-08T00:00:00\", \"2020-09-09T00:00:00\", \"2016-12-16T00:00:00\", \"2017-10-07T00:00:00\", \"2018-09-27T00:00:00\", \"2018-06-20T00:00:00\", \"2020-08-07T00:00:00\", \"2021-06-19T00:00:00\", \"2017-11-29T00:00:00\", \"2016-11-10T00:00:00\", \"2018-06-18T00:00:00\", \"2020-07-25T00:00:00\", \"2018-04-08T00:00:00\", \"2016-10-12T00:00:00\", \"2018-09-11T00:00:00\", \"2020-04-26T00:00:00\", \"2018-03-10T00:00:00\", \"2016-10-21T00:00:00\", \"2021-09-27T00:00:00\", \"2020-04-06T00:00:00\", \"2017-08-31T00:00:00\", \"2016-11-04T00:00:00\", \"2017-02-22T00:00:00\", \"2017-01-04T00:00:00\", \"2020-09-13T00:00:00\", \"2018-11-23T00:00:00\", \"2017-12-10T00:00:00\", \"2018-10-26T00:00:00\", \"2017-06-15T00:00:00\", \"2018-10-20T00:00:00\", \"2017-02-28T00:00:00\", \"2018-08-30T00:00:00\", \"2016-11-17T00:00:00\", \"2018-12-26T00:00:00\", \"2017-08-17T00:00:00\", \"2017-10-07T00:00:00\", \"2021-03-30T00:00:00\", \"2021-02-09T00:00:00\", \"2019-07-10T00:00:00\", \"2017-12-01T00:00:00\", \"2021-01-20T00:00:00\", \"2021-06-10T00:00:00\", \"2017-06-22T00:00:00\", \"2017-09-07T00:00:00\", \"2020-10-28T00:00:00\", \"2020-05-22T00:00:00\", \"2017-01-08T00:00:00\", \"2021-02-15T00:00:00\", \"2018-09-12T00:00:00\", \"2016-10-13T00:00:00\", \"2020-08-02T00:00:00\", \"2017-07-20T00:00:00\", \"2021-05-13T00:00:00\", \"2017-12-13T00:00:00\", \"2016-11-29T00:00:00\", \"2019-10-16T00:00:00\", \"2020-04-11T00:00:00\", \"2019-06-05T00:00:00\", \"2019-03-08T00:00:00\", \"2019-10-04T00:00:00\", \"2019-05-02T00:00:00\", \"2018-03-21T00:00:00\", \"2020-07-13T00:00:00\", \"2018-09-07T00:00:00\", \"2018-09-27T00:00:00\", \"2018-02-13T00:00:00\", \"2016-11-09T00:00:00\", \"2019-04-05T00:00:00\", \"2018-07-16T00:00:00\", \"2017-07-10T00:00:00\", \"2018-11-22T00:00:00\", \"2020-06-22T00:00:00\", \"2019-03-18T00:00:00\", \"2020-02-21T00:00:00\", \"2018-09-02T00:00:00\", \"2017-12-14T00:00:00\", \"2016-09-20T00:00:00\", \"2017-07-04T00:00:00\", \"2020-09-12T00:00:00\", \"2019-06-24T00:00:00\", \"2017-09-19T00:00:00\", \"2019-09-25T00:00:00\", \"2017-06-18T00:00:00\", \"2019-02-24T00:00:00\", \"2020-09-14T00:00:00\", \"2017-07-29T00:00:00\", \"2020-01-20T00:00:00\", \"2018-08-07T00:00:00\", \"2018-10-24T00:00:00\", \"2020-09-30T00:00:00\", \"2020-07-30T00:00:00\", \"2018-07-07T00:00:00\", \"2017-01-06T00:00:00\", \"2019-07-30T00:00:00\", \"2017-11-16T00:00:00\", \"2016-11-04T00:00:00\", \"2018-09-08T00:00:00\", \"2018-06-16T00:00:00\", \"2021-03-19T00:00:00\", \"2021-04-01T00:00:00\", \"2018-09-18T00:00:00\", \"2021-07-17T00:00:00\", \"2018-01-29T00:00:00\", \"2017-09-12T00:00:00\", \"2017-03-13T00:00:00\", \"2017-06-19T00:00:00\", \"2017-06-27T00:00:00\", \"2019-12-22T00:00:00\", \"2020-08-11T00:00:00\", \"2019-07-20T00:00:00\", \"2018-02-05T00:00:00\", \"2017-09-12T00:00:00\", \"2017-11-13T00:00:00\", \"2019-05-27T00:00:00\", \"2018-09-19T00:00:00\", \"2017-04-05T00:00:00\", \"2020-07-15T00:00:00\", \"2020-07-11T00:00:00\", \"2019-11-12T00:00:00\", \"2020-12-08T00:00:00\", \"2020-07-14T00:00:00\", \"2020-12-29T00:00:00\", \"2017-11-25T00:00:00\", \"2020-10-15T00:00:00\", \"2017-01-04T00:00:00\", \"2019-10-08T00:00:00\", \"2017-03-27T00:00:00\", \"2019-06-07T00:00:00\", \"2016-12-24T00:00:00\", \"2019-04-24T00:00:00\", \"2016-11-18T00:00:00\", \"2021-11-23T00:00:00\", \"2017-11-09T00:00:00\", \"2020-04-02T00:00:00\", \"2021-01-21T00:00:00\", \"2018-07-09T00:00:00\", \"2017-04-19T00:00:00\", \"2019-08-16T00:00:00\", \"2020-11-18T00:00:00\", \"2020-05-03T00:00:00\", \"2021-04-25T00:00:00\", \"2020-02-28T00:00:00\", \"2021-06-01T00:00:00\", \"2019-03-14T00:00:00\", \"2018-07-14T00:00:00\", \"2017-05-05T00:00:00\", \"2017-08-16T00:00:00\", \"2018-09-09T00:00:00\", \"2020-04-20T00:00:00\", \"2018-08-28T00:00:00\", \"2021-07-05T00:00:00\", \"2021-04-14T00:00:00\", \"2020-02-02T00:00:00\", \"2021-08-13T00:00:00\", \"2018-05-17T00:00:00\", \"2020-05-10T00:00:00\", \"2019-03-12T00:00:00\", \"2016-11-22T00:00:00\", \"2016-12-04T00:00:00\", \"2021-07-20T00:00:00\", \"2018-03-13T00:00:00\", \"2020-07-15T00:00:00\", \"2017-03-13T00:00:00\", \"2019-03-27T00:00:00\", \"2020-07-23T00:00:00\", \"2016-10-15T00:00:00\", \"2018-12-19T00:00:00\", \"2017-02-27T00:00:00\", \"2020-09-28T00:00:00\", \"2018-10-24T00:00:00\", \"2019-04-16T00:00:00\", \"2017-12-18T00:00:00\", \"2019-08-22T00:00:00\", \"2019-10-24T00:00:00\", \"2020-08-16T00:00:00\", \"2020-03-13T00:00:00\", \"2017-08-03T00:00:00\", \"2019-11-30T00:00:00\", \"2017-08-11T00:00:00\", \"2020-12-19T00:00:00\", \"2020-10-21T00:00:00\", \"2021-02-01T00:00:00\", \"2020-08-26T00:00:00\", \"2017-09-11T00:00:00\", \"2021-10-07T00:00:00\", \"2020-10-20T00:00:00\", \"2021-05-05T00:00:00\", \"2020-04-27T00:00:00\", \"2020-09-07T00:00:00\", \"2018-01-10T00:00:00\", \"2017-03-23T00:00:00\", \"2021-07-26T00:00:00\", \"2019-02-13T00:00:00\", \"2018-03-25T00:00:00\", \"2020-05-29T00:00:00\", \"2018-01-15T00:00:00\", \"2020-09-02T00:00:00\", \"2017-08-28T00:00:00\", \"2020-07-06T00:00:00\", \"2017-03-29T00:00:00\", \"2020-08-03T00:00:00\", \"2020-11-05T00:00:00\", \"2017-05-23T00:00:00\", \"2021-06-16T00:00:00\", \"2017-04-27T00:00:00\", \"2020-09-01T00:00:00\", \"2021-02-02T00:00:00\", \"2021-02-05T00:00:00\", \"2019-03-22T00:00:00\", \"2020-01-17T00:00:00\", \"2021-04-28T00:00:00\", \"2021-07-18T00:00:00\", \"2017-11-28T00:00:00\", \"2021-05-22T00:00:00\", \"2018-04-28T00:00:00\", \"2018-09-14T00:00:00\", \"2020-10-02T00:00:00\", \"2019-09-22T00:00:00\", \"2018-06-16T00:00:00\", \"2019-06-10T00:00:00\", \"2021-04-28T00:00:00\", \"2020-05-30T00:00:00\", \"2019-07-19T00:00:00\", \"2019-04-30T00:00:00\", \"2019-07-04T00:00:00\", \"2019-06-05T00:00:00\", \"2020-02-27T00:00:00\", \"2019-03-30T00:00:00\", \"2020-08-09T00:00:00\", \"2019-06-03T00:00:00\", \"2019-12-02T00:00:00\", \"2019-12-11T00:00:00\", \"2019-10-02T00:00:00\", \"2020-08-05T00:00:00\", \"2021-01-27T00:00:00\", \"2019-06-19T00:00:00\", \"2019-05-20T00:00:00\", \"2019-01-22T00:00:00\", \"2019-03-20T00:00:00\", \"2020-08-18T00:00:00\", \"2019-02-18T00:00:00\", \"2019-07-22T00:00:00\", \"2020-06-14T00:00:00\", \"2019-08-03T00:00:00\", \"2020-05-10T00:00:00\", \"2019-05-07T00:00:00\", \"2021-11-23T00:00:00\", \"2021-03-09T00:00:00\", \"2019-02-25T00:00:00\", \"2021-03-15T00:00:00\", \"2019-03-02T00:00:00\", \"2020-08-06T00:00:00\", \"2019-02-03T00:00:00\", \"2020-10-24T00:00:00\", \"2019-05-27T00:00:00\", \"2021-09-26T00:00:00\", \"2019-02-08T00:00:00\", \"2019-03-01T00:00:00\", \"2021-08-04T00:00:00\", \"2019-03-08T00:00:00\", \"2019-03-17T00:00:00\", \"2019-02-05T00:00:00\", \"2019-03-07T00:00:00\", \"2019-08-16T00:00:00\", \"2019-02-21T00:00:00\", \"2020-01-15T00:00:00\", \"2019-04-09T00:00:00\", \"2020-02-03T00:00:00\", \"2020-04-06T00:00:00\", \"2019-03-21T00:00:00\", \"2019-01-31T00:00:00\", \"2019-04-26T00:00:00\", \"2019-02-26T00:00:00\", \"2019-09-21T00:00:00\", \"2021-01-14T00:00:00\", \"2019-02-07T00:00:00\", \"2019-01-26T00:00:00\", \"2019-01-21T00:00:00\", \"2021-10-01T00:00:00\", \"2019-01-05T00:00:00\", \"2019-01-15T00:00:00\", \"2019-03-12T00:00:00\", \"2019-02-15T00:00:00\", \"2019-01-23T00:00:00\", \"2020-02-13T00:00:00\", \"2019-03-07T00:00:00\", \"2020-05-26T00:00:00\", \"2020-03-12T00:00:00\", \"2019-02-08T00:00:00\", \"2019-02-16T00:00:00\", \"2019-02-19T00:00:00\", \"2019-02-22T00:00:00\", \"2019-02-21T00:00:00\", \"2019-02-06T00:00:00\", \"2019-09-23T00:00:00\", \"2019-02-13T00:00:00\", \"2019-01-11T00:00:00\", \"2019-02-10T00:00:00\", \"2020-05-30T00:00:00\", \"2019-02-18T00:00:00\", \"2020-11-30T00:00:00\", \"2019-06-22T00:00:00\", \"2018-12-07T00:00:00\", \"2018-08-24T00:00:00\", \"2019-01-04T00:00:00\", \"2020-04-16T00:00:00\", \"2020-07-17T00:00:00\", \"2020-06-28T00:00:00\", \"2018-09-26T00:00:00\", \"2018-06-19T00:00:00\", \"2018-05-29T00:00:00\", \"2021-10-27T00:00:00\", \"2020-10-23T00:00:00\", \"2019-03-25T00:00:00\", \"2021-10-14T00:00:00\", \"2018-02-24T00:00:00\", \"2018-04-04T00:00:00\", \"2018-02-26T00:00:00\", \"2021-08-09T00:00:00\", \"2019-03-27T00:00:00\", \"2021-04-29T00:00:00\", \"2018-02-17T00:00:00\", \"2020-03-24T00:00:00\", \"2020-10-13T00:00:00\", \"2020-08-25T00:00:00\", \"2018-02-07T00:00:00\", \"2019-01-07T00:00:00\", \"2021-02-15T00:00:00\", \"2020-02-04T00:00:00\", \"2019-12-10T00:00:00\", \"2018-02-16T00:00:00\", \"2018-02-08T00:00:00\", \"2018-03-16T00:00:00\", \"2021-08-24T00:00:00\", \"2018-02-27T00:00:00\", \"2018-02-21T00:00:00\", \"2018-03-09T00:00:00\", \"2018-06-24T00:00:00\", \"2020-04-15T00:00:00\", \"2020-02-07T00:00:00\", \"2019-07-18T00:00:00\", \"2018-02-26T00:00:00\", \"2021-06-17T00:00:00\", \"2020-12-13T00:00:00\", \"2020-10-30T00:00:00\", \"2020-07-10T00:00:00\", \"2019-12-16T00:00:00\", \"2019-12-02T00:00:00\", \"2020-03-01T00:00:00\", \"2020-07-28T00:00:00\", \"2019-12-17T00:00:00\", \"2020-03-05T00:00:00\", \"2020-05-08T00:00:00\", \"2020-02-12T00:00:00\", \"2020-01-27T00:00:00\", \"2020-11-06T00:00:00\", \"2020-03-04T00:00:00\", \"2020-01-14T00:00:00\", \"2020-08-04T00:00:00\", \"2021-11-08T00:00:00\", \"2020-01-28T00:00:00\", \"2021-01-09T00:00:00\", \"2020-01-16T00:00:00\", \"2020-05-04T00:00:00\", \"2020-11-22T00:00:00\", \"2021-03-10T00:00:00\", \"2020-08-28T00:00:00\", \"2020-03-30T00:00:00\", \"2020-02-25T00:00:00\", \"2020-07-03T00:00:00\", \"2020-01-15T00:00:00\", \"2020-01-23T00:00:00\", \"2020-03-23T00:00:00\", \"2021-09-08T00:00:00\", \"2021-07-26T00:00:00\", \"2020-03-24T00:00:00\", \"2020-02-11T00:00:00\", \"2020-04-17T00:00:00\", \"2020-02-11T00:00:00\", \"2020-02-15T00:00:00\", \"2020-05-22T00:00:00\", \"2021-01-18T00:00:00\", \"2020-03-06T00:00:00\", \"2021-02-26T00:00:00\", \"2020-01-18T00:00:00\", \"2021-03-04T00:00:00\", \"2020-01-22T00:00:00\", \"2020-02-04T00:00:00\", \"2020-01-10T00:00:00\", \"2020-12-18T00:00:00\", \"2020-01-10T00:00:00\", \"2020-08-30T00:00:00\", \"2020-01-18T00:00:00\", \"2020-11-09T00:00:00\", \"2020-02-17T00:00:00\", \"2021-02-08T00:00:00\", \"2020-03-09T00:00:00\", \"2020-03-29T00:00:00\", \"2020-11-12T00:00:00\", \"2020-04-29T00:00:00\", \"2021-02-08T00:00:00\", \"2020-06-23T00:00:00\", \"2020-08-04T00:00:00\", \"2020-07-18T00:00:00\", \"2021-04-15T00:00:00\", \"2020-08-11T00:00:00\", \"2021-04-20T00:00:00\", \"2020-11-17T00:00:00\", \"2020-11-23T00:00:00\", \"2021-05-21T00:00:00\", \"2021-02-22T00:00:00\", \"2021-02-01T00:00:00\", \"2021-02-19T00:00:00\", \"2021-02-25T00:00:00\", \"2021-02-28T00:00:00\", \"2021-02-16T00:00:00\", \"2021-03-05T00:00:00\", \"2021-02-23T00:00:00\", \"2021-03-10T00:00:00\", \"2021-02-16T00:00:00\", \"2021-02-26T00:00:00\", \"2021-02-24T00:00:00\", \"2021-03-08T00:00:00\", \"2021-02-23T00:00:00\", \"2021-03-16T00:00:00\", \"2021-02-17T00:00:00\", \"2021-03-14T00:00:00\", \"2021-02-28T00:00:00\", \"2021-02-17T00:00:00\", \"2021-03-27T00:00:00\", \"2021-09-27T00:00:00\", \"2021-05-12T00:00:00\", \"2021-02-18T00:00:00\", \"2021-12-01T00:00:00\", \"2021-02-20T00:00:00\", \"2021-03-06T00:00:00\", \"2021-02-21T00:00:00\", \"2021-03-03T00:00:00\", \"2021-03-09T00:00:00\", \"2021-05-31T00:00:00\", \"2021-07-06T00:00:00\", \"2021-02-20T00:00:00\", \"2021-05-18T00:00:00\", \"2021-03-13T00:00:00\", \"2021-06-13T00:00:00\", \"2021-02-27T00:00:00\", \"2021-03-25T00:00:00\", \"2021-02-23T00:00:00\", \"2021-05-17T00:00:00\", \"2021-03-24T00:00:00\", \"2021-07-27T00:00:00\", \"2021-07-21T00:00:00\", \"2021-03-15T00:00:00\", \"2021-06-01T00:00:00\", \"2021-05-16T00:00:00\", \"2021-04-24T00:00:00\", \"2021-03-17T00:00:00\", \"2021-05-12T00:00:00\", \"2021-04-06T00:00:00\", \"2021-02-22T00:00:00\", \"2021-09-20T00:00:00\", \"2021-06-29T00:00:00\", \"2021-03-12T00:00:00\", \"2021-04-21T00:00:00\", \"2021-04-19T00:00:00\", \"2021-08-11T00:00:00\", \"2021-09-09T00:00:00\", \"2021-03-19T00:00:00\", \"2021-05-21T00:00:00\", \"2021-06-15T00:00:00\", \"2021-10-13T00:00:00\", \"2021-07-02T00:00:00\", \"2021-08-02T00:00:00\", \"2021-08-03T00:00:00\", \"2021-08-23T00:00:00\", \"2021-11-05T00:00:00\", \"2021-10-28T00:00:00\"], \"xaxis\": \"x\", \"y\": [1, 1, 9, 1, 3, 1, 1, 3, 2, 2, 2, 9, 1, 2, 1, 4, 1, 2, 1, 4, 1, 2, 1, 5, 1, 1, 2, 1, 2, 7, 1, 2, 1, 1, 1, 1, 2, 1, 7, 3, 3, 2, 2, 6, 11, 1, 1, 6, 1, 1, 1, 1, 1, 5, 5, 2, 1, 3, 2, 1, 1, 1, 4, 2, 1, 3, 1, 1, 2, 1, 1, 1, 1, 1, 1, 3, 4, 1, 1, 6, 1, 1, 9, 2, 1, 1, 2, 4, 1, 4, 3, 1, 4, 1, 1, 5, 1, 1, 1, 2, 1, 3, 1, 1, 2, 2, 1, 1, 1, 1, 5, 1, 1, 3, 2, 2, 1, 4, 1, 1, 4, 1, 1, 4, 1, 1, 1, 2, 3, 2, 2, 1, 8, 1, 2, 2, 1, 1, 1, 1, 3, 1, 1, 1, 3, 1, 1, 2, 1, 2, 5, 1, 1, 3, 1, 3, 8, 2, 2, 3, 1, 1, 1, 2, 1, 1, 5, 1, 1, 3, 5, 2, 4, 1, 4, 1, 1, 2, 1, 1, 1, 3, 1, 1, 1, 1, 2, 1, 1, 1, 2, 5, 3, 1, 1, 1, 1, 1, 1, 2, 2, 1, 1, 1, 4, 1, 6, 13, 2, 1, 1, 2, 1, 1, 1, 1, 1, 1, 1, 4, 3, 1, 1, 3, 1, 1, 2, 1, 1, 1, 1, 1, 1, 1, 1, 2, 1, 1, 1, 1, 3, 3, 4, 1, 2, 1, 1, 2, 2, 4, 1, 1, 1, 1, 1, 1, 4, 1, 1, 2, 1, 1, 1, 2, 3, 1, 2, 2, 3, 2, 3, 3, 1, 1, 2, 1, 1, 1, 1, 1, 2, 2, 1, 1, 1, 2, 3, 1, 3, 1, 1, 1, 1, 8, 1, 1, 1, 4, 2, 1, 1, 1, 4, 1, 1, 1, 1, 1, 1, 1, 1, 2, 4, 1, 1, 1, 2, 2, 2, 1, 1, 1, 1, 2, 3, 1, 1, 1, 4, 1, 1, 1, 1, 1, 6, 1, 1, 1, 1, 2, 3, 1, 2, 1, 1, 1, 1, 2, 1, 1, 1, 2, 2, 1, 2, 2, 1, 1, 4, 6, 3, 1, 4, 1, 1, 4, 2, 1, 1, 1, 2, 3, 1, 1, 1, 1, 1, 1, 2, 1, 1, 1, 4, 2, 1, 1, 1, 1, 1, 1, 1, 1, 1, 2, 6, 1, 2, 1, 1, 1, 1, 1, 1, 1, 3, 1, 1, 1, 1, 2, 1, 1, 2, 1, 1, 1, 1, 1, 1, 2, 1, 1, 2, 1, 3, 2, 2, 1, 1, 1, 1, 1, 1, 1, 1, 1, 2, 1, 2, 2, 1, 1, 1, 2, 1, 2, 1, 2, 1, 1, 1, 1, 1, 2, 1, 2, 1, 2, 1, 1, 1, 1, 1, 2, 4, 1, 1, 1, 1, 2, 1, 2, 1, 1, 1, 1, 2, 1, 4, 1, 3, 1, 4, 1, 1, 1, 1, 1, 1, 2, 1, 1, 1, 2, 1, 1, 2, 1, 2, 1, 1, 3, 2, 1, 1, 1, 2, 1, 2, 1, 2, 1, 1, 2, 2, 1, 2, 1, 1, 1, 1, 1, 1, 1, 1, 1, 2, 1, 1, 1, 1, 1, 1, 2, 1, 1, 1, 2, 1, 3, 2, 1, 1, 1, 1, 1, 1, 1, 6, 1, 1, 1, 2, 1, 1, 1, 1, 1, 1, 1, 2, 1, 2, 2, 1, 1, 1, 4, 1, 2, 2, 1, 1, 1, 1, 1, 3, 2, 1, 1, 1, 1, 1, 1, 1, 1, 1, 2, 1, 1, 1, 2, 1, 1, 1, 1, 1, 1, 1, 4, 1, 1, 1, 1, 2, 2, 1, 1, 1, 1, 1, 2, 1, 3, 1, 2, 1, 1, 2, 1, 1, 1, 1, 1, 2, 1, 2, 3, 1, 1, 2, 1, 1, 1, 1, 1, 1, 2, 1, 1, 2, 1, 1, 2, 2, 1, 1, 1, 1, 1, 1, 1, 1, 1, 1, 1, 1, 1, 1, 1, 1, 1, 1, 3, 2, 1, 4, 1, 1, 1, 1, 2, 1, 1, 1, 1, 1, 1, 1, 1, 1, 2, 1, 1, 1, 1, 1, 1, 1, 1, 1, 2, 2, 1, 3, 1, 1, 4, 2, 1, 1, 1, 2, 1, 1, 5, 2, 2, 1, 1, 1, 1, 1, 1, 1, 2, 1, 1, 1, 1, 1, 2, 1, 1, 1, 1, 1, 2, 1, 1, 1, 3, 1, 1, 1, 1, 1, 2, 1, 1, 1, 1, 1, 1, 1, 1, 1, 1, 1, 1, 1, 2, 1, 1, 1, 1, 1, 1, 1, 1, 1, 1, 1, 1, 1, 1, 1, 1, 2, 2, 1, 1, 1, 1, 2, 1, 1, 1, 1, 1, 1, 1, 2, 1, 1, 1, 1, 1, 1, 1, 2, 1, 1, 2, 1, 1, 1, 1, 2, 1, 1, 1, 1, 1, 1, 1, 1, 1, 1, 1, 1, 2, 1, 2, 1, 1, 1, 1, 1, 1, 1, 1, 1, 1, 1, 1, 1, 1, 1, 1, 1, 1, 1, 1, 1, 1, 1, 1, 1, 1, 1, 1, 1, 1, 1, 2, 1, 1, 2, 1, 2, 1, 1, 1, 1, 1, 1, 1, 1, 1, 1, 1, 1, 1, 2, 1, 1, 1, 1, 1, 1, 1, 2, 1, 1, 1, 1, 1, 1, 1, 1, 1, 1, 1, 1, 1, 1, 1, 1, 1, 2, 1, 1, 1, 1, 1, 1, 1, 1, 1, 1, 1, 1, 1, 1, 1, 1, 1, 1, 1, 1, 1, 2, 2, 1, 1, 6, 1, 1, 1, 1, 1, 1, 2, 1, 1, 1, 1, 1, 1, 1, 1, 1, 1, 2, 1, 1, 1, 1, 1, 1, 2, 1, 1, 1, 1, 1, 2, 1, 2, 1, 1, 1, 1, 1, 1, 1, 1, 1, 1, 1, 2, 1, 1, 2, 1, 1, 1, 2, 1, 2, 1, 1, 1, 1, 1, 1, 2, 3, 1, 1, 1, 1, 1, 1, 1, 1, 1, 2, 4, 1, 1, 1, 1, 1, 1, 1, 1, 1, 1, 1, 1, 1, 1, 1, 2, 1, 1, 1, 1, 1, 1, 1, 1, 1, 1, 1, 1, 1, 2, 1, 1, 2, 1, 1, 1, 1, 1, 1, 1, 1, 1, 1, 1, 1, 1, 1, 1, 1, 1, 1, 1, 1, 1, 1, 1, 2, 1, 1, 1, 1, 1, 2, 1, 1, 1, 1, 1, 3, 1, 1, 1, 1, 1, 1, 4, 1, 1, 1, 1, 2, 1, 1, 1, 1, 1, 1, 1, 1, 1, 1, 1, 1, 1, 2, 2, 1, 1, 4, 1, 1, 1, 1, 1, 1, 1, 1, 1, 1, 1, 1, 1, 2, 1, 1, 1, 1, 1, 1, 1, 1, 1, 1, 2, 1, 1, 2, 2, 1, 1, 1, 1, 1, 1, 1, 1, 1, 1, 1, 1, 1, 1, 1, 1, 1, 2, 1, 1, 1, 1, 1, 7, 1, 4, 2, 2, 1, 1, 18, 1, 1, 1, 1, 1, 2, 1, 1, 2, 1, 1, 1, 1, 1, 2, 1, 1, 1, 2, 1, 1, 1, 1, 1, 1, 1, 1, 1, 1, 1, 1, 1, 1, 1, 1, 1, 1, 1, 2, 1, 1, 1, 1, 1, 1, 1, 1, 1, 1, 1, 1, 1, 1, 1, 1, 1, 1, 1, 1], \"yaxis\": \"y\"}],\n",
              "                        {\"legend\": {\"tracegroupgap\": 0}, \"margin\": {\"t\": 60}, \"template\": {\"data\": {\"bar\": [{\"error_x\": {\"color\": \"#2a3f5f\"}, \"error_y\": {\"color\": \"#2a3f5f\"}, \"marker\": {\"line\": {\"color\": \"#E5ECF6\", \"width\": 0.5}}, \"type\": \"bar\"}], \"barpolar\": [{\"marker\": {\"line\": {\"color\": \"#E5ECF6\", \"width\": 0.5}}, \"type\": \"barpolar\"}], \"carpet\": [{\"aaxis\": {\"endlinecolor\": \"#2a3f5f\", \"gridcolor\": \"white\", \"linecolor\": \"white\", \"minorgridcolor\": \"white\", \"startlinecolor\": \"#2a3f5f\"}, \"baxis\": {\"endlinecolor\": \"#2a3f5f\", \"gridcolor\": \"white\", \"linecolor\": \"white\", \"minorgridcolor\": \"white\", \"startlinecolor\": \"#2a3f5f\"}, \"type\": \"carpet\"}], \"choropleth\": [{\"colorbar\": {\"outlinewidth\": 0, \"ticks\": \"\"}, \"type\": \"choropleth\"}], \"contour\": [{\"colorbar\": {\"outlinewidth\": 0, \"ticks\": \"\"}, \"colorscale\": [[0.0, \"#0d0887\"], [0.1111111111111111, \"#46039f\"], [0.2222222222222222, \"#7201a8\"], [0.3333333333333333, \"#9c179e\"], [0.4444444444444444, \"#bd3786\"], [0.5555555555555556, \"#d8576b\"], [0.6666666666666666, \"#ed7953\"], [0.7777777777777778, \"#fb9f3a\"], [0.8888888888888888, \"#fdca26\"], [1.0, \"#f0f921\"]], \"type\": \"contour\"}], \"contourcarpet\": [{\"colorbar\": {\"outlinewidth\": 0, \"ticks\": \"\"}, \"type\": \"contourcarpet\"}], \"heatmap\": [{\"colorbar\": {\"outlinewidth\": 0, \"ticks\": \"\"}, \"colorscale\": [[0.0, \"#0d0887\"], [0.1111111111111111, \"#46039f\"], [0.2222222222222222, \"#7201a8\"], [0.3333333333333333, \"#9c179e\"], [0.4444444444444444, \"#bd3786\"], [0.5555555555555556, \"#d8576b\"], [0.6666666666666666, \"#ed7953\"], [0.7777777777777778, \"#fb9f3a\"], [0.8888888888888888, \"#fdca26\"], [1.0, \"#f0f921\"]], \"type\": \"heatmap\"}], \"heatmapgl\": [{\"colorbar\": {\"outlinewidth\": 0, \"ticks\": \"\"}, \"colorscale\": [[0.0, \"#0d0887\"], [0.1111111111111111, \"#46039f\"], [0.2222222222222222, \"#7201a8\"], [0.3333333333333333, \"#9c179e\"], [0.4444444444444444, \"#bd3786\"], [0.5555555555555556, \"#d8576b\"], [0.6666666666666666, \"#ed7953\"], [0.7777777777777778, \"#fb9f3a\"], [0.8888888888888888, \"#fdca26\"], [1.0, \"#f0f921\"]], \"type\": \"heatmapgl\"}], \"histogram\": [{\"marker\": {\"colorbar\": {\"outlinewidth\": 0, \"ticks\": \"\"}}, \"type\": \"histogram\"}], \"histogram2d\": [{\"colorbar\": {\"outlinewidth\": 0, \"ticks\": \"\"}, \"colorscale\": [[0.0, \"#0d0887\"], [0.1111111111111111, \"#46039f\"], [0.2222222222222222, \"#7201a8\"], [0.3333333333333333, \"#9c179e\"], [0.4444444444444444, \"#bd3786\"], [0.5555555555555556, \"#d8576b\"], [0.6666666666666666, \"#ed7953\"], [0.7777777777777778, \"#fb9f3a\"], [0.8888888888888888, \"#fdca26\"], [1.0, \"#f0f921\"]], \"type\": \"histogram2d\"}], \"histogram2dcontour\": [{\"colorbar\": {\"outlinewidth\": 0, \"ticks\": \"\"}, \"colorscale\": [[0.0, \"#0d0887\"], [0.1111111111111111, \"#46039f\"], [0.2222222222222222, \"#7201a8\"], [0.3333333333333333, \"#9c179e\"], [0.4444444444444444, \"#bd3786\"], [0.5555555555555556, \"#d8576b\"], [0.6666666666666666, \"#ed7953\"], [0.7777777777777778, \"#fb9f3a\"], [0.8888888888888888, \"#fdca26\"], [1.0, \"#f0f921\"]], \"type\": \"histogram2dcontour\"}], \"mesh3d\": [{\"colorbar\": {\"outlinewidth\": 0, \"ticks\": \"\"}, \"type\": \"mesh3d\"}], \"parcoords\": [{\"line\": {\"colorbar\": {\"outlinewidth\": 0, \"ticks\": \"\"}}, \"type\": \"parcoords\"}], \"pie\": [{\"automargin\": true, \"type\": \"pie\"}], \"scatter\": [{\"marker\": {\"colorbar\": {\"outlinewidth\": 0, \"ticks\": \"\"}}, \"type\": \"scatter\"}], \"scatter3d\": [{\"line\": {\"colorbar\": {\"outlinewidth\": 0, \"ticks\": \"\"}}, \"marker\": {\"colorbar\": {\"outlinewidth\": 0, \"ticks\": \"\"}}, \"type\": \"scatter3d\"}], \"scattercarpet\": [{\"marker\": {\"colorbar\": {\"outlinewidth\": 0, \"ticks\": \"\"}}, \"type\": \"scattercarpet\"}], \"scattergeo\": [{\"marker\": {\"colorbar\": {\"outlinewidth\": 0, \"ticks\": \"\"}}, \"type\": \"scattergeo\"}], \"scattergl\": [{\"marker\": {\"colorbar\": {\"outlinewidth\": 0, \"ticks\": \"\"}}, \"type\": \"scattergl\"}], \"scattermapbox\": [{\"marker\": {\"colorbar\": {\"outlinewidth\": 0, \"ticks\": \"\"}}, \"type\": \"scattermapbox\"}], \"scatterpolar\": [{\"marker\": {\"colorbar\": {\"outlinewidth\": 0, \"ticks\": \"\"}}, \"type\": \"scatterpolar\"}], \"scatterpolargl\": [{\"marker\": {\"colorbar\": {\"outlinewidth\": 0, \"ticks\": \"\"}}, \"type\": \"scatterpolargl\"}], \"scatterternary\": [{\"marker\": {\"colorbar\": {\"outlinewidth\": 0, \"ticks\": \"\"}}, \"type\": \"scatterternary\"}], \"surface\": [{\"colorbar\": {\"outlinewidth\": 0, \"ticks\": \"\"}, \"colorscale\": [[0.0, \"#0d0887\"], [0.1111111111111111, \"#46039f\"], [0.2222222222222222, \"#7201a8\"], [0.3333333333333333, \"#9c179e\"], [0.4444444444444444, \"#bd3786\"], [0.5555555555555556, \"#d8576b\"], [0.6666666666666666, \"#ed7953\"], [0.7777777777777778, \"#fb9f3a\"], [0.8888888888888888, \"#fdca26\"], [1.0, \"#f0f921\"]], \"type\": \"surface\"}], \"table\": [{\"cells\": {\"fill\": {\"color\": \"#EBF0F8\"}, \"line\": {\"color\": \"white\"}}, \"header\": {\"fill\": {\"color\": \"#C8D4E3\"}, \"line\": {\"color\": \"white\"}}, \"type\": \"table\"}]}, \"layout\": {\"annotationdefaults\": {\"arrowcolor\": \"#2a3f5f\", \"arrowhead\": 0, \"arrowwidth\": 1}, \"coloraxis\": {\"colorbar\": {\"outlinewidth\": 0, \"ticks\": \"\"}}, \"colorscale\": {\"diverging\": [[0, \"#8e0152\"], [0.1, \"#c51b7d\"], [0.2, \"#de77ae\"], [0.3, \"#f1b6da\"], [0.4, \"#fde0ef\"], [0.5, \"#f7f7f7\"], [0.6, \"#e6f5d0\"], [0.7, \"#b8e186\"], [0.8, \"#7fbc41\"], [0.9, \"#4d9221\"], [1, \"#276419\"]], \"sequential\": [[0.0, \"#0d0887\"], [0.1111111111111111, \"#46039f\"], [0.2222222222222222, \"#7201a8\"], [0.3333333333333333, \"#9c179e\"], [0.4444444444444444, \"#bd3786\"], [0.5555555555555556, \"#d8576b\"], [0.6666666666666666, \"#ed7953\"], [0.7777777777777778, \"#fb9f3a\"], [0.8888888888888888, \"#fdca26\"], [1.0, \"#f0f921\"]], \"sequentialminus\": [[0.0, \"#0d0887\"], [0.1111111111111111, \"#46039f\"], [0.2222222222222222, \"#7201a8\"], [0.3333333333333333, \"#9c179e\"], [0.4444444444444444, \"#bd3786\"], [0.5555555555555556, \"#d8576b\"], [0.6666666666666666, \"#ed7953\"], [0.7777777777777778, \"#fb9f3a\"], [0.8888888888888888, \"#fdca26\"], [1.0, \"#f0f921\"]]}, \"colorway\": [\"#636efa\", \"#EF553B\", \"#00cc96\", \"#ab63fa\", \"#FFA15A\", \"#19d3f3\", \"#FF6692\", \"#B6E880\", \"#FF97FF\", \"#FECB52\"], \"font\": {\"color\": \"#2a3f5f\"}, \"geo\": {\"bgcolor\": \"white\", \"lakecolor\": \"white\", \"landcolor\": \"#E5ECF6\", \"showlakes\": true, \"showland\": true, \"subunitcolor\": \"white\"}, \"hoverlabel\": {\"align\": \"left\"}, \"hovermode\": \"closest\", \"mapbox\": {\"style\": \"light\"}, \"paper_bgcolor\": \"white\", \"plot_bgcolor\": \"#E5ECF6\", \"polar\": {\"angularaxis\": {\"gridcolor\": \"white\", \"linecolor\": \"white\", \"ticks\": \"\"}, \"bgcolor\": \"#E5ECF6\", \"radialaxis\": {\"gridcolor\": \"white\", \"linecolor\": \"white\", \"ticks\": \"\"}}, \"scene\": {\"xaxis\": {\"backgroundcolor\": \"#E5ECF6\", \"gridcolor\": \"white\", \"gridwidth\": 2, \"linecolor\": \"white\", \"showbackground\": true, \"ticks\": \"\", \"zerolinecolor\": \"white\"}, \"yaxis\": {\"backgroundcolor\": \"#E5ECF6\", \"gridcolor\": \"white\", \"gridwidth\": 2, \"linecolor\": \"white\", \"showbackground\": true, \"ticks\": \"\", \"zerolinecolor\": \"white\"}, \"zaxis\": {\"backgroundcolor\": \"#E5ECF6\", \"gridcolor\": \"white\", \"gridwidth\": 2, \"linecolor\": \"white\", \"showbackground\": true, \"ticks\": \"\", \"zerolinecolor\": \"white\"}}, \"shapedefaults\": {\"line\": {\"color\": \"#2a3f5f\"}}, \"ternary\": {\"aaxis\": {\"gridcolor\": \"white\", \"linecolor\": \"white\", \"ticks\": \"\"}, \"baxis\": {\"gridcolor\": \"white\", \"linecolor\": \"white\", \"ticks\": \"\"}, \"bgcolor\": \"#E5ECF6\", \"caxis\": {\"gridcolor\": \"white\", \"linecolor\": \"white\", \"ticks\": \"\"}}, \"title\": {\"x\": 0.05}, \"xaxis\": {\"automargin\": true, \"gridcolor\": \"white\", \"linecolor\": \"white\", \"ticks\": \"\", \"title\": {\"standoff\": 15}, \"zerolinecolor\": \"white\", \"zerolinewidth\": 2}, \"yaxis\": {\"automargin\": true, \"gridcolor\": \"white\", \"linecolor\": \"white\", \"ticks\": \"\", \"title\": {\"standoff\": 15}, \"zerolinecolor\": \"white\", \"zerolinewidth\": 2}}}, \"xaxis\": {\"anchor\": \"y\", \"domain\": [0.0, 1.0], \"title\": {\"text\": \"data\"}}, \"yaxis\": {\"anchor\": \"x\", \"domain\": [0.0, 1.0], \"title\": {\"text\": \"Record Count\"}}},\n",
              "                        {\"responsive\": true}\n",
              "                    ).then(function(){\n",
              "                            \n",
              "var gd = document.getElementById('17953cf9-370a-45a3-a768-9a53c761a030');\n",
              "var x = new MutationObserver(function (mutations, observer) {{\n",
              "        var display = window.getComputedStyle(gd).display;\n",
              "        if (!display || display === 'none') {{\n",
              "            console.log([gd, 'removed!']);\n",
              "            Plotly.purge(gd);\n",
              "            observer.disconnect();\n",
              "        }}\n",
              "}});\n",
              "\n",
              "// Listen for the removal of the full notebook cells\n",
              "var notebookContainer = gd.closest('#notebook-container');\n",
              "if (notebookContainer) {{\n",
              "    x.observe(notebookContainer, {childList: true});\n",
              "}}\n",
              "\n",
              "// Listen for the clearing of the current output cell\n",
              "var outputEl = gd.closest('.output');\n",
              "if (outputEl) {{\n",
              "    x.observe(outputEl, {childList: true});\n",
              "}}\n",
              "\n",
              "                        })\n",
              "                };\n",
              "                \n",
              "            </script>\n",
              "        </div>\n",
              "</body>\n",
              "</html>"
            ]
          },
          "metadata": {}
        }
      ]
    },
    {
      "cell_type": "code",
      "metadata": {
        "colab": {
          "base_uri": "https://localhost:8080/",
          "height": 458
        },
        "id": "bhDoA7FKb1CT",
        "outputId": "0109019c-38a0-4a1a-c634-075e2ee694c3"
      },
      "source": [
        "g = sns.relplot(x=\"data\", y=\"Record Count\", kind=\"line\", data=dados, col=\"genre\", height=10)\n",
        "g.figure.autofmt_xdate()"
      ],
      "execution_count": 58,
      "outputs": [
        {
          "output_type": "display_data",
          "data": {
            "image/png": "[encoded data removed]",
            "text/plain": [
              "<Figure size 1440x720 with 2 Axes>"
            ]
          },
          "metadata": {
            "needs_background": "light"
          }
        }
      ]
    },
    {
      "cell_type": "code",
      "metadata": {
        "colab": {
          "base_uri": "https://localhost:8080/",
          "height": 638
        },
        "id": "xy0Z23WKd4y-",
        "outputId": "62c81e9e-387b-4f71-9eeb-7e028222c7b7"
      },
      "source": [
        "g = sns.relplot(x=\"data\", y=\"Record Count\", kind=\"line\", data=dados, height=10)\n",
        "g.figure.autofmt_xdate()"
      ],
      "execution_count": 59,
      "outputs": [
        {
          "output_type": "display_data",
          "data": {
            "image/png": "[encoded data removed]",
            "text/plain": [
              "<Figure size 720x720 with 1 Axes>"
            ]
          },
          "metadata": {
            "needs_background": "light"
          }
        }
      ]
    },
    {
      "cell_type": "code",
      "metadata": {
        "id": "U9iAxxYoVaxc"
      },
      "source": [
        "dados['mes_ano'] = dados['data'].map(lambda x: 100*x.year + x.month)\n",
        "dados_mes = dados.groupby(['mes_ano'])['Record Count'].sum().reset_index()"
      ],
      "execution_count": 60,
      "outputs": []
    },
    {
      "cell_type": "code",
      "metadata": {
        "colab": {
          "base_uri": "https://localhost:8080/",
          "height": 424
        },
        "id": "90ohHr-yuA7R",
        "outputId": "cfec3662-67bc-432a-e51b-2b240884d7f3"
      },
      "source": [
        "dados"
      ],
      "execution_count": 61,
      "outputs": [
        {
          "output_type": "execute_result",
          "data": {
            "text/html": [
              "<div>\n",
              "<style scoped>\n",
              "    .dataframe tbody tr th:only-of-type {\n",
              "        vertical-align: middle;\n",
              "    }\n",
              "\n",
              "    .dataframe tbody tr th {\n",
              "        vertical-align: top;\n",
              "    }\n",
              "\n",
              "    .dataframe thead th {\n",
              "        text-align: right;\n",
              "    }\n",
              "</style>\n",
              "<table border=\"1\" class=\"dataframe\">\n",
              "  <thead>\n",
              "    <tr style=\"text-align: right;\">\n",
              "      <th></th>\n",
              "      <th>Y</th>\n",
              "      <th>M</th>\n",
              "      <th>D</th>\n",
              "      <th>login_status</th>\n",
              "      <th>genre</th>\n",
              "      <th>Record Count</th>\n",
              "      <th>data</th>\n",
              "      <th>mes_ano</th>\n",
              "    </tr>\n",
              "  </thead>\n",
              "  <tbody>\n",
              "    <tr>\n",
              "      <th>0</th>\n",
              "      <td>2019</td>\n",
              "      <td>12</td>\n",
              "      <td>12</td>\n",
              "      <td>Complete</td>\n",
              "      <td>Female</td>\n",
              "      <td>1</td>\n",
              "      <td>2019-12-12</td>\n",
              "      <td>201912</td>\n",
              "    </tr>\n",
              "    <tr>\n",
              "      <th>1</th>\n",
              "      <td>2018</td>\n",
              "      <td>3</td>\n",
              "      <td>2</td>\n",
              "      <td>Complete</td>\n",
              "      <td>Female</td>\n",
              "      <td>1</td>\n",
              "      <td>2018-03-02</td>\n",
              "      <td>201803</td>\n",
              "    </tr>\n",
              "    <tr>\n",
              "      <th>2</th>\n",
              "      <td>2018</td>\n",
              "      <td>8</td>\n",
              "      <td>29</td>\n",
              "      <td>Complete</td>\n",
              "      <td>Male</td>\n",
              "      <td>9</td>\n",
              "      <td>2018-08-29</td>\n",
              "      <td>201808</td>\n",
              "    </tr>\n",
              "    <tr>\n",
              "      <th>3</th>\n",
              "      <td>2017</td>\n",
              "      <td>1</td>\n",
              "      <td>7</td>\n",
              "      <td>Complete</td>\n",
              "      <td>Female</td>\n",
              "      <td>1</td>\n",
              "      <td>2017-01-07</td>\n",
              "      <td>201701</td>\n",
              "    </tr>\n",
              "    <tr>\n",
              "      <th>4</th>\n",
              "      <td>2016</td>\n",
              "      <td>10</td>\n",
              "      <td>27</td>\n",
              "      <td>Incomplete</td>\n",
              "      <td>Female</td>\n",
              "      <td>3</td>\n",
              "      <td>2016-10-27</td>\n",
              "      <td>201610</td>\n",
              "    </tr>\n",
              "    <tr>\n",
              "      <th>...</th>\n",
              "      <td>...</td>\n",
              "      <td>...</td>\n",
              "      <td>...</td>\n",
              "      <td>...</td>\n",
              "      <td>...</td>\n",
              "      <td>...</td>\n",
              "      <td>...</td>\n",
              "      <td>...</td>\n",
              "    </tr>\n",
              "    <tr>\n",
              "      <th>1203</th>\n",
              "      <td>2021</td>\n",
              "      <td>8</td>\n",
              "      <td>2</td>\n",
              "      <td>Complete</td>\n",
              "      <td>Female</td>\n",
              "      <td>1</td>\n",
              "      <td>2021-08-02</td>\n",
              "      <td>202108</td>\n",
              "    </tr>\n",
              "    <tr>\n",
              "      <th>1204</th>\n",
              "      <td>2021</td>\n",
              "      <td>8</td>\n",
              "      <td>3</td>\n",
              "      <td>Complete</td>\n",
              "      <td>Female</td>\n",
              "      <td>1</td>\n",
              "      <td>2021-08-03</td>\n",
              "      <td>202108</td>\n",
              "    </tr>\n",
              "    <tr>\n",
              "      <th>1205</th>\n",
              "      <td>2021</td>\n",
              "      <td>8</td>\n",
              "      <td>23</td>\n",
              "      <td>Complete</td>\n",
              "      <td>Male</td>\n",
              "      <td>1</td>\n",
              "      <td>2021-08-23</td>\n",
              "      <td>202108</td>\n",
              "    </tr>\n",
              "    <tr>\n",
              "      <th>1206</th>\n",
              "      <td>2021</td>\n",
              "      <td>11</td>\n",
              "      <td>5</td>\n",
              "      <td>Complete</td>\n",
              "      <td>Female</td>\n",
              "      <td>1</td>\n",
              "      <td>2021-11-05</td>\n",
              "      <td>202111</td>\n",
              "    </tr>\n",
              "    <tr>\n",
              "      <th>1207</th>\n",
              "      <td>2021</td>\n",
              "      <td>10</td>\n",
              "      <td>28</td>\n",
              "      <td>Incomplete</td>\n",
              "      <td>Male</td>\n",
              "      <td>1</td>\n",
              "      <td>2021-10-28</td>\n",
              "      <td>202110</td>\n",
              "    </tr>\n",
              "  </tbody>\n",
              "</table>\n",
              "<p>1208 rows × 8 columns</p>\n",
              "</div>"
            ],
            "text/plain": [
              "         Y   M   D login_status   genre  Record Count       data  mes_ano\n",
              "0     2019  12  12     Complete  Female             1 2019-12-12   201912\n",
              "1     2018   3   2     Complete  Female             1 2018-03-02   201803\n",
              "2     2018   8  29     Complete    Male             9 2018-08-29   201808\n",
              "3     2017   1   7     Complete  Female             1 2017-01-07   201701\n",
              "4     2016  10  27   Incomplete  Female             3 2016-10-27   201610\n",
              "...    ...  ..  ..          ...     ...           ...        ...      ...\n",
              "1203  2021   8   2     Complete  Female             1 2021-08-02   202108\n",
              "1204  2021   8   3     Complete  Female             1 2021-08-03   202108\n",
              "1205  2021   8  23     Complete    Male             1 2021-08-23   202108\n",
              "1206  2021  11   5     Complete  Female             1 2021-11-05   202111\n",
              "1207  2021  10  28   Incomplete    Male             1 2021-10-28   202110\n",
              "\n",
              "[1208 rows x 8 columns]"
            ]
          },
          "metadata": {},
          "execution_count": 61
        }
      ]
    },
    {
      "cell_type": "code",
      "metadata": {
        "id": "MO-Vs_IKq0KF"
      },
      "source": [
        "dados_mes = dados_mes.append(dados_mes)"
      ],
      "execution_count": 62,
      "outputs": []
    },
    {
      "cell_type": "code",
      "metadata": {
        "colab": {
          "base_uri": "https://localhost:8080/"
        },
        "id": "tQx-FC1Fu2-2",
        "outputId": "1e00c37f-72a5-4774-8386-4c67849fd4a0"
      },
      "source": [
        "dados_mes.info()"
      ],
      "execution_count": 63,
      "outputs": [
        {
          "output_type": "stream",
          "name": "stdout",
          "text": [
            "<class 'pandas.core.frame.DataFrame'>\n",
            "Int64Index: 128 entries, 0 to 63\n",
            "Data columns (total 2 columns):\n",
            " #   Column        Non-Null Count  Dtype\n",
            "---  ------        --------------  -----\n",
            " 0   mes_ano       128 non-null    int64\n",
            " 1   Record Count  128 non-null    int64\n",
            "dtypes: int64(2)\n",
            "memory usage: 3.0 KB\n"
          ]
        }
      ]
    },
    {
      "cell_type": "code",
      "metadata": {
        "colab": {
          "base_uri": "https://localhost:8080/",
          "height": 912
        },
        "id": "PvWy9BNMrUiA",
        "outputId": "e592bd48-5439-4de7-ba02-593c44e6d449"
      },
      "source": [
        "plt.figure(figsize=(20,16))\n",
        "sns.barplot(data=dados_mes, x=dados_mes.mes_ano.index, y='Record Count',\n",
        "                 linewidth=5.5)\n",
        "plt.title('Cadastros por mês - ALUMNI USP - Odontologia - São Paulo', fontsize=18)\n",
        "plt.xticks(rotation=45)"
      ],
      "execution_count": 120,
      "outputs": [
        {
          "output_type": "execute_result",
          "data": {
            "text/plain": [
              "(array([ 0,  1,  2,  3,  4,  5,  6,  7,  8,  9, 10, 11, 12, 13, 14, 15, 16,\n",
              "        17, 18, 19, 20, 21, 22, 23, 24, 25, 26, 27, 28, 29, 30, 31, 32, 33,\n",
              "        34, 35, 36, 37, 38, 39, 40, 41, 42, 43, 44, 45, 46, 47, 48, 49, 50,\n",
              "        51, 52, 53, 54, 55, 56, 57, 58, 59, 60, 61, 62, 63]),\n",
              " <a list of 64 Text major ticklabel objects>)"
            ]
          },
          "metadata": {},
          "execution_count": 120
        },
        {
          "output_type": "display_data",
          "data": {
            "image/png": "[encoded data removed]",
            "text/plain": [
              "<Figure size 1440x1152 with 1 Axes>"
            ]
          },
          "metadata": {}
        }
      ]
    },
    {
      "cell_type": "code",
      "source": [
        "plt.figure(figsize=(20,16))\n",
        "sns.barplot(data=dados_mes, x=dados_mes.mes_ano, y='Record Count',\n",
        "                 linewidth=5.5)\n",
        "plt.title('Cadastros por mês - ALUMNI USP - Odontologia - São Paulo', fontsize=18)\n",
        "plt.xticks(rotation=45)"
      ],
      "metadata": {
        "colab": {
          "base_uri": "https://localhost:8080/",
          "height": 940
        },
        "id": "7kTadhrZzT3Y",
        "outputId": "6f818f84-a06a-4e44-aca7-5d06f16d7371"
      },
      "execution_count": 121,
      "outputs": [
        {
          "output_type": "execute_result",
          "data": {
            "text/plain": [
              "(array([ 0,  1,  2,  3,  4,  5,  6,  7,  8,  9, 10, 11, 12, 13, 14, 15, 16,\n",
              "        17, 18, 19, 20, 21, 22, 23, 24, 25, 26, 27, 28, 29, 30, 31, 32, 33,\n",
              "        34, 35, 36, 37, 38, 39, 40, 41, 42, 43, 44, 45, 46, 47, 48, 49, 50,\n",
              "        51, 52, 53, 54, 55, 56, 57, 58, 59, 60, 61, 62, 63]),\n",
              " <a list of 64 Text major ticklabel objects>)"
            ]
          },
          "metadata": {},
          "execution_count": 121
        },
        {
          "output_type": "display_data",
          "data": {
            "image/png": "[encoded data removed]",
            "text/plain": [
              "<Figure size 1440x1152 with 1 Axes>"
            ]
          },
          "metadata": {}
        }
      ]
    },
    {
      "cell_type": "code",
      "metadata": {
        "colab": {
          "base_uri": "https://localhost:8080/"
        },
        "id": "L_LebQcF3a5m",
        "outputId": "77baec09-bb57-4548-aa57-d81af24a894b"
      },
      "source": [
        "login_status_estat = dados.groupby(['login_status'])['Record Count'].sum()\n",
        "login_status_estat "
      ],
      "execution_count": 65,
      "outputs": [
        {
          "output_type": "execute_result",
          "data": {
            "text/plain": [
              "login_status\n",
              "Complete      1642\n",
              "Incomplete     144\n",
              "Name: Record Count, dtype: int64"
            ]
          },
          "metadata": {},
          "execution_count": 65
        }
      ]
    },
    {
      "cell_type": "code",
      "metadata": {
        "colab": {
          "base_uri": "https://localhost:8080/",
          "height": 535
        },
        "id": "tAF6GLOcVa0V",
        "outputId": "92b3a710-e3fa-40a3-d1e3-fd2e872d5bda"
      },
      "source": [
        "fig = plt.figure(figsize=(12, 8))\n",
        "login_status_estat.plot(kind='pie', autopct='%.2f%%', startangle=90,textprops={'fontsize': 16})\n",
        "plt.axis('equal') "
      ],
      "execution_count": 66,
      "outputs": [
        {
          "output_type": "execute_result",
          "data": {
            "text/plain": [
              "(-1.1076996185846364,\n",
              " 1.1025696866986567,\n",
              " -1.1075365434838875,\n",
              " 1.100358891315668)"
            ]
          },
          "metadata": {},
          "execution_count": 66
        },
        {
          "output_type": "display_data",
          "data": {
            "image/png": "[encoded data removed]",
            "text/plain": [
              "<Figure size 864x576 with 1 Axes>"
            ]
          },
          "metadata": {}
        }
      ]
    },
    {
      "cell_type": "code",
      "metadata": {
        "id": "UPykyXO6bz1o"
      },
      "source": [
        "group_record_count_y = dados.groupby(['Y'])['Record Count'].sum()"
      ],
      "execution_count": 67,
      "outputs": []
    },
    {
      "cell_type": "code",
      "metadata": {
        "id": "2Dk4RNWkdOSk",
        "colab": {
          "base_uri": "https://localhost:8080/"
        },
        "outputId": "5b1de546-86b8-4ca8-a60c-d09a43e9604e"
      },
      "source": [
        "group_record_count_y"
      ],
      "execution_count": 68,
      "outputs": [
        {
          "output_type": "execute_result",
          "data": {
            "text/plain": [
              "Y\n",
              "2016    150\n",
              "2017    350\n",
              "2018    326\n",
              "2019    283\n",
              "2020    403\n",
              "2021    274\n",
              "Name: Record Count, dtype: int64"
            ]
          },
          "metadata": {},
          "execution_count": 68
        }
      ]
    },
    {
      "cell_type": "code",
      "metadata": {
        "colab": {
          "base_uri": "https://localhost:8080/",
          "height": 369
        },
        "id": "CNyOLqqjVa3N",
        "outputId": "5f9852b1-a2e5-432b-89ea-e852b5ba351a"
      },
      "source": [
        "sns.relplot( ci=\"sd\", kind=\"line\", data=group_record_count_y);"
      ],
      "execution_count": 69,
      "outputs": [
        {
          "output_type": "display_data",
          "data": {
            "image/png": "[encoded data removed]",
            "text/plain": [
              "<Figure size 360x360 with 1 Axes>"
            ]
          },
          "metadata": {
            "needs_background": "light"
          }
        }
      ]
    },
    {
      "cell_type": "code",
      "metadata": {
        "colab": {
          "base_uri": "https://localhost:8080/",
          "height": 523
        },
        "id": "hl7iyZ7lc8LN",
        "outputId": "59110094-4c49-4043-80ac-3e5f7e594c8e"
      },
      "source": [
        "plt.figure(figsize=(12, 8))\n",
        "group_record_count_y.plot(kind='bar')\n",
        "plt.title('Inscritos por ano', fontsize=20)\n",
        "plt.ylabel('Acesso', fontsize=16)\n",
        "plt.tick_params(labelsize=16)\n",
        "plt.xticks(rotation=0)\n",
        "plt.show()"
      ],
      "execution_count": 70,
      "outputs": [
        {
          "output_type": "display_data",
          "data": {
            "image/png": "[encoded data removed]",
            "text/plain": [
              "<Figure size 864x576 with 1 Axes>"
            ]
          },
          "metadata": {
            "needs_background": "light"
          }
        }
      ]
    },
    {
      "cell_type": "markdown",
      "metadata": {
        "id": "2NveEF3wVdlP"
      },
      "source": [
        "#**O segundo dataframe é do \"Acessos à plafatorma - Abrangência\"**"
      ]
    },
    {
      "cell_type": "code",
      "metadata": {
        "id": "0_I1NsNvVikC"
      },
      "source": [
        "dados2 = pd.read_csv(\"Dashboard Alumni USP_Acesso - Abrangência_Tabela.csv\")"
      ],
      "execution_count": 71,
      "outputs": []
    },
    {
      "cell_type": "code",
      "metadata": {
        "colab": {
          "base_uri": "https://localhost:8080/",
          "height": 81
        },
        "id": "YPH9h9uuVixG",
        "outputId": "65936b72-d0d8-4936-c456-694cd99dffbd"
      },
      "source": [
        "dados2"
      ],
      "execution_count": 72,
      "outputs": [
        {
          "output_type": "execute_result",
          "data": {
            "text/html": [
              "<div>\n",
              "<style scoped>\n",
              "    .dataframe tbody tr th:only-of-type {\n",
              "        vertical-align: middle;\n",
              "    }\n",
              "\n",
              "    .dataframe tbody tr th {\n",
              "        vertical-align: top;\n",
              "    }\n",
              "\n",
              "    .dataframe thead th {\n",
              "        text-align: right;\n",
              "    }\n",
              "</style>\n",
              "<table border=\"1\" class=\"dataframe\">\n",
              "  <thead>\n",
              "    <tr style=\"text-align: right;\">\n",
              "      <th></th>\n",
              "      <th>institution</th>\n",
              "      <th>total_active_inactive</th>\n",
              "      <th>is_inactive</th>\n",
              "      <th>is_active</th>\n",
              "      <th>perc_active</th>\n",
              "      <th>is_complete</th>\n",
              "      <th>perc_complete</th>\n",
              "    </tr>\n",
              "  </thead>\n",
              "  <tbody>\n",
              "    <tr>\n",
              "      <th>0</th>\n",
              "      <td>Faculdade de Odontologia</td>\n",
              "      <td>6934</td>\n",
              "      <td>5148</td>\n",
              "      <td>1786</td>\n",
              "      <td>0.257571</td>\n",
              "      <td>1642</td>\n",
              "      <td>0.919373</td>\n",
              "    </tr>\n",
              "  </tbody>\n",
              "</table>\n",
              "</div>"
            ],
            "text/plain": [
              "                institution  total_active_inactive  ...  is_complete  perc_complete\n",
              "0  Faculdade de Odontologia                   6934  ...         1642       0.919373\n",
              "\n",
              "[1 rows x 7 columns]"
            ]
          },
          "metadata": {},
          "execution_count": 72
        }
      ]
    },
    {
      "cell_type": "code",
      "metadata": {
        "colab": {
          "base_uri": "https://localhost:8080/",
          "height": 81
        },
        "id": "3OuVGO7gagf1",
        "outputId": "38e00c02-6c90-4643-d0ee-20299342a05e"
      },
      "source": [
        "ranking_inscritos = pd.DataFrame()\n",
        "ranking_inscritos['unidades'] = dados2['institution']\n",
        "ranking_inscritos['total'] = dados2['is_active']\n",
        "ranking_inscritos = ranking_inscritos.sort_values(['total'],ascending=False)\n",
        "ranking_inscritos"
      ],
      "execution_count": 73,
      "outputs": [
        {
          "output_type": "execute_result",
          "data": {
            "text/html": [
              "<div>\n",
              "<style scoped>\n",
              "    .dataframe tbody tr th:only-of-type {\n",
              "        vertical-align: middle;\n",
              "    }\n",
              "\n",
              "    .dataframe tbody tr th {\n",
              "        vertical-align: top;\n",
              "    }\n",
              "\n",
              "    .dataframe thead th {\n",
              "        text-align: right;\n",
              "    }\n",
              "</style>\n",
              "<table border=\"1\" class=\"dataframe\">\n",
              "  <thead>\n",
              "    <tr style=\"text-align: right;\">\n",
              "      <th></th>\n",
              "      <th>unidades</th>\n",
              "      <th>total</th>\n",
              "    </tr>\n",
              "  </thead>\n",
              "  <tbody>\n",
              "    <tr>\n",
              "      <th>0</th>\n",
              "      <td>Faculdade de Odontologia</td>\n",
              "      <td>1786</td>\n",
              "    </tr>\n",
              "  </tbody>\n",
              "</table>\n",
              "</div>"
            ],
            "text/plain": [
              "                   unidades  total\n",
              "0  Faculdade de Odontologia   1786"
            ]
          },
          "metadata": {},
          "execution_count": 73
        }
      ]
    },
    {
      "cell_type": "code",
      "metadata": {
        "colab": {
          "base_uri": "https://localhost:8080/"
        },
        "id": "m0Slfx6sbIn2",
        "outputId": "81c628a6-4b6e-4d62-c57d-899a0d7fde24"
      },
      "source": [
        "inscritos_alumni = ranking_inscritos['total'].sum() \n",
        "inscritos_alumni"
      ],
      "execution_count": 74,
      "outputs": [
        {
          "output_type": "execute_result",
          "data": {
            "text/plain": [
              "1786"
            ]
          },
          "metadata": {},
          "execution_count": 74
        }
      ]
    },
    {
      "cell_type": "markdown",
      "metadata": {
        "id": "2h-pKieJeBZu"
      },
      "source": [
        "Total verificado! corresponde perfeito!"
      ]
    },
    {
      "cell_type": "markdown",
      "metadata": {
        "id": "u7lBC0nsiZXv"
      },
      "source": [
        "Filtrando"
      ]
    },
    {
      "cell_type": "code",
      "metadata": {
        "colab": {
          "base_uri": "https://localhost:8080/",
          "height": 81
        },
        "id": "ZG0bNRuGiXYI",
        "outputId": "10fdf817-d998-49c4-c9f4-0fd640da5512"
      },
      "source": [
        "ranking_inscritos_abs_top = ranking_inscritos[:10] \n",
        "ranking_inscritos_abs_top.to_excel('ranking_inscritos_abs_top.xlsx', sheet_name='Sheet1')\n",
        "ranking_inscritos_abs_top"
      ],
      "execution_count": 75,
      "outputs": [
        {
          "output_type": "execute_result",
          "data": {
            "text/html": [
              "<div>\n",
              "<style scoped>\n",
              "    .dataframe tbody tr th:only-of-type {\n",
              "        vertical-align: middle;\n",
              "    }\n",
              "\n",
              "    .dataframe tbody tr th {\n",
              "        vertical-align: top;\n",
              "    }\n",
              "\n",
              "    .dataframe thead th {\n",
              "        text-align: right;\n",
              "    }\n",
              "</style>\n",
              "<table border=\"1\" class=\"dataframe\">\n",
              "  <thead>\n",
              "    <tr style=\"text-align: right;\">\n",
              "      <th></th>\n",
              "      <th>unidades</th>\n",
              "      <th>total</th>\n",
              "    </tr>\n",
              "  </thead>\n",
              "  <tbody>\n",
              "    <tr>\n",
              "      <th>0</th>\n",
              "      <td>Faculdade de Odontologia</td>\n",
              "      <td>1786</td>\n",
              "    </tr>\n",
              "  </tbody>\n",
              "</table>\n",
              "</div>"
            ],
            "text/plain": [
              "                   unidades  total\n",
              "0  Faculdade de Odontologia   1786"
            ]
          },
          "metadata": {},
          "execution_count": 75
        }
      ]
    },
    {
      "cell_type": "markdown",
      "metadata": {
        "id": "zdHBH3figZBm"
      },
      "source": [
        "**Total de formados nas ODONTOS**"
      ]
    },
    {
      "cell_type": "code",
      "metadata": {
        "colab": {
          "base_uri": "https://localhost:8080/",
          "height": 81
        },
        "id": "WTZllC86bIq9",
        "outputId": "0ee995ee-3f2e-4e6d-e1d3-4a6d0b48a275"
      },
      "source": [
        "formados_total = pd.DataFrame()\n",
        "formados_total['unidades'] = dados2['institution']\n",
        "formados_total['total'] = dados2['total_active_inactive']\n",
        "formados_total = formados_total.sort_values(['total'],ascending=False)\n",
        "formados_total"
      ],
      "execution_count": 76,
      "outputs": [
        {
          "output_type": "execute_result",
          "data": {
            "text/html": [
              "<div>\n",
              "<style scoped>\n",
              "    .dataframe tbody tr th:only-of-type {\n",
              "        vertical-align: middle;\n",
              "    }\n",
              "\n",
              "    .dataframe tbody tr th {\n",
              "        vertical-align: top;\n",
              "    }\n",
              "\n",
              "    .dataframe thead th {\n",
              "        text-align: right;\n",
              "    }\n",
              "</style>\n",
              "<table border=\"1\" class=\"dataframe\">\n",
              "  <thead>\n",
              "    <tr style=\"text-align: right;\">\n",
              "      <th></th>\n",
              "      <th>unidades</th>\n",
              "      <th>total</th>\n",
              "    </tr>\n",
              "  </thead>\n",
              "  <tbody>\n",
              "    <tr>\n",
              "      <th>0</th>\n",
              "      <td>Faculdade de Odontologia</td>\n",
              "      <td>6934</td>\n",
              "    </tr>\n",
              "  </tbody>\n",
              "</table>\n",
              "</div>"
            ],
            "text/plain": [
              "                   unidades  total\n",
              "0  Faculdade de Odontologia   6934"
            ]
          },
          "metadata": {},
          "execution_count": 76
        }
      ]
    },
    {
      "cell_type": "code",
      "metadata": {
        "colab": {
          "base_uri": "https://localhost:8080/"
        },
        "id": "goHvUZnIbIt9",
        "outputId": "638c1e2c-b7f7-42cb-e183-810720589473"
      },
      "source": [
        "formados = formados_total['total'].sum() \n",
        "formados"
      ],
      "execution_count": 77,
      "outputs": [
        {
          "output_type": "execute_result",
          "data": {
            "text/plain": [
              "6934"
            ]
          },
          "metadata": {},
          "execution_count": 77
        }
      ]
    },
    {
      "cell_type": "code",
      "metadata": {
        "id": "qi-yxzKybIxJ",
        "colab": {
          "base_uri": "https://localhost:8080/",
          "height": 81
        },
        "outputId": "5a99b11e-de8d-4696-d330-a0d4dde996c4"
      },
      "source": [
        "ranking_inscritos_rel = pd.DataFrame()\n",
        "ranking_inscritos_rel['unidades'] = dados2['institution']\n",
        "ranking_inscritos_rel['total'] = dados2['perc_active']\n",
        "ranking_inscritos_rel = ranking_inscritos_rel.sort_values(['total'],ascending=False)\n",
        "ranking_inscritos_rel"
      ],
      "execution_count": 78,
      "outputs": [
        {
          "output_type": "execute_result",
          "data": {
            "text/html": [
              "<div>\n",
              "<style scoped>\n",
              "    .dataframe tbody tr th:only-of-type {\n",
              "        vertical-align: middle;\n",
              "    }\n",
              "\n",
              "    .dataframe tbody tr th {\n",
              "        vertical-align: top;\n",
              "    }\n",
              "\n",
              "    .dataframe thead th {\n",
              "        text-align: right;\n",
              "    }\n",
              "</style>\n",
              "<table border=\"1\" class=\"dataframe\">\n",
              "  <thead>\n",
              "    <tr style=\"text-align: right;\">\n",
              "      <th></th>\n",
              "      <th>unidades</th>\n",
              "      <th>total</th>\n",
              "    </tr>\n",
              "  </thead>\n",
              "  <tbody>\n",
              "    <tr>\n",
              "      <th>0</th>\n",
              "      <td>Faculdade de Odontologia</td>\n",
              "      <td>0.257571</td>\n",
              "    </tr>\n",
              "  </tbody>\n",
              "</table>\n",
              "</div>"
            ],
            "text/plain": [
              "                   unidades     total\n",
              "0  Faculdade de Odontologia  0.257571"
            ]
          },
          "metadata": {},
          "execution_count": 78
        }
      ]
    },
    {
      "cell_type": "code",
      "metadata": {
        "colab": {
          "base_uri": "https://localhost:8080/",
          "height": 81
        },
        "id": "tLk2KgTlpCzz",
        "outputId": "874c19cc-4762-4ee3-f1e3-1b69694339c8"
      },
      "source": [
        "ranking_inscritos_rel_top = ranking_inscritos_rel[:10] \n",
        "ranking_inscritos_rel_top['total'] = ranking_inscritos_rel_top['total']*100\n",
        "ranking_inscritos_rel_top.to_excel('ranking_inscritos_rel_top.xlsx', sheet_name='Sheet1')\n",
        "ranking_inscritos_rel_top"
      ],
      "execution_count": 80,
      "outputs": [
        {
          "output_type": "execute_result",
          "data": {
            "text/html": [
              "<div>\n",
              "<style scoped>\n",
              "    .dataframe tbody tr th:only-of-type {\n",
              "        vertical-align: middle;\n",
              "    }\n",
              "\n",
              "    .dataframe tbody tr th {\n",
              "        vertical-align: top;\n",
              "    }\n",
              "\n",
              "    .dataframe thead th {\n",
              "        text-align: right;\n",
              "    }\n",
              "</style>\n",
              "<table border=\"1\" class=\"dataframe\">\n",
              "  <thead>\n",
              "    <tr style=\"text-align: right;\">\n",
              "      <th></th>\n",
              "      <th>unidades</th>\n",
              "      <th>total</th>\n",
              "    </tr>\n",
              "  </thead>\n",
              "  <tbody>\n",
              "    <tr>\n",
              "      <th>0</th>\n",
              "      <td>Faculdade de Odontologia</td>\n",
              "      <td>25.757139</td>\n",
              "    </tr>\n",
              "  </tbody>\n",
              "</table>\n",
              "</div>"
            ],
            "text/plain": [
              "                   unidades      total\n",
              "0  Faculdade de Odontologia  25.757139"
            ]
          },
          "metadata": {},
          "execution_count": 80
        }
      ]
    },
    {
      "cell_type": "markdown",
      "metadata": {
        "id": "GGje5Kl-sCi3"
      },
      "source": [
        "**Perfil completo ou incompleto - Total**"
      ]
    },
    {
      "cell_type": "code",
      "metadata": {
        "colab": {
          "base_uri": "https://localhost:8080/",
          "height": 81
        },
        "id": "Y0S5e3YNsFUW",
        "outputId": "3cdf727c-acb0-40c7-bf6d-40746b2426dc"
      },
      "source": [
        "ranking_perfil_completo = pd.DataFrame()\n",
        "ranking_perfil_completo['unidades'] = dados2['institution']\n",
        "ranking_perfil_completo['total'] = dados2['is_complete']\n",
        "ranking_perfil_completo = ranking_perfil_completo.sort_values(['total'],ascending=False)\n",
        "ranking_perfil_completo"
      ],
      "execution_count": 82,
      "outputs": [
        {
          "output_type": "execute_result",
          "data": {
            "text/html": [
              "<div>\n",
              "<style scoped>\n",
              "    .dataframe tbody tr th:only-of-type {\n",
              "        vertical-align: middle;\n",
              "    }\n",
              "\n",
              "    .dataframe tbody tr th {\n",
              "        vertical-align: top;\n",
              "    }\n",
              "\n",
              "    .dataframe thead th {\n",
              "        text-align: right;\n",
              "    }\n",
              "</style>\n",
              "<table border=\"1\" class=\"dataframe\">\n",
              "  <thead>\n",
              "    <tr style=\"text-align: right;\">\n",
              "      <th></th>\n",
              "      <th>unidades</th>\n",
              "      <th>total</th>\n",
              "    </tr>\n",
              "  </thead>\n",
              "  <tbody>\n",
              "    <tr>\n",
              "      <th>0</th>\n",
              "      <td>Faculdade de Odontologia</td>\n",
              "      <td>1642</td>\n",
              "    </tr>\n",
              "  </tbody>\n",
              "</table>\n",
              "</div>"
            ],
            "text/plain": [
              "                   unidades  total\n",
              "0  Faculdade de Odontologia   1642"
            ]
          },
          "metadata": {},
          "execution_count": 82
        }
      ]
    },
    {
      "cell_type": "markdown",
      "metadata": {
        "id": "ACEPPD94ur5h"
      },
      "source": [
        "**Perfil completo ou incompleto - Relativo**"
      ]
    },
    {
      "cell_type": "code",
      "metadata": {
        "colab": {
          "base_uri": "https://localhost:8080/",
          "height": 81
        },
        "id": "W6RTlgfhuulA",
        "outputId": "7610227f-9f40-457f-83a1-681d9bf62f01"
      },
      "source": [
        "ranking_perfil_completo_rel = pd.DataFrame()\n",
        "ranking_perfil_completo_rel['unidades'] = dados2['institution']\n",
        "ranking_perfil_completo_rel['total'] = dados2['perc_complete']\n",
        "ranking_perfil_completo_rel = ranking_perfil_completo_rel.sort_values(['total'],ascending=False)\n",
        "ranking_perfil_completo_rel"
      ],
      "execution_count": 86,
      "outputs": [
        {
          "output_type": "execute_result",
          "data": {
            "text/html": [
              "<div>\n",
              "<style scoped>\n",
              "    .dataframe tbody tr th:only-of-type {\n",
              "        vertical-align: middle;\n",
              "    }\n",
              "\n",
              "    .dataframe tbody tr th {\n",
              "        vertical-align: top;\n",
              "    }\n",
              "\n",
              "    .dataframe thead th {\n",
              "        text-align: right;\n",
              "    }\n",
              "</style>\n",
              "<table border=\"1\" class=\"dataframe\">\n",
              "  <thead>\n",
              "    <tr style=\"text-align: right;\">\n",
              "      <th></th>\n",
              "      <th>unidades</th>\n",
              "      <th>total</th>\n",
              "    </tr>\n",
              "  </thead>\n",
              "  <tbody>\n",
              "    <tr>\n",
              "      <th>0</th>\n",
              "      <td>Faculdade de Odontologia</td>\n",
              "      <td>0.919373</td>\n",
              "    </tr>\n",
              "  </tbody>\n",
              "</table>\n",
              "</div>"
            ],
            "text/plain": [
              "                   unidades     total\n",
              "0  Faculdade de Odontologia  0.919373"
            ]
          },
          "metadata": {},
          "execution_count": 86
        }
      ]
    },
    {
      "cell_type": "markdown",
      "metadata": {
        "id": "kvLMB_07xUkt"
      },
      "source": [
        "#**O Terceiro DataFrame é:\"Acessos à plafatorma - Demográfico\"**<br>\n",
        "Essa parte no dashboard divide em duas tabelas, no qual podemos exportar dois csv, logo, são dois arquivos."
      ]
    },
    {
      "cell_type": "code",
      "metadata": {
        "id": "igDN1Ih-uuqe"
      },
      "source": [
        "dados3_1 = pd.read_csv(\"Dashboard Alumni USP_Acesso  - Demográfico_Tabela.csv\")\n",
        "dados3_2 = pd.read_csv(\"Dashboard Alumni USP_Acesso  - Demográfico_Tabela dinâmica.csv\")\n",
        "dados3_3 = pd.read_csv(\"Dashboard Alumni USP_Acesso  - Demográfico_Gráfico de pizza.csv\")"
      ],
      "execution_count": 88,
      "outputs": []
    },
    {
      "cell_type": "code",
      "metadata": {
        "colab": {
          "base_uri": "https://localhost:8080/",
          "height": 1000
        },
        "id": "4cWdSiAFuutA",
        "outputId": "8e240a6f-1340-4272-83a9-666af10c4b8a"
      },
      "source": [
        "dados3_1"
      ],
      "execution_count": 89,
      "outputs": [
        {
          "output_type": "execute_result",
          "data": {
            "text/html": [
              "<div>\n",
              "<style scoped>\n",
              "    .dataframe tbody tr th:only-of-type {\n",
              "        vertical-align: middle;\n",
              "    }\n",
              "\n",
              "    .dataframe tbody tr th {\n",
              "        vertical-align: top;\n",
              "    }\n",
              "\n",
              "    .dataframe thead th {\n",
              "        text-align: right;\n",
              "    }\n",
              "</style>\n",
              "<table border=\"1\" class=\"dataframe\">\n",
              "  <thead>\n",
              "    <tr style=\"text-align: right;\">\n",
              "      <th></th>\n",
              "      <th>periodstartyear</th>\n",
              "      <th>total_active_inactive</th>\n",
              "      <th>is_inactive</th>\n",
              "      <th>is_active</th>\n",
              "      <th>perc_active</th>\n",
              "      <th>is_complete</th>\n",
              "      <th>perc_complete</th>\n",
              "    </tr>\n",
              "  </thead>\n",
              "  <tbody>\n",
              "    <tr>\n",
              "      <th>0</th>\n",
              "      <td>2019</td>\n",
              "      <td>18</td>\n",
              "      <td>10</td>\n",
              "      <td>8</td>\n",
              "      <td>0.444444</td>\n",
              "      <td>8</td>\n",
              "      <td>1.000000</td>\n",
              "    </tr>\n",
              "    <tr>\n",
              "      <th>1</th>\n",
              "      <td>2018</td>\n",
              "      <td>31</td>\n",
              "      <td>13</td>\n",
              "      <td>18</td>\n",
              "      <td>0.580645</td>\n",
              "      <td>18</td>\n",
              "      <td>1.000000</td>\n",
              "    </tr>\n",
              "    <tr>\n",
              "      <th>2</th>\n",
              "      <td>2017</td>\n",
              "      <td>50</td>\n",
              "      <td>22</td>\n",
              "      <td>28</td>\n",
              "      <td>0.560000</td>\n",
              "      <td>25</td>\n",
              "      <td>0.892857</td>\n",
              "    </tr>\n",
              "    <tr>\n",
              "      <th>3</th>\n",
              "      <td>2016</td>\n",
              "      <td>90</td>\n",
              "      <td>17</td>\n",
              "      <td>73</td>\n",
              "      <td>0.811111</td>\n",
              "      <td>72</td>\n",
              "      <td>0.986301</td>\n",
              "    </tr>\n",
              "    <tr>\n",
              "      <th>4</th>\n",
              "      <td>2015</td>\n",
              "      <td>177</td>\n",
              "      <td>52</td>\n",
              "      <td>125</td>\n",
              "      <td>0.706215</td>\n",
              "      <td>123</td>\n",
              "      <td>0.984000</td>\n",
              "    </tr>\n",
              "    <tr>\n",
              "      <th>5</th>\n",
              "      <td>2014</td>\n",
              "      <td>153</td>\n",
              "      <td>49</td>\n",
              "      <td>104</td>\n",
              "      <td>0.679739</td>\n",
              "      <td>100</td>\n",
              "      <td>0.961538</td>\n",
              "    </tr>\n",
              "    <tr>\n",
              "      <th>6</th>\n",
              "      <td>2013</td>\n",
              "      <td>138</td>\n",
              "      <td>53</td>\n",
              "      <td>85</td>\n",
              "      <td>0.615942</td>\n",
              "      <td>79</td>\n",
              "      <td>0.929412</td>\n",
              "    </tr>\n",
              "    <tr>\n",
              "      <th>7</th>\n",
              "      <td>2012</td>\n",
              "      <td>150</td>\n",
              "      <td>76</td>\n",
              "      <td>74</td>\n",
              "      <td>0.493333</td>\n",
              "      <td>70</td>\n",
              "      <td>0.945946</td>\n",
              "    </tr>\n",
              "    <tr>\n",
              "      <th>8</th>\n",
              "      <td>2011</td>\n",
              "      <td>170</td>\n",
              "      <td>90</td>\n",
              "      <td>80</td>\n",
              "      <td>0.470588</td>\n",
              "      <td>77</td>\n",
              "      <td>0.962500</td>\n",
              "    </tr>\n",
              "    <tr>\n",
              "      <th>9</th>\n",
              "      <td>2010</td>\n",
              "      <td>175</td>\n",
              "      <td>103</td>\n",
              "      <td>72</td>\n",
              "      <td>0.411429</td>\n",
              "      <td>68</td>\n",
              "      <td>0.944444</td>\n",
              "    </tr>\n",
              "    <tr>\n",
              "      <th>10</th>\n",
              "      <td>2009</td>\n",
              "      <td>156</td>\n",
              "      <td>97</td>\n",
              "      <td>59</td>\n",
              "      <td>0.378205</td>\n",
              "      <td>53</td>\n",
              "      <td>0.898305</td>\n",
              "    </tr>\n",
              "    <tr>\n",
              "      <th>11</th>\n",
              "      <td>2008</td>\n",
              "      <td>148</td>\n",
              "      <td>93</td>\n",
              "      <td>55</td>\n",
              "      <td>0.371622</td>\n",
              "      <td>50</td>\n",
              "      <td>0.909091</td>\n",
              "    </tr>\n",
              "    <tr>\n",
              "      <th>12</th>\n",
              "      <td>2007</td>\n",
              "      <td>151</td>\n",
              "      <td>95</td>\n",
              "      <td>56</td>\n",
              "      <td>0.370861</td>\n",
              "      <td>51</td>\n",
              "      <td>0.910714</td>\n",
              "    </tr>\n",
              "    <tr>\n",
              "      <th>13</th>\n",
              "      <td>2006</td>\n",
              "      <td>173</td>\n",
              "      <td>108</td>\n",
              "      <td>65</td>\n",
              "      <td>0.375723</td>\n",
              "      <td>58</td>\n",
              "      <td>0.892308</td>\n",
              "    </tr>\n",
              "    <tr>\n",
              "      <th>14</th>\n",
              "      <td>2005</td>\n",
              "      <td>185</td>\n",
              "      <td>127</td>\n",
              "      <td>58</td>\n",
              "      <td>0.313514</td>\n",
              "      <td>54</td>\n",
              "      <td>0.931034</td>\n",
              "    </tr>\n",
              "    <tr>\n",
              "      <th>15</th>\n",
              "      <td>2004</td>\n",
              "      <td>147</td>\n",
              "      <td>100</td>\n",
              "      <td>47</td>\n",
              "      <td>0.319728</td>\n",
              "      <td>41</td>\n",
              "      <td>0.872340</td>\n",
              "    </tr>\n",
              "    <tr>\n",
              "      <th>16</th>\n",
              "      <td>2003</td>\n",
              "      <td>185</td>\n",
              "      <td>129</td>\n",
              "      <td>56</td>\n",
              "      <td>0.302703</td>\n",
              "      <td>47</td>\n",
              "      <td>0.839286</td>\n",
              "    </tr>\n",
              "    <tr>\n",
              "      <th>17</th>\n",
              "      <td>2002</td>\n",
              "      <td>176</td>\n",
              "      <td>128</td>\n",
              "      <td>48</td>\n",
              "      <td>0.272727</td>\n",
              "      <td>46</td>\n",
              "      <td>0.958333</td>\n",
              "    </tr>\n",
              "    <tr>\n",
              "      <th>18</th>\n",
              "      <td>2001</td>\n",
              "      <td>216</td>\n",
              "      <td>166</td>\n",
              "      <td>50</td>\n",
              "      <td>0.231481</td>\n",
              "      <td>44</td>\n",
              "      <td>0.880000</td>\n",
              "    </tr>\n",
              "    <tr>\n",
              "      <th>19</th>\n",
              "      <td>2000</td>\n",
              "      <td>159</td>\n",
              "      <td>127</td>\n",
              "      <td>32</td>\n",
              "      <td>0.201258</td>\n",
              "      <td>29</td>\n",
              "      <td>0.906250</td>\n",
              "    </tr>\n",
              "    <tr>\n",
              "      <th>20</th>\n",
              "      <td>1999</td>\n",
              "      <td>195</td>\n",
              "      <td>137</td>\n",
              "      <td>58</td>\n",
              "      <td>0.297436</td>\n",
              "      <td>50</td>\n",
              "      <td>0.862069</td>\n",
              "    </tr>\n",
              "    <tr>\n",
              "      <th>21</th>\n",
              "      <td>1998</td>\n",
              "      <td>179</td>\n",
              "      <td>142</td>\n",
              "      <td>37</td>\n",
              "      <td>0.206704</td>\n",
              "      <td>33</td>\n",
              "      <td>0.891892</td>\n",
              "    </tr>\n",
              "    <tr>\n",
              "      <th>22</th>\n",
              "      <td>1997</td>\n",
              "      <td>170</td>\n",
              "      <td>135</td>\n",
              "      <td>35</td>\n",
              "      <td>0.205882</td>\n",
              "      <td>32</td>\n",
              "      <td>0.914286</td>\n",
              "    </tr>\n",
              "    <tr>\n",
              "      <th>23</th>\n",
              "      <td>1996</td>\n",
              "      <td>179</td>\n",
              "      <td>153</td>\n",
              "      <td>26</td>\n",
              "      <td>0.145251</td>\n",
              "      <td>24</td>\n",
              "      <td>0.923077</td>\n",
              "    </tr>\n",
              "    <tr>\n",
              "      <th>24</th>\n",
              "      <td>1995</td>\n",
              "      <td>191</td>\n",
              "      <td>158</td>\n",
              "      <td>33</td>\n",
              "      <td>0.172775</td>\n",
              "      <td>28</td>\n",
              "      <td>0.848485</td>\n",
              "    </tr>\n",
              "    <tr>\n",
              "      <th>25</th>\n",
              "      <td>1994</td>\n",
              "      <td>154</td>\n",
              "      <td>123</td>\n",
              "      <td>31</td>\n",
              "      <td>0.201299</td>\n",
              "      <td>30</td>\n",
              "      <td>0.967742</td>\n",
              "    </tr>\n",
              "    <tr>\n",
              "      <th>26</th>\n",
              "      <td>1993</td>\n",
              "      <td>161</td>\n",
              "      <td>131</td>\n",
              "      <td>30</td>\n",
              "      <td>0.186335</td>\n",
              "      <td>26</td>\n",
              "      <td>0.866667</td>\n",
              "    </tr>\n",
              "    <tr>\n",
              "      <th>27</th>\n",
              "      <td>1992</td>\n",
              "      <td>155</td>\n",
              "      <td>123</td>\n",
              "      <td>32</td>\n",
              "      <td>0.206452</td>\n",
              "      <td>28</td>\n",
              "      <td>0.875000</td>\n",
              "    </tr>\n",
              "    <tr>\n",
              "      <th>28</th>\n",
              "      <td>1991</td>\n",
              "      <td>164</td>\n",
              "      <td>131</td>\n",
              "      <td>33</td>\n",
              "      <td>0.201220</td>\n",
              "      <td>31</td>\n",
              "      <td>0.939394</td>\n",
              "    </tr>\n",
              "    <tr>\n",
              "      <th>29</th>\n",
              "      <td>1990</td>\n",
              "      <td>139</td>\n",
              "      <td>110</td>\n",
              "      <td>29</td>\n",
              "      <td>0.208633</td>\n",
              "      <td>23</td>\n",
              "      <td>0.793103</td>\n",
              "    </tr>\n",
              "    <tr>\n",
              "      <th>30</th>\n",
              "      <td>1989</td>\n",
              "      <td>178</td>\n",
              "      <td>140</td>\n",
              "      <td>38</td>\n",
              "      <td>0.213483</td>\n",
              "      <td>32</td>\n",
              "      <td>0.842105</td>\n",
              "    </tr>\n",
              "    <tr>\n",
              "      <th>31</th>\n",
              "      <td>1988</td>\n",
              "      <td>126</td>\n",
              "      <td>106</td>\n",
              "      <td>20</td>\n",
              "      <td>0.158730</td>\n",
              "      <td>18</td>\n",
              "      <td>0.900000</td>\n",
              "    </tr>\n",
              "    <tr>\n",
              "      <th>32</th>\n",
              "      <td>1987</td>\n",
              "      <td>145</td>\n",
              "      <td>127</td>\n",
              "      <td>18</td>\n",
              "      <td>0.124138</td>\n",
              "      <td>18</td>\n",
              "      <td>1.000000</td>\n",
              "    </tr>\n",
              "    <tr>\n",
              "      <th>33</th>\n",
              "      <td>1986</td>\n",
              "      <td>135</td>\n",
              "      <td>121</td>\n",
              "      <td>14</td>\n",
              "      <td>0.103704</td>\n",
              "      <td>13</td>\n",
              "      <td>0.928571</td>\n",
              "    </tr>\n",
              "    <tr>\n",
              "      <th>34</th>\n",
              "      <td>1985</td>\n",
              "      <td>146</td>\n",
              "      <td>127</td>\n",
              "      <td>19</td>\n",
              "      <td>0.130137</td>\n",
              "      <td>18</td>\n",
              "      <td>0.947368</td>\n",
              "    </tr>\n",
              "    <tr>\n",
              "      <th>35</th>\n",
              "      <td>1984</td>\n",
              "      <td>122</td>\n",
              "      <td>109</td>\n",
              "      <td>13</td>\n",
              "      <td>0.106557</td>\n",
              "      <td>12</td>\n",
              "      <td>0.923077</td>\n",
              "    </tr>\n",
              "    <tr>\n",
              "      <th>36</th>\n",
              "      <td>1983</td>\n",
              "      <td>162</td>\n",
              "      <td>148</td>\n",
              "      <td>14</td>\n",
              "      <td>0.086420</td>\n",
              "      <td>14</td>\n",
              "      <td>1.000000</td>\n",
              "    </tr>\n",
              "    <tr>\n",
              "      <th>37</th>\n",
              "      <td>1982</td>\n",
              "      <td>145</td>\n",
              "      <td>132</td>\n",
              "      <td>13</td>\n",
              "      <td>0.089655</td>\n",
              "      <td>10</td>\n",
              "      <td>0.769231</td>\n",
              "    </tr>\n",
              "    <tr>\n",
              "      <th>38</th>\n",
              "      <td>1981</td>\n",
              "      <td>175</td>\n",
              "      <td>151</td>\n",
              "      <td>24</td>\n",
              "      <td>0.137143</td>\n",
              "      <td>20</td>\n",
              "      <td>0.833333</td>\n",
              "    </tr>\n",
              "    <tr>\n",
              "      <th>39</th>\n",
              "      <td>1980</td>\n",
              "      <td>140</td>\n",
              "      <td>113</td>\n",
              "      <td>27</td>\n",
              "      <td>0.192857</td>\n",
              "      <td>26</td>\n",
              "      <td>0.962963</td>\n",
              "    </tr>\n",
              "    <tr>\n",
              "      <th>40</th>\n",
              "      <td>1979</td>\n",
              "      <td>156</td>\n",
              "      <td>141</td>\n",
              "      <td>15</td>\n",
              "      <td>0.096154</td>\n",
              "      <td>12</td>\n",
              "      <td>0.800000</td>\n",
              "    </tr>\n",
              "    <tr>\n",
              "      <th>41</th>\n",
              "      <td>1978</td>\n",
              "      <td>148</td>\n",
              "      <td>137</td>\n",
              "      <td>11</td>\n",
              "      <td>0.074324</td>\n",
              "      <td>10</td>\n",
              "      <td>0.909091</td>\n",
              "    </tr>\n",
              "    <tr>\n",
              "      <th>42</th>\n",
              "      <td>1977</td>\n",
              "      <td>165</td>\n",
              "      <td>158</td>\n",
              "      <td>7</td>\n",
              "      <td>0.042424</td>\n",
              "      <td>7</td>\n",
              "      <td>1.000000</td>\n",
              "    </tr>\n",
              "    <tr>\n",
              "      <th>43</th>\n",
              "      <td>1976</td>\n",
              "      <td>149</td>\n",
              "      <td>141</td>\n",
              "      <td>8</td>\n",
              "      <td>0.053691</td>\n",
              "      <td>7</td>\n",
              "      <td>0.875000</td>\n",
              "    </tr>\n",
              "    <tr>\n",
              "      <th>44</th>\n",
              "      <td>1975</td>\n",
              "      <td>158</td>\n",
              "      <td>153</td>\n",
              "      <td>5</td>\n",
              "      <td>0.031646</td>\n",
              "      <td>5</td>\n",
              "      <td>1.000000</td>\n",
              "    </tr>\n",
              "    <tr>\n",
              "      <th>45</th>\n",
              "      <td>1974</td>\n",
              "      <td>149</td>\n",
              "      <td>146</td>\n",
              "      <td>3</td>\n",
              "      <td>0.020134</td>\n",
              "      <td>2</td>\n",
              "      <td>0.666667</td>\n",
              "    </tr>\n",
              "  </tbody>\n",
              "</table>\n",
              "</div>"
            ],
            "text/plain": [
              "    periodstartyear  total_active_inactive  ...  is_complete  perc_complete\n",
              "0              2019                     18  ...            8       1.000000\n",
              "1              2018                     31  ...           18       1.000000\n",
              "2              2017                     50  ...           25       0.892857\n",
              "3              2016                     90  ...           72       0.986301\n",
              "4              2015                    177  ...          123       0.984000\n",
              "5              2014                    153  ...          100       0.961538\n",
              "6              2013                    138  ...           79       0.929412\n",
              "7              2012                    150  ...           70       0.945946\n",
              "8              2011                    170  ...           77       0.962500\n",
              "9              2010                    175  ...           68       0.944444\n",
              "10             2009                    156  ...           53       0.898305\n",
              "11             2008                    148  ...           50       0.909091\n",
              "12             2007                    151  ...           51       0.910714\n",
              "13             2006                    173  ...           58       0.892308\n",
              "14             2005                    185  ...           54       0.931034\n",
              "15             2004                    147  ...           41       0.872340\n",
              "16             2003                    185  ...           47       0.839286\n",
              "17             2002                    176  ...           46       0.958333\n",
              "18             2001                    216  ...           44       0.880000\n",
              "19             2000                    159  ...           29       0.906250\n",
              "20             1999                    195  ...           50       0.862069\n",
              "21             1998                    179  ...           33       0.891892\n",
              "22             1997                    170  ...           32       0.914286\n",
              "23             1996                    179  ...           24       0.923077\n",
              "24             1995                    191  ...           28       0.848485\n",
              "25             1994                    154  ...           30       0.967742\n",
              "26             1993                    161  ...           26       0.866667\n",
              "27             1992                    155  ...           28       0.875000\n",
              "28             1991                    164  ...           31       0.939394\n",
              "29             1990                    139  ...           23       0.793103\n",
              "30             1989                    178  ...           32       0.842105\n",
              "31             1988                    126  ...           18       0.900000\n",
              "32             1987                    145  ...           18       1.000000\n",
              "33             1986                    135  ...           13       0.928571\n",
              "34             1985                    146  ...           18       0.947368\n",
              "35             1984                    122  ...           12       0.923077\n",
              "36             1983                    162  ...           14       1.000000\n",
              "37             1982                    145  ...           10       0.769231\n",
              "38             1981                    175  ...           20       0.833333\n",
              "39             1980                    140  ...           26       0.962963\n",
              "40             1979                    156  ...           12       0.800000\n",
              "41             1978                    148  ...           10       0.909091\n",
              "42             1977                    165  ...            7       1.000000\n",
              "43             1976                    149  ...            7       0.875000\n",
              "44             1975                    158  ...            5       1.000000\n",
              "45             1974                    149  ...            2       0.666667\n",
              "\n",
              "[46 rows x 7 columns]"
            ]
          },
          "metadata": {},
          "execution_count": 89
        }
      ]
    },
    {
      "cell_type": "code",
      "metadata": {
        "colab": {
          "base_uri": "https://localhost:8080/",
          "height": 269
        },
        "id": "Y_T_8cpYuuv7",
        "outputId": "405cf77a-7994-44fd-d7aa-ff68a99a50ce"
      },
      "source": [
        "dados3_2"
      ],
      "execution_count": 90,
      "outputs": [
        {
          "output_type": "execute_result",
          "data": {
            "text/html": [
              "<div>\n",
              "<style scoped>\n",
              "    .dataframe tbody tr th:only-of-type {\n",
              "        vertical-align: middle;\n",
              "    }\n",
              "\n",
              "    .dataframe tbody tr th {\n",
              "        vertical-align: top;\n",
              "    }\n",
              "\n",
              "    .dataframe thead th {\n",
              "        text-align: right;\n",
              "    }\n",
              "</style>\n",
              "<table border=\"1\" class=\"dataframe\">\n",
              "  <thead>\n",
              "    <tr style=\"text-align: right;\">\n",
              "      <th></th>\n",
              "      <th>age</th>\n",
              "      <th>Record Count</th>\n",
              "      <th>Record Count.1</th>\n",
              "    </tr>\n",
              "  </thead>\n",
              "  <tbody>\n",
              "    <tr>\n",
              "      <th>0</th>\n",
              "      <td>Entre 41 e 50</td>\n",
              "      <td>484</td>\n",
              "      <td>0.270997</td>\n",
              "    </tr>\n",
              "    <tr>\n",
              "      <th>1</th>\n",
              "      <td>Entre 31 e 40</td>\n",
              "      <td>541</td>\n",
              "      <td>0.302912</td>\n",
              "    </tr>\n",
              "    <tr>\n",
              "      <th>2</th>\n",
              "      <td>Entre 51 e 60</td>\n",
              "      <td>275</td>\n",
              "      <td>0.153975</td>\n",
              "    </tr>\n",
              "    <tr>\n",
              "      <th>3</th>\n",
              "      <td>Entre 61 e 70</td>\n",
              "      <td>94</td>\n",
              "      <td>0.052632</td>\n",
              "    </tr>\n",
              "    <tr>\n",
              "      <th>4</th>\n",
              "      <td>Entre 26 e 30</td>\n",
              "      <td>295</td>\n",
              "      <td>0.165174</td>\n",
              "    </tr>\n",
              "    <tr>\n",
              "      <th>5</th>\n",
              "      <td>Entre 71 e 80</td>\n",
              "      <td>11</td>\n",
              "      <td>0.006159</td>\n",
              "    </tr>\n",
              "    <tr>\n",
              "      <th>6</th>\n",
              "      <td>Entre 21 e 25</td>\n",
              "      <td>86</td>\n",
              "      <td>0.048152</td>\n",
              "    </tr>\n",
              "  </tbody>\n",
              "</table>\n",
              "</div>"
            ],
            "text/plain": [
              "             age  Record Count  Record Count.1\n",
              "0  Entre 41 e 50           484        0.270997\n",
              "1  Entre 31 e 40           541        0.302912\n",
              "2  Entre 51 e 60           275        0.153975\n",
              "3  Entre 61 e 70            94        0.052632\n",
              "4  Entre 26 e 30           295        0.165174\n",
              "5  Entre 71 e 80            11        0.006159\n",
              "6  Entre 21 e 25            86        0.048152"
            ]
          },
          "metadata": {},
          "execution_count": 90
        }
      ]
    },
    {
      "cell_type": "code",
      "source": [
        "dados3_3"
      ],
      "metadata": {
        "colab": {
          "base_uri": "https://localhost:8080/",
          "height": 112
        },
        "id": "-alsPEmhhjn9",
        "outputId": "024c33c7-c3f5-4320-e8ba-817aecb77022"
      },
      "execution_count": 91,
      "outputs": [
        {
          "output_type": "execute_result",
          "data": {
            "text/html": [
              "<div>\n",
              "<style scoped>\n",
              "    .dataframe tbody tr th:only-of-type {\n",
              "        vertical-align: middle;\n",
              "    }\n",
              "\n",
              "    .dataframe tbody tr th {\n",
              "        vertical-align: top;\n",
              "    }\n",
              "\n",
              "    .dataframe thead th {\n",
              "        text-align: right;\n",
              "    }\n",
              "</style>\n",
              "<table border=\"1\" class=\"dataframe\">\n",
              "  <thead>\n",
              "    <tr style=\"text-align: right;\">\n",
              "      <th></th>\n",
              "      <th>genre</th>\n",
              "      <th>Record Count</th>\n",
              "    </tr>\n",
              "  </thead>\n",
              "  <tbody>\n",
              "    <tr>\n",
              "      <th>0</th>\n",
              "      <td>Female</td>\n",
              "      <td>4190</td>\n",
              "    </tr>\n",
              "    <tr>\n",
              "      <th>1</th>\n",
              "      <td>Male</td>\n",
              "      <td>2744</td>\n",
              "    </tr>\n",
              "  </tbody>\n",
              "</table>\n",
              "</div>"
            ],
            "text/plain": [
              "    genre  Record Count\n",
              "0  Female          4190\n",
              "1    Male          2744"
            ]
          },
          "metadata": {},
          "execution_count": 91
        }
      ]
    },
    {
      "cell_type": "markdown",
      "metadata": {
        "id": "W5FY7OsR3OHt"
      },
      "source": [
        "#**O quinto DataFrame é: \"Status Profissional\"**<br>\n",
        "Essa parte no dashboard divide em duas tabelas, no qual podemos exportar dois csv, logo, são dois arquivos."
      ]
    },
    {
      "cell_type": "code",
      "metadata": {
        "id": "N06IGyDy4Ihf"
      },
      "source": [
        "dados5 = pd.read_csv(\"Dashboard Alumni USP_Status Profissional_Tabela dinâmica.csv\")"
      ],
      "execution_count": 92,
      "outputs": []
    },
    {
      "cell_type": "code",
      "metadata": {
        "colab": {
          "base_uri": "https://localhost:8080/",
          "height": 424
        },
        "id": "aOaZCyK74Ikl",
        "outputId": "5d262e94-2494-4dc5-c0a3-432c832b40e6"
      },
      "source": [
        "dados5"
      ],
      "execution_count": 93,
      "outputs": [
        {
          "output_type": "execute_result",
          "data": {
            "text/html": [
              "<div>\n",
              "<style scoped>\n",
              "    .dataframe tbody tr th:only-of-type {\n",
              "        vertical-align: middle;\n",
              "    }\n",
              "\n",
              "    .dataframe tbody tr th {\n",
              "        vertical-align: top;\n",
              "    }\n",
              "\n",
              "    .dataframe thead th {\n",
              "        text-align: right;\n",
              "    }\n",
              "</style>\n",
              "<table border=\"1\" class=\"dataframe\">\n",
              "  <thead>\n",
              "    <tr style=\"text-align: right;\">\n",
              "      <th></th>\n",
              "      <th>prof_status</th>\n",
              "      <th>Y</th>\n",
              "      <th>Record Count</th>\n",
              "    </tr>\n",
              "  </thead>\n",
              "  <tbody>\n",
              "    <tr>\n",
              "      <th>0</th>\n",
              "      <td>Sou Empregado ou Servidor Público</td>\n",
              "      <td>2019</td>\n",
              "      <td>199</td>\n",
              "    </tr>\n",
              "    <tr>\n",
              "      <th>1</th>\n",
              "      <td>Sou Empregado ou Servidor Público</td>\n",
              "      <td>2018</td>\n",
              "      <td>254</td>\n",
              "    </tr>\n",
              "    <tr>\n",
              "      <th>2</th>\n",
              "      <td>Sou Profissional Liberal</td>\n",
              "      <td>2017</td>\n",
              "      <td>26</td>\n",
              "    </tr>\n",
              "    <tr>\n",
              "      <th>3</th>\n",
              "      <td>Sou Empregado</td>\n",
              "      <td>2016</td>\n",
              "      <td>7</td>\n",
              "    </tr>\n",
              "    <tr>\n",
              "      <th>4</th>\n",
              "      <td>-</td>\n",
              "      <td>2017</td>\n",
              "      <td>207</td>\n",
              "    </tr>\n",
              "    <tr>\n",
              "      <th>...</th>\n",
              "      <td>...</td>\n",
              "      <td>...</td>\n",
              "      <td>...</td>\n",
              "    </tr>\n",
              "    <tr>\n",
              "      <th>71</th>\n",
              "      <td>Estou Procurando Emprego</td>\n",
              "      <td>2017</td>\n",
              "      <td>1</td>\n",
              "    </tr>\n",
              "    <tr>\n",
              "      <th>72</th>\n",
              "      <td>Sou Estudante com Bolsa</td>\n",
              "      <td>2021</td>\n",
              "      <td>8</td>\n",
              "    </tr>\n",
              "    <tr>\n",
              "      <th>73</th>\n",
              "      <td>Procuro meu Primeiro Emprego</td>\n",
              "      <td>2021</td>\n",
              "      <td>21</td>\n",
              "    </tr>\n",
              "    <tr>\n",
              "      <th>74</th>\n",
              "      <td>Procuro meu Primeiro Emprego</td>\n",
              "      <td>2019</td>\n",
              "      <td>15</td>\n",
              "    </tr>\n",
              "    <tr>\n",
              "      <th>75</th>\n",
              "      <td>Estou Procurando Emprego</td>\n",
              "      <td>2021</td>\n",
              "      <td>18</td>\n",
              "    </tr>\n",
              "  </tbody>\n",
              "</table>\n",
              "<p>76 rows × 3 columns</p>\n",
              "</div>"
            ],
            "text/plain": [
              "                          prof_status     Y  Record Count\n",
              "0   Sou Empregado ou Servidor Público  2019           199\n",
              "1   Sou Empregado ou Servidor Público  2018           254\n",
              "2            Sou Profissional Liberal  2017            26\n",
              "3                       Sou Empregado  2016             7\n",
              "4                                   -  2017           207\n",
              "..                                ...   ...           ...\n",
              "71           Estou Procurando Emprego  2017             1\n",
              "72            Sou Estudante com Bolsa  2021             8\n",
              "73       Procuro meu Primeiro Emprego  2021            21\n",
              "74       Procuro meu Primeiro Emprego  2019            15\n",
              "75           Estou Procurando Emprego  2021            18\n",
              "\n",
              "[76 rows x 3 columns]"
            ]
          },
          "metadata": {},
          "execution_count": 93
        }
      ]
    },
    {
      "cell_type": "code",
      "metadata": {
        "colab": {
          "base_uri": "https://localhost:8080/"
        },
        "id": "MxAShohwZlji",
        "outputId": "229b4f26-f692-480d-dbac-f0e99a0f3be0"
      },
      "source": [
        "prof_status_total = dados5.groupby(by=\"prof_status\")['Record Count'].sum().sort_values(ascending=False)\n",
        "prof_status_total"
      ],
      "execution_count": 94,
      "outputs": [
        {
          "output_type": "execute_result",
          "data": {
            "text/plain": [
              "prof_status\n",
              "Sou Empregado ou Servidor Público    671\n",
              "Sou Profissional Liberal             271\n",
              "-                                    257\n",
              "Sou Empregado                         92\n",
              "Procuro meu Primeiro Emprego          55\n",
              "Sou Empreendedor                      45\n",
              "Sou Servidor Público Estadual         44\n",
              "Estou Procurando Emprego              40\n",
              "Sou Estudante com Bolsa               39\n",
              "Sou Servidor Público Municipal        36\n",
              "Sou Servidor Público Federal          27\n",
              "Sou Estudante                         23\n",
              "Nenhuma das anteriores                22\n",
              "Sou Pós-doutorando                    15\n",
              "Estou Aposentado                       5\n",
              "Name: Record Count, dtype: int64"
            ]
          },
          "metadata": {},
          "execution_count": 94
        }
      ]
    },
    {
      "cell_type": "code",
      "metadata": {
        "colab": {
          "base_uri": "https://localhost:8080/"
        },
        "id": "K6XtijtPQG-6",
        "outputId": "48396edd-8f44-47a6-8684-5e041386a62a"
      },
      "source": [
        "dados5.info()"
      ],
      "execution_count": 95,
      "outputs": [
        {
          "output_type": "stream",
          "name": "stdout",
          "text": [
            "<class 'pandas.core.frame.DataFrame'>\n",
            "RangeIndex: 76 entries, 0 to 75\n",
            "Data columns (total 3 columns):\n",
            " #   Column        Non-Null Count  Dtype \n",
            "---  ------        --------------  ----- \n",
            " 0   prof_status   76 non-null     object\n",
            " 1   Y             76 non-null     int64 \n",
            " 2   Record Count  76 non-null     int64 \n",
            "dtypes: int64(2), object(1)\n",
            "memory usage: 1.9+ KB\n"
          ]
        }
      ]
    },
    {
      "cell_type": "code",
      "metadata": {
        "colab": {
          "base_uri": "https://localhost:8080/",
          "height": 893
        },
        "id": "WvOVCOQzXa8G",
        "outputId": "7896399c-2b57-4750-fbd8-5893128b56e3"
      },
      "source": [
        "sns.catplot( y=\"prof_status\", x=\"Record Count\", hue=\"Y\", estimator=np.sum, order = dados5['prof_status'].value_counts().sort_values(ascending=True).index,\n",
        "            kind=\"bar\", \n",
        "            data=dados5, height=15)\n",
        "plt.title('ALUMNI USP - Status Profissional - Faculdade de Odontologia - São Paulo', fontsize=28)\n",
        "plt.xlabel('', fontsize=20)\n",
        "plt.tick_params(labelsize=18)\n",
        "plt.show()"
      ],
      "execution_count": 124,
      "outputs": [
        {
          "output_type": "display_data",
          "data": {
            "image/png": "[encoded data removed]",
            "text/plain": [
              "<Figure size 1163.73x1080 with 1 Axes>"
            ]
          },
          "metadata": {}
        }
      ]
    },
    {
      "cell_type": "code",
      "metadata": {
        "colab": {
          "base_uri": "https://localhost:8080/",
          "height": 976
        },
        "id": "w5U_GpFVbVFG",
        "outputId": "2562832e-dd8c-421c-f9b9-268884a237e6"
      },
      "source": [
        "sns.catplot( y=\"prof_status\", x=\"Record Count\", estimator=np.sum, order = dados5['prof_status'].value_counts().sort_values(ascending=True).index,\n",
        "            kind=\"bar\", \n",
        "            data=dados5, height=15)\n",
        "plt.title('Status Profissional', fontsize=28)\n",
        "plt.xlabel('', fontsize=20)\n",
        "plt.tick_params(labelsize=18)\n",
        "plt.show()"
      ],
      "execution_count": 125,
      "outputs": [
        {
          "output_type": "display_data",
          "data": {
            "image/png": "[encoded data removed]",
            "text/plain": [
              "<Figure size 1080x1080 with 1 Axes>"
            ]
          },
          "metadata": {}
        }
      ]
    },
    {
      "cell_type": "markdown",
      "metadata": {
        "id": "ZbCHaY4f-w2C"
      },
      "source": [
        "#**O sexto DataFrame é: \"Área de Atuação\"**\n"
      ]
    },
    {
      "cell_type": "code",
      "metadata": {
        "id": "nyCndgLA-3hB"
      },
      "source": [
        "dados6 = pd.read_csv(\"Dashboard Alumni USP_Área de Atuação_Tabela dinâmica.csv\")"
      ],
      "execution_count": 98,
      "outputs": []
    },
    {
      "cell_type": "code",
      "metadata": {
        "id": "7KO9VAoc-3lh",
        "colab": {
          "base_uri": "https://localhost:8080/",
          "height": 1000
        },
        "outputId": "6018a0b2-3ebd-4692-af7a-21ce5854c413"
      },
      "source": [
        "dados6"
      ],
      "execution_count": 99,
      "outputs": [
        {
          "output_type": "execute_result",
          "data": {
            "text/html": [
              "<div>\n",
              "<style scoped>\n",
              "    .dataframe tbody tr th:only-of-type {\n",
              "        vertical-align: middle;\n",
              "    }\n",
              "\n",
              "    .dataframe tbody tr th {\n",
              "        vertical-align: top;\n",
              "    }\n",
              "\n",
              "    .dataframe thead th {\n",
              "        text-align: right;\n",
              "    }\n",
              "</style>\n",
              "<table border=\"1\" class=\"dataframe\">\n",
              "  <thead>\n",
              "    <tr style=\"text-align: right;\">\n",
              "      <th></th>\n",
              "      <th>prof_field</th>\n",
              "      <th>Y</th>\n",
              "      <th>Record Count</th>\n",
              "    </tr>\n",
              "  </thead>\n",
              "  <tbody>\n",
              "    <tr>\n",
              "      <th>0</th>\n",
              "      <td>na mesma área de todas minhas formações na USP</td>\n",
              "      <td>2019</td>\n",
              "      <td>210</td>\n",
              "    </tr>\n",
              "    <tr>\n",
              "      <th>1</th>\n",
              "      <td>na mesma área de todas minhas formações na USP</td>\n",
              "      <td>2018</td>\n",
              "      <td>261</td>\n",
              "    </tr>\n",
              "    <tr>\n",
              "      <th>2</th>\n",
              "      <td>na mesma área da minha Graduação na USP</td>\n",
              "      <td>2017</td>\n",
              "      <td>5</td>\n",
              "    </tr>\n",
              "    <tr>\n",
              "      <th>3</th>\n",
              "      <td>na mesma área de todas minhas formações na USP</td>\n",
              "      <td>2016</td>\n",
              "      <td>49</td>\n",
              "    </tr>\n",
              "    <tr>\n",
              "      <th>4</th>\n",
              "      <td>-</td>\n",
              "      <td>2017</td>\n",
              "      <td>207</td>\n",
              "    </tr>\n",
              "    <tr>\n",
              "      <th>5</th>\n",
              "      <td>em outra área</td>\n",
              "      <td>2020</td>\n",
              "      <td>16</td>\n",
              "    </tr>\n",
              "    <tr>\n",
              "      <th>6</th>\n",
              "      <td>na mesma área da minha Pós-Graduação na USP</td>\n",
              "      <td>2017</td>\n",
              "      <td>17</td>\n",
              "    </tr>\n",
              "    <tr>\n",
              "      <th>7</th>\n",
              "      <td>-</td>\n",
              "      <td>2016</td>\n",
              "      <td>39</td>\n",
              "    </tr>\n",
              "    <tr>\n",
              "      <th>8</th>\n",
              "      <td>em outra área</td>\n",
              "      <td>2018</td>\n",
              "      <td>17</td>\n",
              "    </tr>\n",
              "    <tr>\n",
              "      <th>9</th>\n",
              "      <td>na mesma área de todas minhas formações na USP</td>\n",
              "      <td>2017</td>\n",
              "      <td>83</td>\n",
              "    </tr>\n",
              "    <tr>\n",
              "      <th>10</th>\n",
              "      <td>na mesma área de todas minhas formações na USP</td>\n",
              "      <td>2020</td>\n",
              "      <td>164</td>\n",
              "    </tr>\n",
              "    <tr>\n",
              "      <th>11</th>\n",
              "      <td>na mesma área da minha Pós-Graduação na USP</td>\n",
              "      <td>2020</td>\n",
              "      <td>96</td>\n",
              "    </tr>\n",
              "    <tr>\n",
              "      <th>12</th>\n",
              "      <td>na mesma área da minha Pós-Graduação na USP</td>\n",
              "      <td>2021</td>\n",
              "      <td>47</td>\n",
              "    </tr>\n",
              "    <tr>\n",
              "      <th>13</th>\n",
              "      <td>não atuo profissionalmente</td>\n",
              "      <td>2019</td>\n",
              "      <td>28</td>\n",
              "    </tr>\n",
              "    <tr>\n",
              "      <th>14</th>\n",
              "      <td>na mesma área da minha Graduação na USP</td>\n",
              "      <td>2021</td>\n",
              "      <td>165</td>\n",
              "    </tr>\n",
              "    <tr>\n",
              "      <th>15</th>\n",
              "      <td>não atuo profissionalmente</td>\n",
              "      <td>2020</td>\n",
              "      <td>32</td>\n",
              "    </tr>\n",
              "    <tr>\n",
              "      <th>16</th>\n",
              "      <td>em outra área</td>\n",
              "      <td>2019</td>\n",
              "      <td>12</td>\n",
              "    </tr>\n",
              "    <tr>\n",
              "      <th>17</th>\n",
              "      <td>na mesma área da minha Pós-Graduação na USP</td>\n",
              "      <td>2018</td>\n",
              "      <td>6</td>\n",
              "    </tr>\n",
              "    <tr>\n",
              "      <th>18</th>\n",
              "      <td>não atuo profissionalmente</td>\n",
              "      <td>2018</td>\n",
              "      <td>16</td>\n",
              "    </tr>\n",
              "    <tr>\n",
              "      <th>19</th>\n",
              "      <td>na mesma área da minha Graduação na USP</td>\n",
              "      <td>2020</td>\n",
              "      <td>71</td>\n",
              "    </tr>\n",
              "    <tr>\n",
              "      <th>20</th>\n",
              "      <td>na mesma área de todas minhas formações na USP</td>\n",
              "      <td>2021</td>\n",
              "      <td>24</td>\n",
              "    </tr>\n",
              "    <tr>\n",
              "      <th>21</th>\n",
              "      <td>na mesma área da minha Pós-Graduação na USP</td>\n",
              "      <td>2019</td>\n",
              "      <td>8</td>\n",
              "    </tr>\n",
              "    <tr>\n",
              "      <th>22</th>\n",
              "      <td>na mesma área da minha Graduação na USP</td>\n",
              "      <td>2016</td>\n",
              "      <td>6</td>\n",
              "    </tr>\n",
              "    <tr>\n",
              "      <th>23</th>\n",
              "      <td>em outra área</td>\n",
              "      <td>2021</td>\n",
              "      <td>15</td>\n",
              "    </tr>\n",
              "    <tr>\n",
              "      <th>24</th>\n",
              "      <td>em outra área</td>\n",
              "      <td>2016</td>\n",
              "      <td>1</td>\n",
              "    </tr>\n",
              "    <tr>\n",
              "      <th>25</th>\n",
              "      <td>na mesma área da minha Pós-Graduação na USP</td>\n",
              "      <td>2016</td>\n",
              "      <td>7</td>\n",
              "    </tr>\n",
              "    <tr>\n",
              "      <th>26</th>\n",
              "      <td>-</td>\n",
              "      <td>2020</td>\n",
              "      <td>6</td>\n",
              "    </tr>\n",
              "    <tr>\n",
              "      <th>27</th>\n",
              "      <td>em outra área</td>\n",
              "      <td>2017</td>\n",
              "      <td>8</td>\n",
              "    </tr>\n",
              "    <tr>\n",
              "      <th>28</th>\n",
              "      <td>na mesma área da minha Graduação na USP</td>\n",
              "      <td>2019</td>\n",
              "      <td>7</td>\n",
              "    </tr>\n",
              "    <tr>\n",
              "      <th>29</th>\n",
              "      <td>não atuo profissionalmente</td>\n",
              "      <td>2017</td>\n",
              "      <td>2</td>\n",
              "    </tr>\n",
              "    <tr>\n",
              "      <th>30</th>\n",
              "      <td>na mesma área da minha Graduação na USP</td>\n",
              "      <td>2018</td>\n",
              "      <td>4</td>\n",
              "    </tr>\n",
              "    <tr>\n",
              "      <th>31</th>\n",
              "      <td>-</td>\n",
              "      <td>2018</td>\n",
              "      <td>1</td>\n",
              "    </tr>\n",
              "    <tr>\n",
              "      <th>32</th>\n",
              "      <td>não atuo profissionalmente</td>\n",
              "      <td>2016</td>\n",
              "      <td>1</td>\n",
              "    </tr>\n",
              "    <tr>\n",
              "      <th>33</th>\n",
              "      <td>não atuo profissionalmente</td>\n",
              "      <td>2021</td>\n",
              "      <td>8</td>\n",
              "    </tr>\n",
              "    <tr>\n",
              "      <th>34</th>\n",
              "      <td>-</td>\n",
              "      <td>2019</td>\n",
              "      <td>3</td>\n",
              "    </tr>\n",
              "  </tbody>\n",
              "</table>\n",
              "</div>"
            ],
            "text/plain": [
              "                                        prof_field     Y  Record Count\n",
              "0   na mesma área de todas minhas formações na USP  2019           210\n",
              "1   na mesma área de todas minhas formações na USP  2018           261\n",
              "2          na mesma área da minha Graduação na USP  2017             5\n",
              "3   na mesma área de todas minhas formações na USP  2016            49\n",
              "4                                                -  2017           207\n",
              "5                                    em outra área  2020            16\n",
              "6      na mesma área da minha Pós-Graduação na USP  2017            17\n",
              "7                                                -  2016            39\n",
              "8                                    em outra área  2018            17\n",
              "9   na mesma área de todas minhas formações na USP  2017            83\n",
              "10  na mesma área de todas minhas formações na USP  2020           164\n",
              "11     na mesma área da minha Pós-Graduação na USP  2020            96\n",
              "12     na mesma área da minha Pós-Graduação na USP  2021            47\n",
              "13                      não atuo profissionalmente  2019            28\n",
              "14         na mesma área da minha Graduação na USP  2021           165\n",
              "15                      não atuo profissionalmente  2020            32\n",
              "16                                   em outra área  2019            12\n",
              "17     na mesma área da minha Pós-Graduação na USP  2018             6\n",
              "18                      não atuo profissionalmente  2018            16\n",
              "19         na mesma área da minha Graduação na USP  2020            71\n",
              "20  na mesma área de todas minhas formações na USP  2021            24\n",
              "21     na mesma área da minha Pós-Graduação na USP  2019             8\n",
              "22         na mesma área da minha Graduação na USP  2016             6\n",
              "23                                   em outra área  2021            15\n",
              "24                                   em outra área  2016             1\n",
              "25     na mesma área da minha Pós-Graduação na USP  2016             7\n",
              "26                                               -  2020             6\n",
              "27                                   em outra área  2017             8\n",
              "28         na mesma área da minha Graduação na USP  2019             7\n",
              "29                      não atuo profissionalmente  2017             2\n",
              "30         na mesma área da minha Graduação na USP  2018             4\n",
              "31                                               -  2018             1\n",
              "32                      não atuo profissionalmente  2016             1\n",
              "33                      não atuo profissionalmente  2021             8\n",
              "34                                               -  2019             3"
            ]
          },
          "metadata": {},
          "execution_count": 99
        }
      ]
    },
    {
      "cell_type": "markdown",
      "metadata": {
        "id": "coaKUYeVtr1Q"
      },
      "source": [
        "Total de respostas:"
      ]
    },
    {
      "cell_type": "code",
      "metadata": {
        "colab": {
          "base_uri": "https://localhost:8080/"
        },
        "id": "kOjaKaBdklL3",
        "outputId": "36135d2b-071a-45f8-88b6-12477480f961"
      },
      "source": [
        "dados6['Record Count'].sum()\n"
      ],
      "execution_count": 100,
      "outputs": [
        {
          "output_type": "execute_result",
          "data": {
            "text/plain": [
              "1642"
            ]
          },
          "metadata": {},
          "execution_count": 100
        }
      ]
    },
    {
      "cell_type": "code",
      "metadata": {
        "colab": {
          "base_uri": "https://localhost:8080/",
          "height": 1000
        },
        "id": "9qkKbnspvQXW",
        "outputId": "97b54eab-81f0-49bb-da77-0720ba8bd3aa"
      },
      "source": [
        "area_atuacao = pd.DataFrame()\n",
        "area_atuacao['unidades'] = dados6['prof_field']\n",
        "area_atuacao['total'] = dados6['Record Count']\n",
        "area_atuacao = area_atuacao.sort_values(['total'],ascending=False)\n",
        "area_atuacao"
      ],
      "execution_count": 101,
      "outputs": [
        {
          "output_type": "execute_result",
          "data": {
            "text/html": [
              "<div>\n",
              "<style scoped>\n",
              "    .dataframe tbody tr th:only-of-type {\n",
              "        vertical-align: middle;\n",
              "    }\n",
              "\n",
              "    .dataframe tbody tr th {\n",
              "        vertical-align: top;\n",
              "    }\n",
              "\n",
              "    .dataframe thead th {\n",
              "        text-align: right;\n",
              "    }\n",
              "</style>\n",
              "<table border=\"1\" class=\"dataframe\">\n",
              "  <thead>\n",
              "    <tr style=\"text-align: right;\">\n",
              "      <th></th>\n",
              "      <th>unidades</th>\n",
              "      <th>total</th>\n",
              "    </tr>\n",
              "  </thead>\n",
              "  <tbody>\n",
              "    <tr>\n",
              "      <th>1</th>\n",
              "      <td>na mesma área de todas minhas formações na USP</td>\n",
              "      <td>261</td>\n",
              "    </tr>\n",
              "    <tr>\n",
              "      <th>0</th>\n",
              "      <td>na mesma área de todas minhas formações na USP</td>\n",
              "      <td>210</td>\n",
              "    </tr>\n",
              "    <tr>\n",
              "      <th>4</th>\n",
              "      <td>-</td>\n",
              "      <td>207</td>\n",
              "    </tr>\n",
              "    <tr>\n",
              "      <th>14</th>\n",
              "      <td>na mesma área da minha Graduação na USP</td>\n",
              "      <td>165</td>\n",
              "    </tr>\n",
              "    <tr>\n",
              "      <th>10</th>\n",
              "      <td>na mesma área de todas minhas formações na USP</td>\n",
              "      <td>164</td>\n",
              "    </tr>\n",
              "    <tr>\n",
              "      <th>11</th>\n",
              "      <td>na mesma área da minha Pós-Graduação na USP</td>\n",
              "      <td>96</td>\n",
              "    </tr>\n",
              "    <tr>\n",
              "      <th>9</th>\n",
              "      <td>na mesma área de todas minhas formações na USP</td>\n",
              "      <td>83</td>\n",
              "    </tr>\n",
              "    <tr>\n",
              "      <th>19</th>\n",
              "      <td>na mesma área da minha Graduação na USP</td>\n",
              "      <td>71</td>\n",
              "    </tr>\n",
              "    <tr>\n",
              "      <th>3</th>\n",
              "      <td>na mesma área de todas minhas formações na USP</td>\n",
              "      <td>49</td>\n",
              "    </tr>\n",
              "    <tr>\n",
              "      <th>12</th>\n",
              "      <td>na mesma área da minha Pós-Graduação na USP</td>\n",
              "      <td>47</td>\n",
              "    </tr>\n",
              "    <tr>\n",
              "      <th>7</th>\n",
              "      <td>-</td>\n",
              "      <td>39</td>\n",
              "    </tr>\n",
              "    <tr>\n",
              "      <th>15</th>\n",
              "      <td>não atuo profissionalmente</td>\n",
              "      <td>32</td>\n",
              "    </tr>\n",
              "    <tr>\n",
              "      <th>13</th>\n",
              "      <td>não atuo profissionalmente</td>\n",
              "      <td>28</td>\n",
              "    </tr>\n",
              "    <tr>\n",
              "      <th>20</th>\n",
              "      <td>na mesma área de todas minhas formações na USP</td>\n",
              "      <td>24</td>\n",
              "    </tr>\n",
              "    <tr>\n",
              "      <th>8</th>\n",
              "      <td>em outra área</td>\n",
              "      <td>17</td>\n",
              "    </tr>\n",
              "    <tr>\n",
              "      <th>6</th>\n",
              "      <td>na mesma área da minha Pós-Graduação na USP</td>\n",
              "      <td>17</td>\n",
              "    </tr>\n",
              "    <tr>\n",
              "      <th>5</th>\n",
              "      <td>em outra área</td>\n",
              "      <td>16</td>\n",
              "    </tr>\n",
              "    <tr>\n",
              "      <th>18</th>\n",
              "      <td>não atuo profissionalmente</td>\n",
              "      <td>16</td>\n",
              "    </tr>\n",
              "    <tr>\n",
              "      <th>23</th>\n",
              "      <td>em outra área</td>\n",
              "      <td>15</td>\n",
              "    </tr>\n",
              "    <tr>\n",
              "      <th>16</th>\n",
              "      <td>em outra área</td>\n",
              "      <td>12</td>\n",
              "    </tr>\n",
              "    <tr>\n",
              "      <th>33</th>\n",
              "      <td>não atuo profissionalmente</td>\n",
              "      <td>8</td>\n",
              "    </tr>\n",
              "    <tr>\n",
              "      <th>21</th>\n",
              "      <td>na mesma área da minha Pós-Graduação na USP</td>\n",
              "      <td>8</td>\n",
              "    </tr>\n",
              "    <tr>\n",
              "      <th>27</th>\n",
              "      <td>em outra área</td>\n",
              "      <td>8</td>\n",
              "    </tr>\n",
              "    <tr>\n",
              "      <th>28</th>\n",
              "      <td>na mesma área da minha Graduação na USP</td>\n",
              "      <td>7</td>\n",
              "    </tr>\n",
              "    <tr>\n",
              "      <th>25</th>\n",
              "      <td>na mesma área da minha Pós-Graduação na USP</td>\n",
              "      <td>7</td>\n",
              "    </tr>\n",
              "    <tr>\n",
              "      <th>26</th>\n",
              "      <td>-</td>\n",
              "      <td>6</td>\n",
              "    </tr>\n",
              "    <tr>\n",
              "      <th>17</th>\n",
              "      <td>na mesma área da minha Pós-Graduação na USP</td>\n",
              "      <td>6</td>\n",
              "    </tr>\n",
              "    <tr>\n",
              "      <th>22</th>\n",
              "      <td>na mesma área da minha Graduação na USP</td>\n",
              "      <td>6</td>\n",
              "    </tr>\n",
              "    <tr>\n",
              "      <th>2</th>\n",
              "      <td>na mesma área da minha Graduação na USP</td>\n",
              "      <td>5</td>\n",
              "    </tr>\n",
              "    <tr>\n",
              "      <th>30</th>\n",
              "      <td>na mesma área da minha Graduação na USP</td>\n",
              "      <td>4</td>\n",
              "    </tr>\n",
              "    <tr>\n",
              "      <th>34</th>\n",
              "      <td>-</td>\n",
              "      <td>3</td>\n",
              "    </tr>\n",
              "    <tr>\n",
              "      <th>29</th>\n",
              "      <td>não atuo profissionalmente</td>\n",
              "      <td>2</td>\n",
              "    </tr>\n",
              "    <tr>\n",
              "      <th>24</th>\n",
              "      <td>em outra área</td>\n",
              "      <td>1</td>\n",
              "    </tr>\n",
              "    <tr>\n",
              "      <th>31</th>\n",
              "      <td>-</td>\n",
              "      <td>1</td>\n",
              "    </tr>\n",
              "    <tr>\n",
              "      <th>32</th>\n",
              "      <td>não atuo profissionalmente</td>\n",
              "      <td>1</td>\n",
              "    </tr>\n",
              "  </tbody>\n",
              "</table>\n",
              "</div>"
            ],
            "text/plain": [
              "                                          unidades  total\n",
              "1   na mesma área de todas minhas formações na USP    261\n",
              "0   na mesma área de todas minhas formações na USP    210\n",
              "4                                                -    207\n",
              "14         na mesma área da minha Graduação na USP    165\n",
              "10  na mesma área de todas minhas formações na USP    164\n",
              "11     na mesma área da minha Pós-Graduação na USP     96\n",
              "9   na mesma área de todas minhas formações na USP     83\n",
              "19         na mesma área da minha Graduação na USP     71\n",
              "3   na mesma área de todas minhas formações na USP     49\n",
              "12     na mesma área da minha Pós-Graduação na USP     47\n",
              "7                                                -     39\n",
              "15                      não atuo profissionalmente     32\n",
              "13                      não atuo profissionalmente     28\n",
              "20  na mesma área de todas minhas formações na USP     24\n",
              "8                                    em outra área     17\n",
              "6      na mesma área da minha Pós-Graduação na USP     17\n",
              "5                                    em outra área     16\n",
              "18                      não atuo profissionalmente     16\n",
              "23                                   em outra área     15\n",
              "16                                   em outra área     12\n",
              "33                      não atuo profissionalmente      8\n",
              "21     na mesma área da minha Pós-Graduação na USP      8\n",
              "27                                   em outra área      8\n",
              "28         na mesma área da minha Graduação na USP      7\n",
              "25     na mesma área da minha Pós-Graduação na USP      7\n",
              "26                                               -      6\n",
              "17     na mesma área da minha Pós-Graduação na USP      6\n",
              "22         na mesma área da minha Graduação na USP      6\n",
              "2          na mesma área da minha Graduação na USP      5\n",
              "30         na mesma área da minha Graduação na USP      4\n",
              "34                                               -      3\n",
              "29                      não atuo profissionalmente      2\n",
              "24                                   em outra área      1\n",
              "31                                               -      1\n",
              "32                      não atuo profissionalmente      1"
            ]
          },
          "metadata": {},
          "execution_count": 101
        }
      ]
    },
    {
      "cell_type": "code",
      "metadata": {
        "id": "21mCr7iI-3oq",
        "colab": {
          "base_uri": "https://localhost:8080/"
        },
        "outputId": "3d56776d-e118-42f6-985b-cc8a05f72e14"
      },
      "source": [
        "area_atuacao = area_atuacao.groupby(['unidades'])['total'].sum().sort_values(ascending=False)\n",
        "area_atuacao "
      ],
      "execution_count": 102,
      "outputs": [
        {
          "output_type": "execute_result",
          "data": {
            "text/plain": [
              "unidades\n",
              "na mesma área de todas minhas formações na USP    791\n",
              "na mesma área da minha Graduação na USP           258\n",
              "-                                                 256\n",
              "na mesma área da minha Pós-Graduação na USP       181\n",
              "não atuo profissionalmente                         87\n",
              "em outra área                                      69\n",
              "Name: total, dtype: int64"
            ]
          },
          "metadata": {},
          "execution_count": 102
        }
      ]
    },
    {
      "cell_type": "code",
      "metadata": {
        "id": "aopztyZQ3srQ"
      },
      "source": [
        "area_atuacao = pd.DataFrame(area_atuacao)"
      ],
      "execution_count": 103,
      "outputs": []
    },
    {
      "cell_type": "code",
      "metadata": {
        "id": "dB6c_hXRyAeE"
      },
      "source": [
        "area_atu = pd.DataFrame() \n",
        "area_atu = area_atu.append(area_atuacao.loc[:])"
      ],
      "execution_count": 104,
      "outputs": []
    },
    {
      "cell_type": "code",
      "metadata": {
        "id": "Lc6l5Hw8uMNH"
      },
      "source": [
        "area_atu.to_excel('area_atuacao.xlsx', sheet_name='Sheet1')"
      ],
      "execution_count": 105,
      "outputs": []
    },
    {
      "cell_type": "code",
      "metadata": {
        "id": "ibgSUJzu3Y0p"
      },
      "source": [
        "area_atu = pd.read_excel('area_atuacao.xlsx')  "
      ],
      "execution_count": 106,
      "outputs": []
    },
    {
      "cell_type": "code",
      "source": [
        "area_atu"
      ],
      "metadata": {
        "colab": {
          "base_uri": "https://localhost:8080/",
          "height": 238
        },
        "id": "UdAjHRFrjsEf",
        "outputId": "b84affa1-718f-4fea-92ed-a17a9ce46b67"
      },
      "execution_count": 107,
      "outputs": [
        {
          "output_type": "execute_result",
          "data": {
            "text/html": [
              "<div>\n",
              "<style scoped>\n",
              "    .dataframe tbody tr th:only-of-type {\n",
              "        vertical-align: middle;\n",
              "    }\n",
              "\n",
              "    .dataframe tbody tr th {\n",
              "        vertical-align: top;\n",
              "    }\n",
              "\n",
              "    .dataframe thead th {\n",
              "        text-align: right;\n",
              "    }\n",
              "</style>\n",
              "<table border=\"1\" class=\"dataframe\">\n",
              "  <thead>\n",
              "    <tr style=\"text-align: right;\">\n",
              "      <th></th>\n",
              "      <th>unidades</th>\n",
              "      <th>total</th>\n",
              "    </tr>\n",
              "  </thead>\n",
              "  <tbody>\n",
              "    <tr>\n",
              "      <th>0</th>\n",
              "      <td>na mesma área de todas minhas formações na USP</td>\n",
              "      <td>791</td>\n",
              "    </tr>\n",
              "    <tr>\n",
              "      <th>1</th>\n",
              "      <td>na mesma área da minha Graduação na USP</td>\n",
              "      <td>258</td>\n",
              "    </tr>\n",
              "    <tr>\n",
              "      <th>2</th>\n",
              "      <td>-</td>\n",
              "      <td>256</td>\n",
              "    </tr>\n",
              "    <tr>\n",
              "      <th>3</th>\n",
              "      <td>na mesma área da minha Pós-Graduação na USP</td>\n",
              "      <td>181</td>\n",
              "    </tr>\n",
              "    <tr>\n",
              "      <th>4</th>\n",
              "      <td>não atuo profissionalmente</td>\n",
              "      <td>87</td>\n",
              "    </tr>\n",
              "    <tr>\n",
              "      <th>5</th>\n",
              "      <td>em outra área</td>\n",
              "      <td>69</td>\n",
              "    </tr>\n",
              "  </tbody>\n",
              "</table>\n",
              "</div>"
            ],
            "text/plain": [
              "                                         unidades  total\n",
              "0  na mesma área de todas minhas formações na USP    791\n",
              "1         na mesma área da minha Graduação na USP    258\n",
              "2                                               -    256\n",
              "3     na mesma área da minha Pós-Graduação na USP    181\n",
              "4                      não atuo profissionalmente     87\n",
              "5                                   em outra área     69"
            ]
          },
          "metadata": {},
          "execution_count": 107
        }
      ]
    },
    {
      "cell_type": "code",
      "metadata": {
        "colab": {
          "base_uri": "https://localhost:8080/",
          "height": 480
        },
        "id": "_x5aEAkbt7fB",
        "outputId": "fdcf42de-3a12-47eb-ca65-a9e38e2c1ad9"
      },
      "source": [
        "sns.set(font_scale = 1.24)\n",
        "g = sns.catplot(data= area_atu, y='unidades',x='total', kind=\"bar\")\n",
        "g.set(title = \"Área de Atuação - Inscritos Alumni\")"
      ],
      "execution_count": 108,
      "outputs": [
        {
          "output_type": "stream",
          "name": "stderr",
          "text": [
            "/usr/local/lib/python3.7/dist-packages/seaborn/axisgrid.py:88: UserWarning:\n",
            "\n",
            "Tight layout not applied. The left and right margins cannot be made large enough to accommodate all axes decorations. \n",
            "\n"
          ]
        },
        {
          "output_type": "execute_result",
          "data": {
            "text/plain": [
              "<seaborn.axisgrid.FacetGrid at 0x7f5a650f1a90>"
            ]
          },
          "metadata": {},
          "execution_count": 108
        },
        {
          "output_type": "display_data",
          "data": {
            "image/png": "[encoded data removed]",
            "text/plain": [
              "<Figure size 360x360 with 1 Axes>"
            ]
          },
          "metadata": {}
        }
      ]
    },
    {
      "cell_type": "markdown",
      "metadata": {
        "id": "XHXzTztXcOWD"
      },
      "source": [
        "#**O sétimo DataFrame é: \" Área de Atuação - por Instituição\"**\n",
        "\n",
        "Dashboard Alumni USP_Área de Atuação - Instituição_Tabela dinâmica"
      ]
    },
    {
      "cell_type": "code",
      "metadata": {
        "id": "4_mkMuX-cSOr"
      },
      "source": [
        "dados7 = pd.read_csv(\"Dashboard Alumni USP_Área de Atuação - Instituição_Tabela dinâmica.csv\")"
      ],
      "execution_count": 109,
      "outputs": []
    },
    {
      "cell_type": "code",
      "metadata": {
        "id": "iMgN8GJKcSRT",
        "colab": {
          "base_uri": "https://localhost:8080/",
          "height": 238
        },
        "outputId": "8c95bd3c-7c14-4a78-ee42-1d5f557a16f1"
      },
      "source": [
        "dados7"
      ],
      "execution_count": 110,
      "outputs": [
        {
          "output_type": "execute_result",
          "data": {
            "text/html": [
              "<div>\n",
              "<style scoped>\n",
              "    .dataframe tbody tr th:only-of-type {\n",
              "        vertical-align: middle;\n",
              "    }\n",
              "\n",
              "    .dataframe tbody tr th {\n",
              "        vertical-align: top;\n",
              "    }\n",
              "\n",
              "    .dataframe thead th {\n",
              "        text-align: right;\n",
              "    }\n",
              "</style>\n",
              "<table border=\"1\" class=\"dataframe\">\n",
              "  <thead>\n",
              "    <tr style=\"text-align: right;\">\n",
              "      <th></th>\n",
              "      <th>institution</th>\n",
              "      <th>prof_field</th>\n",
              "      <th>Record Count</th>\n",
              "    </tr>\n",
              "  </thead>\n",
              "  <tbody>\n",
              "    <tr>\n",
              "      <th>0</th>\n",
              "      <td>Faculdade de Odontologia</td>\n",
              "      <td>na mesma área de todas minhas formações na USP</td>\n",
              "      <td>791</td>\n",
              "    </tr>\n",
              "    <tr>\n",
              "      <th>1</th>\n",
              "      <td>Faculdade de Odontologia</td>\n",
              "      <td>na mesma área da minha Graduação na USP</td>\n",
              "      <td>258</td>\n",
              "    </tr>\n",
              "    <tr>\n",
              "      <th>2</th>\n",
              "      <td>Faculdade de Odontologia</td>\n",
              "      <td>-</td>\n",
              "      <td>256</td>\n",
              "    </tr>\n",
              "    <tr>\n",
              "      <th>3</th>\n",
              "      <td>Faculdade de Odontologia</td>\n",
              "      <td>em outra área</td>\n",
              "      <td>69</td>\n",
              "    </tr>\n",
              "    <tr>\n",
              "      <th>4</th>\n",
              "      <td>Faculdade de Odontologia</td>\n",
              "      <td>na mesma área da minha Pós-Graduação na USP</td>\n",
              "      <td>181</td>\n",
              "    </tr>\n",
              "    <tr>\n",
              "      <th>5</th>\n",
              "      <td>Faculdade de Odontologia</td>\n",
              "      <td>não atuo profissionalmente</td>\n",
              "      <td>87</td>\n",
              "    </tr>\n",
              "  </tbody>\n",
              "</table>\n",
              "</div>"
            ],
            "text/plain": [
              "                institution  ... Record Count\n",
              "0  Faculdade de Odontologia  ...          791\n",
              "1  Faculdade de Odontologia  ...          258\n",
              "2  Faculdade de Odontologia  ...          256\n",
              "3  Faculdade de Odontologia  ...           69\n",
              "4  Faculdade de Odontologia  ...          181\n",
              "5  Faculdade de Odontologia  ...           87\n",
              "\n",
              "[6 rows x 3 columns]"
            ]
          },
          "metadata": {},
          "execution_count": 110
        }
      ]
    },
    {
      "cell_type": "code",
      "metadata": {
        "id": "Jm__Hgi7cSUT",
        "colab": {
          "base_uri": "https://localhost:8080/"
        },
        "outputId": "dabc4aa2-76df-43cc-b935-afa9ce6504ed"
      },
      "source": [
        "dados7['prof_field'].unique()"
      ],
      "execution_count": 111,
      "outputs": [
        {
          "output_type": "execute_result",
          "data": {
            "text/plain": [
              "array(['na mesma área de todas minhas formações na USP',\n",
              "       'na mesma área da minha Graduação na USP', '-', 'em outra área',\n",
              "       'na mesma área da minha Pós-Graduação na USP',\n",
              "       'não atuo profissionalmente'], dtype=object)"
            ]
          },
          "metadata": {},
          "execution_count": 111
        }
      ]
    },
    {
      "cell_type": "code",
      "metadata": {
        "id": "dNSKyv25w77n"
      },
      "source": [
        "mask = dados7['institution'].value_counts().head().index"
      ],
      "execution_count": null,
      "outputs": []
    },
    {
      "cell_type": "code",
      "metadata": {
        "colab": {
          "base_uri": "https://localhost:8080/"
        },
        "id": "Gax6Xv5OpjWk",
        "outputId": "0aeffa82-6a80-4f90-a8ae-881f75d5c706"
      },
      "source": [
        "area_atuacao_intuicao = dados7.groupby(['institution'])['Record Count'].sum().sort_values(ascending=False)\n",
        "area_atuacao_intuicao "
      ],
      "execution_count": 126,
      "outputs": [
        {
          "output_type": "execute_result",
          "data": {
            "text/plain": [
              "institution\n",
              "Faculdade de Odontologia    1642\n",
              "Name: Record Count, dtype: int64"
            ]
          },
          "metadata": {},
          "execution_count": 126
        }
      ]
    },
    {
      "cell_type": "code",
      "metadata": {
        "colab": {
          "base_uri": "https://localhost:8080/",
          "height": 269
        },
        "id": "RhMDYxk1tPrH",
        "outputId": "13aaf9be-bc56-4bee-e8f3-ce9e58c67ac1"
      },
      "source": [
        "area_atuacao_intuicao_field = pd.DataFrame()\n",
        "area_atuacao_intuicao_field['total'] = dados7.groupby(['institution','prof_field'])['Record Count'].sum()\n",
        "area_atuacao_intuicao_field"
      ],
      "execution_count": 127,
      "outputs": [
        {
          "output_type": "execute_result",
          "data": {
            "text/html": [
              "<div>\n",
              "<style scoped>\n",
              "    .dataframe tbody tr th:only-of-type {\n",
              "        vertical-align: middle;\n",
              "    }\n",
              "\n",
              "    .dataframe tbody tr th {\n",
              "        vertical-align: top;\n",
              "    }\n",
              "\n",
              "    .dataframe thead th {\n",
              "        text-align: right;\n",
              "    }\n",
              "</style>\n",
              "<table border=\"1\" class=\"dataframe\">\n",
              "  <thead>\n",
              "    <tr style=\"text-align: right;\">\n",
              "      <th></th>\n",
              "      <th></th>\n",
              "      <th>total</th>\n",
              "    </tr>\n",
              "    <tr>\n",
              "      <th>institution</th>\n",
              "      <th>prof_field</th>\n",
              "      <th></th>\n",
              "    </tr>\n",
              "  </thead>\n",
              "  <tbody>\n",
              "    <tr>\n",
              "      <th rowspan=\"6\" valign=\"top\">Faculdade de Odontologia</th>\n",
              "      <th>-</th>\n",
              "      <td>256</td>\n",
              "    </tr>\n",
              "    <tr>\n",
              "      <th>em outra área</th>\n",
              "      <td>69</td>\n",
              "    </tr>\n",
              "    <tr>\n",
              "      <th>na mesma área da minha Graduação na USP</th>\n",
              "      <td>258</td>\n",
              "    </tr>\n",
              "    <tr>\n",
              "      <th>na mesma área da minha Pós-Graduação na USP</th>\n",
              "      <td>181</td>\n",
              "    </tr>\n",
              "    <tr>\n",
              "      <th>na mesma área de todas minhas formações na USP</th>\n",
              "      <td>791</td>\n",
              "    </tr>\n",
              "    <tr>\n",
              "      <th>não atuo profissionalmente</th>\n",
              "      <td>87</td>\n",
              "    </tr>\n",
              "  </tbody>\n",
              "</table>\n",
              "</div>"
            ],
            "text/plain": [
              "                                                                         total\n",
              "institution              prof_field                                           \n",
              "Faculdade de Odontologia -                                                 256\n",
              "                         em outra área                                      69\n",
              "                         na mesma área da minha Graduação na USP           258\n",
              "                         na mesma área da minha Pós-Graduação na USP       181\n",
              "                         na mesma área de todas minhas formações na USP    791\n",
              "                         não atuo profissionalmente                         87"
            ]
          },
          "metadata": {},
          "execution_count": 127
        }
      ]
    },
    {
      "cell_type": "markdown",
      "metadata": {
        "id": "MeV5GprlrS_C"
      },
      "source": [
        "Confere!"
      ]
    },
    {
      "cell_type": "code",
      "metadata": {
        "id": "cJecLm7KrUx4",
        "colab": {
          "base_uri": "https://localhost:8080/"
        },
        "outputId": "ab625237-bdad-425d-89db-29daa32e6023"
      },
      "source": [
        "area_atuacao_2 = dados7.groupby(['prof_field'])['Record Count'].sum().sort_values(ascending=False)\n",
        "area_atuacao_2"
      ],
      "execution_count": 128,
      "outputs": [
        {
          "output_type": "execute_result",
          "data": {
            "text/plain": [
              "prof_field\n",
              "na mesma área de todas minhas formações na USP    791\n",
              "na mesma área da minha Graduação na USP           258\n",
              "-                                                 256\n",
              "na mesma área da minha Pós-Graduação na USP       181\n",
              "não atuo profissionalmente                         87\n",
              "em outra área                                      69\n",
              "Name: Record Count, dtype: int64"
            ]
          },
          "metadata": {},
          "execution_count": 128
        }
      ]
    },
    {
      "cell_type": "code",
      "metadata": {
        "colab": {
          "base_uri": "https://localhost:8080/",
          "height": 508
        },
        "id": "gLR_sOcmvFas",
        "outputId": "d3567a79-0e9c-4b6d-d65e-ac63014f3466"
      },
      "source": [
        "fig = plt.figure(figsize=(12, 8))\n",
        "area_atuacao_2.plot(kind='pie', autopct='%.2f%%', startangle=0,textprops={'fontsize': 16})\n",
        "plt.axis('equal') "
      ],
      "execution_count": 129,
      "outputs": [
        {
          "output_type": "execute_result",
          "data": {
            "text/plain": [
              "(-1.1129786013550165,\n",
              " 1.1006180297154102,\n",
              " -1.1135679809131058,\n",
              " 1.1142580502970656)"
            ]
          },
          "metadata": {},
          "execution_count": 129
        },
        {
          "output_type": "display_data",
          "data": {
            "image/png": "[encoded data removed]",
            "text/plain": [
              "<Figure size 864x576 with 1 Axes>"
            ]
          },
          "metadata": {}
        }
      ]
    },
    {
      "cell_type": "markdown",
      "metadata": {
        "id": "DSe0YYIAs5Y9"
      },
      "source": [
        "#**O oitavo DataFrame é: \" Área de Atuação - Empreendedores\"**"
      ]
    },
    {
      "cell_type": "code",
      "metadata": {
        "id": "a6EaIP-vtBP8",
        "colab": {
          "base_uri": "https://localhost:8080/",
          "height": 112
        },
        "outputId": "408f0f71-7003-49c6-c811-3f2d833ed38c"
      },
      "source": [
        "dados8 = pd.read_csv(\"Dashboard Alumni USP_Empreendedores_Tabela dinâmica.csv\")\n",
        "dados8"
      ],
      "execution_count": 146,
      "outputs": [
        {
          "output_type": "execute_result",
          "data": {
            "text/html": [
              "<div>\n",
              "<style scoped>\n",
              "    .dataframe tbody tr th:only-of-type {\n",
              "        vertical-align: middle;\n",
              "    }\n",
              "\n",
              "    .dataframe tbody tr th {\n",
              "        vertical-align: top;\n",
              "    }\n",
              "\n",
              "    .dataframe thead th {\n",
              "        text-align: right;\n",
              "    }\n",
              "</style>\n",
              "<table border=\"1\" class=\"dataframe\">\n",
              "  <thead>\n",
              "    <tr style=\"text-align: right;\">\n",
              "      <th></th>\n",
              "      <th>institution</th>\n",
              "      <th>genre</th>\n",
              "      <th>Record Count</th>\n",
              "    </tr>\n",
              "  </thead>\n",
              "  <tbody>\n",
              "    <tr>\n",
              "      <th>0</th>\n",
              "      <td>Faculdade de Odontologia</td>\n",
              "      <td>Male</td>\n",
              "      <td>18</td>\n",
              "    </tr>\n",
              "    <tr>\n",
              "      <th>1</th>\n",
              "      <td>Faculdade de Odontologia</td>\n",
              "      <td>Female</td>\n",
              "      <td>27</td>\n",
              "    </tr>\n",
              "  </tbody>\n",
              "</table>\n",
              "</div>"
            ],
            "text/plain": [
              "                institution   genre  Record Count\n",
              "0  Faculdade de Odontologia    Male            18\n",
              "1  Faculdade de Odontologia  Female            27"
            ]
          },
          "metadata": {},
          "execution_count": 146
        }
      ]
    },
    {
      "cell_type": "code",
      "metadata": {
        "id": "p7oKw5optBS7"
      },
      "source": [
        "empreenda_genre = dados8.groupby(by=\"genre\")['Record Count'].sum().sort_values(ascending=False)"
      ],
      "execution_count": 147,
      "outputs": []
    },
    {
      "cell_type": "code",
      "metadata": {
        "colab": {
          "base_uri": "https://localhost:8080/"
        },
        "id": "5qrFuNlDmgAQ",
        "outputId": "24726227-350e-49e7-875e-ed6b4d4ada38"
      },
      "source": [
        "empreenda_genre"
      ],
      "execution_count": 148,
      "outputs": [
        {
          "output_type": "execute_result",
          "data": {
            "text/plain": [
              "genre\n",
              "Female    27\n",
              "Male      18\n",
              "Name: Record Count, dtype: int64"
            ]
          },
          "metadata": {},
          "execution_count": 148
        }
      ]
    },
    {
      "cell_type": "code",
      "metadata": {
        "colab": {
          "base_uri": "https://localhost:8080/",
          "height": 535
        },
        "id": "2JxSwzC0mrY2",
        "outputId": "9fbe73d6-4544-4515-89b0-399495549312"
      },
      "source": [
        "fig = plt.figure(figsize=(12, 8))\n",
        "empreenda_genre.plot(kind='pie', autopct='%.2f%%', startangle=90,textprops={'fontsize': 16})\n",
        "plt.axis('equal') "
      ],
      "execution_count": 149,
      "outputs": [
        {
          "output_type": "execute_result",
          "data": {
            "text/plain": [
              "(-1.1138080494567117,\n",
              " 1.1177383011956805,\n",
              " -1.1129928325123302,\n",
              " 1.1006187477307658)"
            ]
          },
          "metadata": {},
          "execution_count": 149
        },
        {
          "output_type": "display_data",
          "data": {
            "image/png": "[encoded data removed]",
            "text/plain": [
              "<Figure size 864x576 with 1 Axes>"
            ]
          },
          "metadata": {}
        }
      ]
    },
    {
      "cell_type": "code",
      "metadata": {
        "id": "-uVw4w98tBVr"
      },
      "source": [
        "empreenda = dados8.groupby(by=\"institution\")['Record Count'].sum().sort_values(ascending=False)"
      ],
      "execution_count": 150,
      "outputs": []
    },
    {
      "cell_type": "code",
      "metadata": {
        "colab": {
          "base_uri": "https://localhost:8080/"
        },
        "id": "cL-xIuSenIF2",
        "outputId": "354db57a-5c7f-4b09-bab0-e6831174e7c8"
      },
      "source": [
        "empreenda"
      ],
      "execution_count": 151,
      "outputs": [
        {
          "output_type": "execute_result",
          "data": {
            "text/plain": [
              "institution\n",
              "Faculdade de Odontologia    45\n",
              "Name: Record Count, dtype: int64"
            ]
          },
          "metadata": {},
          "execution_count": 151
        }
      ]
    },
    {
      "cell_type": "code",
      "metadata": {
        "colab": {
          "base_uri": "https://localhost:8080/",
          "height": 112
        },
        "id": "0LVvLZ0Rn6pT",
        "outputId": "125a4e11-39c0-43de-9017-44777993877a"
      },
      "source": [
        "empreenda_ranking = pd.DataFrame()\n",
        "empreenda_ranking['unidades'] = dados8['institution']\n",
        "empreenda_ranking['genero'] = dados8['genre']\n",
        "empreenda_ranking['total'] = dados8['Record Count']\n",
        "empreenda_ranking = empreenda_ranking.sort_values(['total'],ascending=False)\n",
        "empreenda_ranking"
      ],
      "execution_count": 152,
      "outputs": [
        {
          "output_type": "execute_result",
          "data": {
            "text/html": [
              "<div>\n",
              "<style scoped>\n",
              "    .dataframe tbody tr th:only-of-type {\n",
              "        vertical-align: middle;\n",
              "    }\n",
              "\n",
              "    .dataframe tbody tr th {\n",
              "        vertical-align: top;\n",
              "    }\n",
              "\n",
              "    .dataframe thead th {\n",
              "        text-align: right;\n",
              "    }\n",
              "</style>\n",
              "<table border=\"1\" class=\"dataframe\">\n",
              "  <thead>\n",
              "    <tr style=\"text-align: right;\">\n",
              "      <th></th>\n",
              "      <th>unidades</th>\n",
              "      <th>genero</th>\n",
              "      <th>total</th>\n",
              "    </tr>\n",
              "  </thead>\n",
              "  <tbody>\n",
              "    <tr>\n",
              "      <th>1</th>\n",
              "      <td>Faculdade de Odontologia</td>\n",
              "      <td>Female</td>\n",
              "      <td>27</td>\n",
              "    </tr>\n",
              "    <tr>\n",
              "      <th>0</th>\n",
              "      <td>Faculdade de Odontologia</td>\n",
              "      <td>Male</td>\n",
              "      <td>18</td>\n",
              "    </tr>\n",
              "  </tbody>\n",
              "</table>\n",
              "</div>"
            ],
            "text/plain": [
              "                   unidades  genero  total\n",
              "1  Faculdade de Odontologia  Female     27\n",
              "0  Faculdade de Odontologia    Male     18"
            ]
          },
          "metadata": {},
          "execution_count": 152
        }
      ]
    },
    {
      "cell_type": "code",
      "metadata": {
        "id": "nCpTPFLtpAib"
      },
      "source": [
        "empreenda_ranking_filtro = pd.DataFrame()\n",
        "empreenda_ranking_filtro['total'] = empreenda_ranking.groupby(by=\"unidades\", as_index=True)['total'].sum().sort_values(ascending=False)\n",
        "empreenda_ranking_filtro = empreenda_ranking_filtro[:10]\n",
        "empreenda_ranking_filtro.reset_index(inplace=True)"
      ],
      "execution_count": 153,
      "outputs": []
    },
    {
      "cell_type": "code",
      "metadata": {
        "colab": {
          "base_uri": "https://localhost:8080/",
          "height": 81
        },
        "id": "EoDmh2INs_UU",
        "outputId": "41716feb-f7de-472f-f785-d7b7554fdb38"
      },
      "source": [
        "empreenda_ranking_filtro"
      ],
      "execution_count": 154,
      "outputs": [
        {
          "output_type": "execute_result",
          "data": {
            "text/html": [
              "<div>\n",
              "<style scoped>\n",
              "    .dataframe tbody tr th:only-of-type {\n",
              "        vertical-align: middle;\n",
              "    }\n",
              "\n",
              "    .dataframe tbody tr th {\n",
              "        vertical-align: top;\n",
              "    }\n",
              "\n",
              "    .dataframe thead th {\n",
              "        text-align: right;\n",
              "    }\n",
              "</style>\n",
              "<table border=\"1\" class=\"dataframe\">\n",
              "  <thead>\n",
              "    <tr style=\"text-align: right;\">\n",
              "      <th></th>\n",
              "      <th>unidades</th>\n",
              "      <th>total</th>\n",
              "    </tr>\n",
              "  </thead>\n",
              "  <tbody>\n",
              "    <tr>\n",
              "      <th>0</th>\n",
              "      <td>Faculdade de Odontologia</td>\n",
              "      <td>45</td>\n",
              "    </tr>\n",
              "  </tbody>\n",
              "</table>\n",
              "</div>"
            ],
            "text/plain": [
              "                   unidades  total\n",
              "0  Faculdade de Odontologia     45"
            ]
          },
          "metadata": {},
          "execution_count": 154
        }
      ]
    }
  ]
}